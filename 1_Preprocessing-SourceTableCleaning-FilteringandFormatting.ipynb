{
 "cells": [
  {
   "cell_type": "markdown",
   "metadata": {},
   "source": [
    "# 1. MAF Source Data Pre-Processing \n",
    "##   Filtering and Formatting"
   ]
  },
  {
   "cell_type": "markdown",
   "metadata": {},
   "source": [
    "Version Updated Dec 11, Ready for publish"
   ]
  },
  {
   "cell_type": "code",
   "execution_count": 1,
   "metadata": {
    "collapsed": true
   },
   "outputs": [],
   "source": [
    "%matplotlib inline\n",
    "from IPython.core.interactiveshell import InteractiveShell\n",
    "InteractiveShell.ast_node_interactivity = \"all\"\n",
    "from IPython.display import Markdown, display\n",
    "def printmd(string):\n",
    "    display(Markdown(string))\n",
    "def printmd(string, color=None):\n",
    "    colorstr = \"<span style='color:{}'>{}</span>\".format(color, string)\n",
    "    display(Markdown(colorstr))\n",
    "from __future__ import print_function\n",
    "import numpy as np\n",
    "import pandas as pd\n",
    "from pandas import DataFrame   \n",
    "from pandas import pivot\n",
    "from pandas import tools\n",
    "import matplotlib.pyplot as plt\n",
    "from sklearn import preprocessing\n",
    "import os\n",
    "from os.path import join, dirname\n",
    "from tqdm import tqdm_notebook\n",
    "import cv2\n",
    "import re\n",
    "import io\n",
    "import glob\n",
    "import random\n",
    "import warnings\n",
    "import pickle\n",
    "import cloudpickle\n",
    "import sys \n",
    "import azureml\n",
    "import string\n",
    "from scipy import stats\n",
    "import pip\n",
    "import csv\n",
    "import pyparsing\n",
    "import tempfile  \n",
    "import logging\n",
    "from IPython.display import SVG\n",
    "import mkl\n",
    "import graphviz\n",
    "from azure.storage.blob import BlockBlobService\n",
    "import datetime"
   ]
  },
  {
   "cell_type": "code",
   "execution_count": 2,
   "metadata": {},
   "outputs": [
    {
     "data": {
      "text/plain": [
       "'D:\\\\MAFData'"
      ]
     },
     "execution_count": 2,
     "metadata": {},
     "output_type": "execute_result"
    }
   ],
   "source": [
    "os.chdir('D://MAFData')\n",
    "base_dir = 'D://MAFData'\n",
    "WorkingDir = os.path.join(base_dir, 'Workingdir')\n",
    "\n",
    "os.getcwd()"
   ]
  },
  {
   "cell_type": "markdown",
   "metadata": {},
   "source": [
    "## Import Portfolio Source Data"
   ]
  },
  {
   "cell_type": "code",
   "execution_count": 3,
   "metadata": {
    "collapsed": true
   },
   "outputs": [],
   "source": [
    "blob_account_name = \"<youraccountnamehere>\" # fill in your blob account name\n",
    "blob_account_key = \"<youraccountkeyhere>\"  # fill in your blob account key"
   ]
  },
  {
   "cell_type": "code",
   "execution_count": 4,
   "metadata": {
    "collapsed": true
   },
   "outputs": [],
   "source": [
    "mycontainer = \"<yourcontainernamehere>\"       # fill in the container name\n",
    "myblobname = \"<yourfile.whateverextension>\"        # fill in the blob name.  in our case we had .rpt sql report files.\n",
    "mydatafile = \"Portfolio\"        # fill in the output file name"
   ]
  },
  {
   "cell_type": "code",
   "execution_count": 8,
   "metadata": {
    "collapsed": true
   },
   "outputs": [],
   "source": [
    "#Read rpt from blob\n",
    "mydata = pd.read_csv(Portfolio, sep='\\t',error_bad_lines=False, index_col=False, dtype='unicode')\n",
    "print(mydata.shape)"
   ]
  },
  {
   "cell_type": "code",
   "execution_count": 6,
   "metadata": {},
   "outputs": [],
   "source": [
    "#Read in from rpt file from local drive for iterative work\n",
    "# mydata = pd.read_csv('df_Portfolio.rpt', sep='\\t',error_bad_lines=False, index_col=False, dtype='unicode')\n",
    "# mydata.shape\n",
    "# mydata.head(2)"
   ]
  },
  {
   "cell_type": "code",
   "execution_count": 7,
   "metadata": {},
   "outputs": [
    {
     "data": {
      "text/plain": [
       "(55978620, 45)"
      ]
     },
     "execution_count": 7,
     "metadata": {},
     "output_type": "execute_result"
    },
    {
     "data": {
      "text/html": [
       "<div>\n",
       "<style scoped>\n",
       "    .dataframe tbody tr th:only-of-type {\n",
       "        vertical-align: middle;\n",
       "    }\n",
       "\n",
       "    .dataframe tbody tr th {\n",
       "        vertical-align: top;\n",
       "    }\n",
       "\n",
       "    .dataframe thead th {\n",
       "        text-align: right;\n",
       "    }\n",
       "</style>\n",
       "<table border=\"1\" class=\"dataframe\">\n",
       "  <thead>\n",
       "    <tr style=\"text-align: right;\">\n",
       "      <th></th>\n",
       "      <th>Account_Number</th>\n",
       "      <th>MISDATE</th>\n",
       "      <th>ATTRITION_FLAG</th>\n",
       "      <th>ACCOUNT_CREATION_DATE</th>\n",
       "      <th>BLOCK_1</th>\n",
       "      <th>BLOCK_2</th>\n",
       "      <th>ACCOUNT_STATUS</th>\n",
       "      <th>TRANSFER_DATE</th>\n",
       "      <th>ACTUAL_CURRENT_BALANCE</th>\n",
       "      <th>AIF_FLAG</th>\n",
       "      <th>...</th>\n",
       "      <th>Next_Statement_Date</th>\n",
       "      <th>No_Of_Due_Stmt</th>\n",
       "      <th>Pct_Code</th>\n",
       "      <th>Previous_Card_Number</th>\n",
       "      <th>Product</th>\n",
       "      <th>Written_Off_Flag</th>\n",
       "      <th>APR_Rate</th>\n",
       "      <th>Product_Fee_Type</th>\n",
       "      <th>Product_Category</th>\n",
       "      <th>Account_Block_Desc</th>\n",
       "    </tr>\n",
       "  </thead>\n",
       "  <tbody>\n",
       "    <tr>\n",
       "      <th>0</th>\n",
       "      <td>MAFF_ACCT_0000000001</td>\n",
       "      <td>2016-11-27</td>\n",
       "      <td>OPEN</td>\n",
       "      <td>2016-11-27</td>\n",
       "      <td>NaN</td>\n",
       "      <td>NaN</td>\n",
       "      <td>D</td>\n",
       "      <td>NaN</td>\n",
       "      <td>0</td>\n",
       "      <td>Y</td>\n",
       "      <td>...</td>\n",
       "      <td>2016-12-03</td>\n",
       "      <td>0</td>\n",
       "      <td>004</td>\n",
       "      <td>0000000000000000</td>\n",
       "      <td>004</td>\n",
       "      <td>N</td>\n",
       "      <td>LOW</td>\n",
       "      <td>NON FEE</td>\n",
       "      <td>CASHBACK</td>\n",
       "      <td>OTHERS</td>\n",
       "    </tr>\n",
       "  </tbody>\n",
       "</table>\n",
       "<p>1 rows × 45 columns</p>\n",
       "</div>"
      ],
      "text/plain": [
       "         Account_Number     MISDATE ATTRITION_FLAG ACCOUNT_CREATION_DATE  \\\n",
       "0  MAFF_ACCT_0000000001  2016-11-27           OPEN            2016-11-27   \n",
       "\n",
       "  BLOCK_1 BLOCK_2 ACCOUNT_STATUS TRANSFER_DATE ACTUAL_CURRENT_BALANCE  \\\n",
       "0     NaN     NaN              D           NaN                      0   \n",
       "\n",
       "  AIF_FLAG        ...         Next_Statement_Date No_Of_Due_Stmt Pct_Code  \\\n",
       "0        Y        ...                  2016-12-03              0      004   \n",
       "\n",
       "  Previous_Card_Number Product Written_Off_Flag APR_Rate Product_Fee_Type  \\\n",
       "0     0000000000000000     004                N      LOW          NON FEE   \n",
       "\n",
       "  Product_Category Account_Block_Desc  \n",
       "0         CASHBACK             OTHERS  \n",
       "\n",
       "[1 rows x 45 columns]"
      ]
     },
     "execution_count": 7,
     "metadata": {},
     "output_type": "execute_result"
    }
   ],
   "source": [
    "#Account number is anonymized\n",
    "mydata.shape\n",
    "mydata.head(1)"
   ]
  },
  {
   "cell_type": "code",
   "execution_count": 8,
   "metadata": {
    "collapsed": true
   },
   "outputs": [],
   "source": [
    "#Filter to just the columns of interest\n",
    "\n",
    "Portfolio = mydata[['Account_Number',\n",
    " 'MISDATE',\n",
    " 'ATTRITION_FLAG',\n",
    " 'ACCOUNT_CREATION_DATE',\n",
    " 'ACTUAL_CURRENT_BALANCE',\n",
    " 'Credit_Limit',\n",
    " 'LAST_ACTIVITY_DATE',\n",
    " 'Last_Statement_Closing_Balance',\n",
    " 'Last_Statement_Date',\n",
    " 'Last_Statement_Minimum_Due',\n",
    " 'Monthly_Salary',\n",
    " 'Months_On_Book',\n",
    " 'Next_Statement_Date',\n",
    " 'Monthly_Salary',\n",
    " 'Nationality_Group',\n",
    " 'Next_Statement_Date',\n",
    " 'No_Of_Due_Stmt',\n",
    " 'Product',\n",
    " 'APR_Rate',\n",
    " 'Product_Fee_Type',\n",
    " 'Product_Category']]\n",
    "\n",
    "del mydata"
   ]
  },
  {
   "cell_type": "code",
   "execution_count": 17,
   "metadata": {},
   "outputs": [
    {
     "data": {
      "text/plain": [
       "(55978620, 21)"
      ]
     },
     "execution_count": 17,
     "metadata": {},
     "output_type": "execute_result"
    }
   ],
   "source": [
    "#See revised dimensions\n",
    "Portfolio.shape"
   ]
  },
  {
   "cell_type": "code",
   "execution_count": 11,
   "metadata": {},
   "outputs": [
    {
     "data": {
      "text/plain": [
       "(55978620, 21)"
      ]
     },
     "execution_count": 11,
     "metadata": {},
     "output_type": "execute_result"
    },
    {
     "data": {
      "text/html": [
       "<div>\n",
       "<style scoped>\n",
       "    .dataframe tbody tr th:only-of-type {\n",
       "        vertical-align: middle;\n",
       "    }\n",
       "\n",
       "    .dataframe tbody tr th {\n",
       "        vertical-align: top;\n",
       "    }\n",
       "\n",
       "    .dataframe thead th {\n",
       "        text-align: right;\n",
       "    }\n",
       "</style>\n",
       "<table border=\"1\" class=\"dataframe\">\n",
       "  <thead>\n",
       "    <tr style=\"text-align: right;\">\n",
       "      <th></th>\n",
       "      <th>Account_Number</th>\n",
       "      <th>MISDATE</th>\n",
       "      <th>ATTRITION_FLAG</th>\n",
       "      <th>ACCOUNT_CREATION_DATE</th>\n",
       "      <th>ACTUAL_CURRENT_BALANCE</th>\n",
       "      <th>Credit_Limit</th>\n",
       "      <th>LAST_ACTIVITY_DATE</th>\n",
       "      <th>Last_Statement_Closing_Balance</th>\n",
       "      <th>Last_Statement_Date</th>\n",
       "      <th>Last_Statement_Minimum_Due</th>\n",
       "      <th>...</th>\n",
       "      <th>Months_On_Book</th>\n",
       "      <th>Next_Statement_Date</th>\n",
       "      <th>Monthly_Salary</th>\n",
       "      <th>Nationality_Group</th>\n",
       "      <th>Next_Statement_Date</th>\n",
       "      <th>No_Of_Due_Stmt</th>\n",
       "      <th>Product</th>\n",
       "      <th>APR_Rate</th>\n",
       "      <th>Product_Fee_Type</th>\n",
       "      <th>Product_Category</th>\n",
       "    </tr>\n",
       "  </thead>\n",
       "  <tbody>\n",
       "    <tr>\n",
       "      <th>0</th>\n",
       "      <td>(55978619 rows affected)</td>\n",
       "      <td>NaN</td>\n",
       "      <td>NaN</td>\n",
       "      <td>NaN</td>\n",
       "      <td>NaN</td>\n",
       "      <td>NaN</td>\n",
       "      <td>NaT</td>\n",
       "      <td>NaN</td>\n",
       "      <td>NaN</td>\n",
       "      <td>NaN</td>\n",
       "      <td>...</td>\n",
       "      <td>NaN</td>\n",
       "      <td>NaN</td>\n",
       "      <td>NaN</td>\n",
       "      <td>NaN</td>\n",
       "      <td>NaN</td>\n",
       "      <td>NaN</td>\n",
       "      <td>NaN</td>\n",
       "      <td>NaN</td>\n",
       "      <td>NaN</td>\n",
       "      <td>NaN</td>\n",
       "    </tr>\n",
       "    <tr>\n",
       "      <th>1</th>\n",
       "      <td>MAFF_ACCT_0000000001</td>\n",
       "      <td>2016-11-27</td>\n",
       "      <td>OPEN</td>\n",
       "      <td>2016-11-27</td>\n",
       "      <td>0</td>\n",
       "      <td>10000</td>\n",
       "      <td>NaT</td>\n",
       "      <td>0</td>\n",
       "      <td>2016-11-03</td>\n",
       "      <td>0</td>\n",
       "      <td>...</td>\n",
       "      <td>0</td>\n",
       "      <td>2016-12-03</td>\n",
       "      <td>10000</td>\n",
       "      <td>06. OTHERS</td>\n",
       "      <td>2016-12-03</td>\n",
       "      <td>0</td>\n",
       "      <td>004</td>\n",
       "      <td>LOW</td>\n",
       "      <td>NON FEE</td>\n",
       "      <td>CASHBACK</td>\n",
       "    </tr>\n",
       "  </tbody>\n",
       "</table>\n",
       "<p>2 rows × 21 columns</p>\n",
       "</div>"
      ],
      "text/plain": [
       "             Account_Number     MISDATE ATTRITION_FLAG ACCOUNT_CREATION_DATE  \\\n",
       "0  (55978619 rows affected)         NaN            NaN                   NaN   \n",
       "1      MAFF_ACCT_0000000001  2016-11-27           OPEN            2016-11-27   \n",
       "\n",
       "  ACTUAL_CURRENT_BALANCE Credit_Limit LAST_ACTIVITY_DATE  \\\n",
       "0                    NaN          NaN                NaT   \n",
       "1                      0        10000                NaT   \n",
       "\n",
       "  Last_Statement_Closing_Balance Last_Statement_Date  \\\n",
       "0                            NaN                 NaN   \n",
       "1                              0          2016-11-03   \n",
       "\n",
       "  Last_Statement_Minimum_Due       ...        Months_On_Book  \\\n",
       "0                        NaN       ...                   NaN   \n",
       "1                          0       ...                     0   \n",
       "\n",
       "  Next_Statement_Date Monthly_Salary Nationality_Group Next_Statement_Date  \\\n",
       "0                 NaN            NaN               NaN                 NaN   \n",
       "1          2016-12-03          10000        06. OTHERS          2016-12-03   \n",
       "\n",
       "  No_Of_Due_Stmt Product APR_Rate Product_Fee_Type Product_Category  \n",
       "0            NaN     NaN      NaN              NaN              NaN  \n",
       "1              0     004      LOW          NON FEE         CASHBACK  \n",
       "\n",
       "[2 rows x 21 columns]"
      ]
     },
     "execution_count": 11,
     "metadata": {},
     "output_type": "execute_result"
    },
    {
     "data": {
      "text/html": [
       "<div>\n",
       "<style scoped>\n",
       "    .dataframe tbody tr th:only-of-type {\n",
       "        vertical-align: middle;\n",
       "    }\n",
       "\n",
       "    .dataframe tbody tr th {\n",
       "        vertical-align: top;\n",
       "    }\n",
       "\n",
       "    .dataframe thead th {\n",
       "        text-align: right;\n",
       "    }\n",
       "</style>\n",
       "<table border=\"1\" class=\"dataframe\">\n",
       "  <thead>\n",
       "    <tr style=\"text-align: right;\">\n",
       "      <th></th>\n",
       "      <th>Account_Number</th>\n",
       "      <th>MISDATE</th>\n",
       "      <th>ATTRITION_FLAG</th>\n",
       "      <th>ACCOUNT_CREATION_DATE</th>\n",
       "      <th>ACTUAL_CURRENT_BALANCE</th>\n",
       "      <th>Credit_Limit</th>\n",
       "      <th>LAST_ACTIVITY_DATE</th>\n",
       "      <th>Last_Statement_Closing_Balance</th>\n",
       "      <th>Last_Statement_Date</th>\n",
       "      <th>Last_Statement_Minimum_Due</th>\n",
       "      <th>...</th>\n",
       "      <th>Months_On_Book</th>\n",
       "      <th>Next_Statement_Date</th>\n",
       "      <th>Monthly_Salary</th>\n",
       "      <th>Nationality_Group</th>\n",
       "      <th>Next_Statement_Date</th>\n",
       "      <th>No_Of_Due_Stmt</th>\n",
       "      <th>Product</th>\n",
       "      <th>APR_Rate</th>\n",
       "      <th>Product_Fee_Type</th>\n",
       "      <th>Product_Category</th>\n",
       "    </tr>\n",
       "  </thead>\n",
       "  <tbody>\n",
       "    <tr>\n",
       "      <th>55978619</th>\n",
       "      <td>MAFF_ACCT_0000269020</td>\n",
       "      <td>2017-09-30</td>\n",
       "      <td>OPEN</td>\n",
       "      <td>2017-09-30</td>\n",
       "      <td>0</td>\n",
       "      <td>5000</td>\n",
       "      <td>NaT</td>\n",
       "      <td>0</td>\n",
       "      <td>2017-09-05</td>\n",
       "      <td>0</td>\n",
       "      <td>...</td>\n",
       "      <td>0</td>\n",
       "      <td>2017-10-05</td>\n",
       "      <td>50000</td>\n",
       "      <td>01. INDIA</td>\n",
       "      <td>2017-10-05</td>\n",
       "      <td>0</td>\n",
       "      <td>009</td>\n",
       "      <td>LOW</td>\n",
       "      <td>FEE PAYING</td>\n",
       "      <td>VOYAGER</td>\n",
       "    </tr>\n",
       "  </tbody>\n",
       "</table>\n",
       "<p>1 rows × 21 columns</p>\n",
       "</div>"
      ],
      "text/plain": [
       "                Account_Number     MISDATE ATTRITION_FLAG  \\\n",
       "55978619  MAFF_ACCT_0000269020  2017-09-30           OPEN   \n",
       "\n",
       "         ACCOUNT_CREATION_DATE ACTUAL_CURRENT_BALANCE Credit_Limit  \\\n",
       "55978619            2017-09-30                      0         5000   \n",
       "\n",
       "         LAST_ACTIVITY_DATE Last_Statement_Closing_Balance  \\\n",
       "55978619                NaT                              0   \n",
       "\n",
       "         Last_Statement_Date Last_Statement_Minimum_Due       ...         \\\n",
       "55978619          2017-09-05                          0       ...          \n",
       "\n",
       "         Months_On_Book Next_Statement_Date Monthly_Salary Nationality_Group  \\\n",
       "55978619              0          2017-10-05          50000         01. INDIA   \n",
       "\n",
       "         Next_Statement_Date No_Of_Due_Stmt Product APR_Rate Product_Fee_Type  \\\n",
       "55978619          2017-10-05              0     009      LOW       FEE PAYING   \n",
       "\n",
       "         Product_Category  \n",
       "55978619          VOYAGER  \n",
       "\n",
       "[1 rows x 21 columns]"
      ]
     },
     "execution_count": 11,
     "metadata": {},
     "output_type": "execute_result"
    },
    {
     "data": {
      "text/plain": [
       "['Account_Number',\n",
       " 'MISDATE',\n",
       " 'ATTRITION_FLAG',\n",
       " 'ACCOUNT_CREATION_DATE',\n",
       " 'ACTUAL_CURRENT_BALANCE',\n",
       " 'Credit_Limit',\n",
       " 'LAST_ACTIVITY_DATE',\n",
       " 'Last_Statement_Closing_Balance',\n",
       " 'Last_Statement_Date',\n",
       " 'Last_Statement_Minimum_Due',\n",
       " 'Monthly_Salary',\n",
       " 'Months_On_Book',\n",
       " 'Next_Statement_Date',\n",
       " 'Monthly_Salary',\n",
       " 'Nationality_Group',\n",
       " 'Next_Statement_Date',\n",
       " 'No_Of_Due_Stmt',\n",
       " 'Product',\n",
       " 'APR_Rate',\n",
       " 'Product_Fee_Type',\n",
       " 'Product_Category']"
      ]
     },
     "execution_count": 11,
     "metadata": {},
     "output_type": "execute_result"
    }
   ],
   "source": [
    "#Reformat date, filter and review head and tail of dataframe.\n",
    "Portfolio['LAST_ACTIVITY_DATE'] = Portfolio['LAST_ACTIVITY_DATE'].astype('datetime64[ns]')\n",
    "Portfolio = Portfolio.sort_values(['Account_Number', 'MISDATE'], ascending=[True, True])\n",
    "Portfolio = Portfolio.reset_index(drop=True)\n",
    "Portfolio.shape\n",
    "Portfolio.head(2)\n",
    "Portfolio.tail(1)\n",
    "list(Portfolio.columns.values)"
   ]
  },
  {
   "cell_type": "code",
   "execution_count": null,
   "metadata": {},
   "outputs": [],
   "source": [
    "#Drop garbage first column\n",
    "Portfolio = Portfolio.drop(Portfolio.index[0])"
   ]
  },
  {
   "cell_type": "code",
   "execution_count": 13,
   "metadata": {},
   "outputs": [
    {
     "data": {
      "text/plain": [
       "(55978619, 21)"
      ]
     },
     "execution_count": 13,
     "metadata": {},
     "output_type": "execute_result"
    },
    {
     "data": {
      "text/html": [
       "<div>\n",
       "<style scoped>\n",
       "    .dataframe tbody tr th:only-of-type {\n",
       "        vertical-align: middle;\n",
       "    }\n",
       "\n",
       "    .dataframe tbody tr th {\n",
       "        vertical-align: top;\n",
       "    }\n",
       "\n",
       "    .dataframe thead th {\n",
       "        text-align: right;\n",
       "    }\n",
       "</style>\n",
       "<table border=\"1\" class=\"dataframe\">\n",
       "  <thead>\n",
       "    <tr style=\"text-align: right;\">\n",
       "      <th></th>\n",
       "      <th>Account_Number</th>\n",
       "      <th>MISDATE</th>\n",
       "      <th>ATTRITION_FLAG</th>\n",
       "      <th>ACCOUNT_CREATION_DATE</th>\n",
       "      <th>ACTUAL_CURRENT_BALANCE</th>\n",
       "      <th>Credit_Limit</th>\n",
       "      <th>LAST_ACTIVITY_DATE</th>\n",
       "      <th>Last_Statement_Closing_Balance</th>\n",
       "      <th>Last_Statement_Date</th>\n",
       "      <th>Last_Statement_Minimum_Due</th>\n",
       "      <th>...</th>\n",
       "      <th>Months_On_Book</th>\n",
       "      <th>Next_Statement_Date</th>\n",
       "      <th>Monthly_Salary</th>\n",
       "      <th>Nationality_Group</th>\n",
       "      <th>Next_Statement_Date</th>\n",
       "      <th>No_Of_Due_Stmt</th>\n",
       "      <th>Product</th>\n",
       "      <th>APR_Rate</th>\n",
       "      <th>Product_Fee_Type</th>\n",
       "      <th>Product_Category</th>\n",
       "    </tr>\n",
       "  </thead>\n",
       "  <tbody>\n",
       "    <tr>\n",
       "      <th>0</th>\n",
       "      <td>MAFF_ACCT_0000000001</td>\n",
       "      <td>2016-11-27</td>\n",
       "      <td>OPEN</td>\n",
       "      <td>2016-11-27</td>\n",
       "      <td>0</td>\n",
       "      <td>10000</td>\n",
       "      <td>NaT</td>\n",
       "      <td>0</td>\n",
       "      <td>2016-11-03</td>\n",
       "      <td>0</td>\n",
       "      <td>...</td>\n",
       "      <td>0</td>\n",
       "      <td>2016-12-03</td>\n",
       "      <td>10000</td>\n",
       "      <td>06. OTHERS</td>\n",
       "      <td>2016-12-03</td>\n",
       "      <td>0</td>\n",
       "      <td>004</td>\n",
       "      <td>LOW</td>\n",
       "      <td>NON FEE</td>\n",
       "      <td>CASHBACK</td>\n",
       "    </tr>\n",
       "  </tbody>\n",
       "</table>\n",
       "<p>1 rows × 21 columns</p>\n",
       "</div>"
      ],
      "text/plain": [
       "         Account_Number     MISDATE ATTRITION_FLAG ACCOUNT_CREATION_DATE  \\\n",
       "0  MAFF_ACCT_0000000001  2016-11-27           OPEN            2016-11-27   \n",
       "\n",
       "  ACTUAL_CURRENT_BALANCE Credit_Limit LAST_ACTIVITY_DATE  \\\n",
       "0                      0        10000                NaT   \n",
       "\n",
       "  Last_Statement_Closing_Balance Last_Statement_Date  \\\n",
       "0                              0          2016-11-03   \n",
       "\n",
       "  Last_Statement_Minimum_Due       ...        Months_On_Book  \\\n",
       "0                          0       ...                     0   \n",
       "\n",
       "  Next_Statement_Date Monthly_Salary Nationality_Group Next_Statement_Date  \\\n",
       "0          2016-12-03          10000        06. OTHERS          2016-12-03   \n",
       "\n",
       "  No_Of_Due_Stmt Product APR_Rate Product_Fee_Type Product_Category  \n",
       "0              0     004      LOW          NON FEE         CASHBACK  \n",
       "\n",
       "[1 rows x 21 columns]"
      ]
     },
     "execution_count": 13,
     "metadata": {},
     "output_type": "execute_result"
    }
   ],
   "source": [
    "#Fill in numerical NaN with '0'\n",
    "Portfolio = Portfolio.reset_index(drop=True)\n",
    "Portfolio = Portfolio.dropna(subset=['Account_Number'])\n",
    "Portfolio = Portfolio.dropna(subset=['MISDATE'])\n",
    "Portfolio['Last_Statement_Closing_Balance'].fillna(0, inplace=True)\n",
    "Portfolio['ACTUAL_CURRENT_BALANCE'].fillna(0, inplace=True)\n",
    "Portfolio['Last_Statement_Minimum_Due'].fillna(0, inplace=True)\n",
    "Portfolio = Portfolio.reset_index(drop=True)\n",
    "Portfolio.shape\n",
    "Portfolio.head(1)"
   ]
  },
  {
   "cell_type": "code",
   "execution_count": 14,
   "metadata": {
    "collapsed": true
   },
   "outputs": [],
   "source": [
    "#Write out to pickle file for later reference\n",
    "#output = open('Porfolio_Source_v2.pkl', 'wb')\n",
    "#pickle.dump(Portfolio, output)\n",
    "#output.close()"
   ]
  },
  {
   "cell_type": "markdown",
   "metadata": {},
   "source": [
    "#### Filter Portfolio file to just 'open' or 'voluntary"
   ]
  },
  {
   "cell_type": "code",
   "execution_count": 15,
   "metadata": {},
   "outputs": [
    {
     "data": {
      "text/plain": [
       "array(['OPEN', 'VOLUNTARY'], dtype=object)"
      ]
     },
     "execution_count": 15,
     "metadata": {},
     "output_type": "execute_result"
    },
    {
     "data": {
      "text/plain": [
       "array(['OPEN', 'VOLUNTARY'], dtype=object)"
      ]
     },
     "execution_count": 15,
     "metadata": {},
     "output_type": "execute_result"
    }
   ],
   "source": [
    "Portfolio['ATTRITION_FLAG'].unique()\n",
    "Portfolio = Portfolio.loc[(Portfolio['ATTRITION_FLAG']==\"OPEN\") | (Portfolio['ATTRITION_FLAG']==\"VOLUNTARY\"), :]\n",
    "Portfolio['ATTRITION_FLAG'].unique()"
   ]
  },
  {
   "cell_type": "code",
   "execution_count": 16,
   "metadata": {},
   "outputs": [
    {
     "data": {
      "text/plain": [
       "array(['OPEN', 'VOLUNTARY'], dtype=object)"
      ]
     },
     "execution_count": 16,
     "metadata": {},
     "output_type": "execute_result"
    },
    {
     "data": {
      "text/plain": [
       "(55978619, 21)"
      ]
     },
     "execution_count": 16,
     "metadata": {},
     "output_type": "execute_result"
    }
   ],
   "source": [
    "# Fill in Numerical NaN with 0\n",
    "Portfolio['Last_Statement_Closing_Balance'].fillna(0, inplace=True)\n",
    "Portfolio['ACTUAL_CURRENT_BALANCE'].fillna(0, inplace=True)\n",
    "Portfolio['Last_Statement_Minimum_Due'].fillna(0, inplace=True)\n",
    "Portfolio['ATTRITION_FLAG'].unique()\n",
    "Portfolio['ATTRITION_FLAG'] = Portfolio.ATTRITION_FLAG.astype(str)\n",
    "\n",
    "Portfolio = Portfolio.reset_index(drop=True)\n",
    "Portfolio.shape"
   ]
  },
  {
   "cell_type": "code",
   "execution_count": 17,
   "metadata": {},
   "outputs": [
    {
     "data": {
      "text/plain": [
       "(55978619, 21)"
      ]
     },
     "execution_count": 17,
     "metadata": {},
     "output_type": "execute_result"
    }
   ],
   "source": [
    "#Format data types \n",
    "Portfolio = pd.DataFrame(Portfolio)\n",
    "Portfolio['MISDATE'] = Portfolio['MISDATE'].astype('datetime64[ns]')\n",
    "Portfolio['Account_Number'] = Portfolio['Account_Number'].astype('str')\n",
    "Portfolio.shape"
   ]
  },
  {
   "cell_type": "code",
   "execution_count": 24,
   "metadata": {},
   "outputs": [],
   "source": [
    "\n",
    "Portfolio.sort_values(['Account_Number', 'MISDATE'], ascending=[True, False], inplace=True)\n",
    "Portfolio.reset_index(drop=True, inplace=True)"
   ]
  },
  {
   "cell_type": "code",
   "execution_count": null,
   "metadata": {
    "collapsed": true
   },
   "outputs": [],
   "source": []
  },
  {
   "cell_type": "markdown",
   "metadata": {},
   "source": [
    "### Take accounts where `Months_On_Book` > 6"
   ]
  },
  {
   "cell_type": "code",
   "execution_count": 21,
   "metadata": {},
   "outputs": [
    {
     "data": {
      "text/plain": [
       "(127999, 21)"
      ]
     },
     "execution_count": 21,
     "metadata": {},
     "output_type": "execute_result"
    }
   ],
   "source": [
    "Portfolio['Months_On_Book'] = Portfolio['Months_On_Book'].astype(int)\n",
    "justaccounts = Portfolio.groupby('Account_Number').head(1)\n",
    "justaccounts.shape"
   ]
  },
  {
   "cell_type": "code",
   "execution_count": 22,
   "metadata": {},
   "outputs": [
    {
     "data": {
      "text/html": [
       "<div>\n",
       "<style scoped>\n",
       "    .dataframe tbody tr th:only-of-type {\n",
       "        vertical-align: middle;\n",
       "    }\n",
       "\n",
       "    .dataframe tbody tr th {\n",
       "        vertical-align: top;\n",
       "    }\n",
       "\n",
       "    .dataframe thead th {\n",
       "        text-align: right;\n",
       "    }\n",
       "</style>\n",
       "<table border=\"1\" class=\"dataframe\">\n",
       "  <thead>\n",
       "    <tr style=\"text-align: right;\">\n",
       "      <th></th>\n",
       "      <th>Account_Number</th>\n",
       "      <th>MISDATE</th>\n",
       "      <th>ATTRITION_FLAG</th>\n",
       "      <th>ACCOUNT_CREATION_DATE</th>\n",
       "      <th>ACTUAL_CURRENT_BALANCE</th>\n",
       "      <th>Credit_Limit</th>\n",
       "      <th>LAST_ACTIVITY_DATE</th>\n",
       "      <th>Last_Statement_Closing_Balance</th>\n",
       "      <th>Last_Statement_Date</th>\n",
       "      <th>Last_Statement_Minimum_Due</th>\n",
       "      <th>...</th>\n",
       "      <th>Months_On_Book</th>\n",
       "      <th>Next_Statement_Date</th>\n",
       "      <th>Monthly_Salary</th>\n",
       "      <th>Nationality_Group</th>\n",
       "      <th>Next_Statement_Date</th>\n",
       "      <th>No_Of_Due_Stmt</th>\n",
       "      <th>Product</th>\n",
       "      <th>APR_Rate</th>\n",
       "      <th>Product_Fee_Type</th>\n",
       "      <th>Product_Category</th>\n",
       "    </tr>\n",
       "  </thead>\n",
       "  <tbody>\n",
       "    <tr>\n",
       "      <th>0</th>\n",
       "      <td>MAFF_ACCT_0000000001</td>\n",
       "      <td>2017-04-25</td>\n",
       "      <td>VOLUNTARY</td>\n",
       "      <td>2016-11-27</td>\n",
       "      <td>0</td>\n",
       "      <td>10000</td>\n",
       "      <td>2017-04-20</td>\n",
       "      <td>0</td>\n",
       "      <td>2017-04-03</td>\n",
       "      <td>0</td>\n",
       "      <td>...</td>\n",
       "      <td>5</td>\n",
       "      <td>2017-05-03</td>\n",
       "      <td>10000</td>\n",
       "      <td>06. OTHERS</td>\n",
       "      <td>2017-05-03</td>\n",
       "      <td>0</td>\n",
       "      <td>004</td>\n",
       "      <td>LOW</td>\n",
       "      <td>NON FEE</td>\n",
       "      <td>CASHBACK</td>\n",
       "    </tr>\n",
       "  </tbody>\n",
       "</table>\n",
       "<p>1 rows × 21 columns</p>\n",
       "</div>"
      ],
      "text/plain": [
       "         Account_Number    MISDATE ATTRITION_FLAG ACCOUNT_CREATION_DATE  \\\n",
       "0  MAFF_ACCT_0000000001 2017-04-25      VOLUNTARY            2016-11-27   \n",
       "\n",
       "  ACTUAL_CURRENT_BALANCE Credit_Limit LAST_ACTIVITY_DATE  \\\n",
       "0                      0        10000         2017-04-20   \n",
       "\n",
       "  Last_Statement_Closing_Balance Last_Statement_Date  \\\n",
       "0                              0          2017-04-03   \n",
       "\n",
       "  Last_Statement_Minimum_Due       ...        Months_On_Book  \\\n",
       "0                          0       ...                     5   \n",
       "\n",
       "  Next_Statement_Date Monthly_Salary Nationality_Group Next_Statement_Date  \\\n",
       "0          2017-05-03          10000        06. OTHERS          2017-05-03   \n",
       "\n",
       "  No_Of_Due_Stmt Product APR_Rate Product_Fee_Type Product_Category  \n",
       "0              0     004      LOW          NON FEE         CASHBACK  \n",
       "\n",
       "[1 rows x 21 columns]"
      ]
     },
     "execution_count": 22,
     "metadata": {},
     "output_type": "execute_result"
    },
    {
     "data": {
      "text/plain": [
       "(26011, 21)"
      ]
     },
     "execution_count": 22,
     "metadata": {},
     "output_type": "execute_result"
    },
    {
     "data": {
      "text/plain": [
       "pandas.core.series.Series"
      ]
     },
     "execution_count": 22,
     "metadata": {},
     "output_type": "execute_result"
    }
   ],
   "source": [
    "newaccounts = justaccounts[justaccounts['Months_On_Book']<7]\n",
    "newaccounts.head(1)\n",
    "newaccounts.shape\n",
    "newaccounts = newaccounts['Account_Number']\n",
    "type(newaccounts)"
   ]
  },
  {
   "cell_type": "code",
   "execution_count": 30,
   "metadata": {},
   "outputs": [
    {
     "data": {
      "text/plain": [
       "101988"
      ]
     },
     "execution_count": 30,
     "metadata": {},
     "output_type": "execute_result"
    },
    {
     "data": {
      "text/plain": [
       "101988"
      ]
     },
     "execution_count": 30,
     "metadata": {},
     "output_type": "execute_result"
    },
    {
     "data": {
      "text/plain": [
       "(34813986, 21)"
      ]
     },
     "execution_count": 30,
     "metadata": {},
     "output_type": "execute_result"
    },
    {
     "data": {
      "text/html": [
       "<div>\n",
       "<style scoped>\n",
       "    .dataframe tbody tr th:only-of-type {\n",
       "        vertical-align: middle;\n",
       "    }\n",
       "\n",
       "    .dataframe tbody tr th {\n",
       "        vertical-align: top;\n",
       "    }\n",
       "\n",
       "    .dataframe thead th {\n",
       "        text-align: right;\n",
       "    }\n",
       "</style>\n",
       "<table border=\"1\" class=\"dataframe\">\n",
       "  <thead>\n",
       "    <tr style=\"text-align: right;\">\n",
       "      <th></th>\n",
       "      <th>Account_Number</th>\n",
       "      <th>MISDATE</th>\n",
       "      <th>ATTRITION_FLAG</th>\n",
       "      <th>ACCOUNT_CREATION_DATE</th>\n",
       "      <th>ACTUAL_CURRENT_BALANCE</th>\n",
       "      <th>Credit_Limit</th>\n",
       "      <th>LAST_ACTIVITY_DATE</th>\n",
       "      <th>Last_Statement_Closing_Balance</th>\n",
       "      <th>Last_Statement_Date</th>\n",
       "      <th>Last_Statement_Minimum_Due</th>\n",
       "      <th>...</th>\n",
       "      <th>Months_On_Book</th>\n",
       "      <th>Next_Statement_Date</th>\n",
       "      <th>Monthly_Salary</th>\n",
       "      <th>Nationality_Group</th>\n",
       "      <th>Next_Statement_Date</th>\n",
       "      <th>No_Of_Due_Stmt</th>\n",
       "      <th>Product</th>\n",
       "      <th>APR_Rate</th>\n",
       "      <th>Product_Fee_Type</th>\n",
       "      <th>Product_Category</th>\n",
       "    </tr>\n",
       "  </thead>\n",
       "  <tbody>\n",
       "    <tr>\n",
       "      <th>0</th>\n",
       "      <td>MAFF_ACCT_0000002125</td>\n",
       "      <td>2017-09-30</td>\n",
       "      <td>OPEN</td>\n",
       "      <td>2012-10-24</td>\n",
       "      <td>12554.14</td>\n",
       "      <td>18000</td>\n",
       "      <td>2017-09-30</td>\n",
       "      <td>17391</td>\n",
       "      <td>2017-09-10</td>\n",
       "      <td>869</td>\n",
       "      <td>...</td>\n",
       "      <td>59</td>\n",
       "      <td>2017-10-10</td>\n",
       "      <td>9000</td>\n",
       "      <td>06. OTHERS</td>\n",
       "      <td>2017-10-10</td>\n",
       "      <td>0</td>\n",
       "      <td>007</td>\n",
       "      <td>LOW</td>\n",
       "      <td>NON FEE</td>\n",
       "      <td>CASHBACK</td>\n",
       "    </tr>\n",
       "  </tbody>\n",
       "</table>\n",
       "<p>1 rows × 21 columns</p>\n",
       "</div>"
      ],
      "text/plain": [
       "         Account_Number    MISDATE ATTRITION_FLAG ACCOUNT_CREATION_DATE  \\\n",
       "0  MAFF_ACCT_0000002125 2017-09-30           OPEN            2012-10-24   \n",
       "\n",
       "  ACTUAL_CURRENT_BALANCE Credit_Limit LAST_ACTIVITY_DATE  \\\n",
       "0               12554.14        18000         2017-09-30   \n",
       "\n",
       "  Last_Statement_Closing_Balance Last_Statement_Date  \\\n",
       "0                          17391          2017-09-10   \n",
       "\n",
       "  Last_Statement_Minimum_Due       ...        Months_On_Book  \\\n",
       "0                        869       ...                    59   \n",
       "\n",
       "  Next_Statement_Date Monthly_Salary Nationality_Group Next_Statement_Date  \\\n",
       "0          2017-10-10           9000        06. OTHERS          2017-10-10   \n",
       "\n",
       "  No_Of_Due_Stmt Product APR_Rate Product_Fee_Type Product_Category  \n",
       "0              0     007      LOW          NON FEE         CASHBACK  \n",
       "\n",
       "[1 rows x 21 columns]"
      ]
     },
     "execution_count": 30,
     "metadata": {},
     "output_type": "execute_result"
    },
    {
     "data": {
      "text/html": [
       "<div>\n",
       "<style scoped>\n",
       "    .dataframe tbody tr th:only-of-type {\n",
       "        vertical-align: middle;\n",
       "    }\n",
       "\n",
       "    .dataframe tbody tr th {\n",
       "        vertical-align: top;\n",
       "    }\n",
       "\n",
       "    .dataframe thead th {\n",
       "        text-align: right;\n",
       "    }\n",
       "</style>\n",
       "<table border=\"1\" class=\"dataframe\">\n",
       "  <thead>\n",
       "    <tr style=\"text-align: right;\">\n",
       "      <th></th>\n",
       "      <th>Account_Number</th>\n",
       "      <th>MISDATE</th>\n",
       "      <th>ATTRITION_FLAG</th>\n",
       "      <th>ACCOUNT_CREATION_DATE</th>\n",
       "      <th>ACTUAL_CURRENT_BALANCE</th>\n",
       "      <th>Credit_Limit</th>\n",
       "      <th>LAST_ACTIVITY_DATE</th>\n",
       "      <th>Last_Statement_Closing_Balance</th>\n",
       "      <th>Last_Statement_Date</th>\n",
       "      <th>Last_Statement_Minimum_Due</th>\n",
       "      <th>...</th>\n",
       "      <th>Months_On_Book</th>\n",
       "      <th>Next_Statement_Date</th>\n",
       "      <th>Monthly_Salary</th>\n",
       "      <th>Nationality_Group</th>\n",
       "      <th>Next_Statement_Date</th>\n",
       "      <th>No_Of_Due_Stmt</th>\n",
       "      <th>Product</th>\n",
       "      <th>APR_Rate</th>\n",
       "      <th>Product_Fee_Type</th>\n",
       "      <th>Product_Category</th>\n",
       "    </tr>\n",
       "  </thead>\n",
       "  <tbody>\n",
       "    <tr>\n",
       "      <th>34813985</th>\n",
       "      <td>MAFF_ACCT_0000267096</td>\n",
       "      <td>2017-03-05</td>\n",
       "      <td>OPEN</td>\n",
       "      <td>2017-02-22</td>\n",
       "      <td>0</td>\n",
       "      <td>15000</td>\n",
       "      <td>NaT</td>\n",
       "      <td>0</td>\n",
       "      <td>2017-02-10</td>\n",
       "      <td>0</td>\n",
       "      <td>...</td>\n",
       "      <td>1</td>\n",
       "      <td>2017-03-10</td>\n",
       "      <td>15000</td>\n",
       "      <td>01. INDIA</td>\n",
       "      <td>2017-03-10</td>\n",
       "      <td>0</td>\n",
       "      <td>009</td>\n",
       "      <td>LOW</td>\n",
       "      <td>FEE PAYING</td>\n",
       "      <td>VOYAGER</td>\n",
       "    </tr>\n",
       "  </tbody>\n",
       "</table>\n",
       "<p>1 rows × 21 columns</p>\n",
       "</div>"
      ],
      "text/plain": [
       "                Account_Number    MISDATE ATTRITION_FLAG  \\\n",
       "34813985  MAFF_ACCT_0000267096 2017-03-05           OPEN   \n",
       "\n",
       "         ACCOUNT_CREATION_DATE ACTUAL_CURRENT_BALANCE Credit_Limit  \\\n",
       "34813985            2017-02-22                      0        15000   \n",
       "\n",
       "         LAST_ACTIVITY_DATE Last_Statement_Closing_Balance  \\\n",
       "34813985                NaT                              0   \n",
       "\n",
       "         Last_Statement_Date Last_Statement_Minimum_Due       ...         \\\n",
       "34813985          2017-02-10                          0       ...          \n",
       "\n",
       "         Months_On_Book Next_Statement_Date Monthly_Salary Nationality_Group  \\\n",
       "34813985              1          2017-03-10          15000         01. INDIA   \n",
       "\n",
       "         Next_Statement_Date No_Of_Due_Stmt Product APR_Rate Product_Fee_Type  \\\n",
       "34813985          2017-03-10              0     009      LOW       FEE PAYING   \n",
       "\n",
       "         Product_Category  \n",
       "34813985          VOYAGER  \n",
       "\n",
       "[1 rows x 21 columns]"
      ]
     },
     "execution_count": 30,
     "metadata": {},
     "output_type": "execute_result"
    }
   ],
   "source": [
    "Portfolio['Account_Number'].nunique()\n",
    "Portfolio = Portfolio[~Portfolio['Account_Number'].isin(newaccounts)]\n",
    "Portfolio['Account_Number'].nunique()\n",
    "Portfolio.sort_values(['Account_Number', 'MISDATE'], ascending=[True, False], inplace=True)\n",
    "Portfolio = Portfolio.reset_index(drop=True)\n",
    "Portfolio.shape\n",
    "Portfolio.head(1)\n",
    "Portfolio.tail(1)"
   ]
  },
  {
   "cell_type": "code",
   "execution_count": null,
   "metadata": {
    "collapsed": true
   },
   "outputs": [],
   "source": []
  },
  {
   "cell_type": "markdown",
   "metadata": {},
   "source": [
    "### Trim to 365 most recent timesteps for each account number\n"
   ]
  },
  {
   "cell_type": "code",
   "execution_count": 25,
   "metadata": {},
   "outputs": [
    {
     "data": {
      "text/plain": [
       "(37188747, 21)"
      ]
     },
     "execution_count": 25,
     "metadata": {},
     "output_type": "execute_result"
    },
    {
     "data": {
      "text/html": [
       "<div>\n",
       "<style scoped>\n",
       "    .dataframe tbody tr th:only-of-type {\n",
       "        vertical-align: middle;\n",
       "    }\n",
       "\n",
       "    .dataframe tbody tr th {\n",
       "        vertical-align: top;\n",
       "    }\n",
       "\n",
       "    .dataframe thead th {\n",
       "        text-align: right;\n",
       "    }\n",
       "</style>\n",
       "<table border=\"1\" class=\"dataframe\">\n",
       "  <thead>\n",
       "    <tr style=\"text-align: right;\">\n",
       "      <th></th>\n",
       "      <th>Account_Number</th>\n",
       "      <th>MISDATE</th>\n",
       "      <th>ATTRITION_FLAG</th>\n",
       "      <th>ACCOUNT_CREATION_DATE</th>\n",
       "      <th>ACTUAL_CURRENT_BALANCE</th>\n",
       "      <th>Credit_Limit</th>\n",
       "      <th>LAST_ACTIVITY_DATE</th>\n",
       "      <th>Last_Statement_Closing_Balance</th>\n",
       "      <th>Last_Statement_Date</th>\n",
       "      <th>Last_Statement_Minimum_Due</th>\n",
       "      <th>...</th>\n",
       "      <th>Months_On_Book</th>\n",
       "      <th>Next_Statement_Date</th>\n",
       "      <th>Monthly_Salary</th>\n",
       "      <th>Nationality_Group</th>\n",
       "      <th>Next_Statement_Date</th>\n",
       "      <th>No_Of_Due_Stmt</th>\n",
       "      <th>Product</th>\n",
       "      <th>APR_Rate</th>\n",
       "      <th>Product_Fee_Type</th>\n",
       "      <th>Product_Category</th>\n",
       "    </tr>\n",
       "  </thead>\n",
       "  <tbody>\n",
       "    <tr>\n",
       "      <th>0</th>\n",
       "      <td>MAFF_ACCT_0000000001</td>\n",
       "      <td>2017-04-25</td>\n",
       "      <td>VOLUNTARY</td>\n",
       "      <td>2016-11-27</td>\n",
       "      <td>0</td>\n",
       "      <td>10000</td>\n",
       "      <td>2017-04-20</td>\n",
       "      <td>0</td>\n",
       "      <td>2017-04-03</td>\n",
       "      <td>0</td>\n",
       "      <td>...</td>\n",
       "      <td>5</td>\n",
       "      <td>2017-05-03</td>\n",
       "      <td>10000</td>\n",
       "      <td>06. OTHERS</td>\n",
       "      <td>2017-05-03</td>\n",
       "      <td>0</td>\n",
       "      <td>004</td>\n",
       "      <td>LOW</td>\n",
       "      <td>NON FEE</td>\n",
       "      <td>CASHBACK</td>\n",
       "    </tr>\n",
       "  </tbody>\n",
       "</table>\n",
       "<p>1 rows × 21 columns</p>\n",
       "</div>"
      ],
      "text/plain": [
       "         Account_Number    MISDATE ATTRITION_FLAG ACCOUNT_CREATION_DATE  \\\n",
       "0  MAFF_ACCT_0000000001 2017-04-25      VOLUNTARY            2016-11-27   \n",
       "\n",
       "  ACTUAL_CURRENT_BALANCE Credit_Limit LAST_ACTIVITY_DATE  \\\n",
       "0                      0        10000         2017-04-20   \n",
       "\n",
       "  Last_Statement_Closing_Balance Last_Statement_Date  \\\n",
       "0                              0          2017-04-03   \n",
       "\n",
       "  Last_Statement_Minimum_Due       ...        Months_On_Book  \\\n",
       "0                          0       ...                     5   \n",
       "\n",
       "  Next_Statement_Date Monthly_Salary Nationality_Group Next_Statement_Date  \\\n",
       "0          2017-05-03          10000        06. OTHERS          2017-05-03   \n",
       "\n",
       "  No_Of_Due_Stmt Product APR_Rate Product_Fee_Type Product_Category  \n",
       "0              0     004      LOW          NON FEE         CASHBACK  \n",
       "\n",
       "[1 rows x 21 columns]"
      ]
     },
     "execution_count": 25,
     "metadata": {},
     "output_type": "execute_result"
    },
    {
     "data": {
      "text/html": [
       "<div>\n",
       "<style scoped>\n",
       "    .dataframe tbody tr th:only-of-type {\n",
       "        vertical-align: middle;\n",
       "    }\n",
       "\n",
       "    .dataframe tbody tr th {\n",
       "        vertical-align: top;\n",
       "    }\n",
       "\n",
       "    .dataframe thead th {\n",
       "        text-align: right;\n",
       "    }\n",
       "</style>\n",
       "<table border=\"1\" class=\"dataframe\">\n",
       "  <thead>\n",
       "    <tr style=\"text-align: right;\">\n",
       "      <th></th>\n",
       "      <th>Account_Number</th>\n",
       "      <th>MISDATE</th>\n",
       "      <th>ATTRITION_FLAG</th>\n",
       "      <th>ACCOUNT_CREATION_DATE</th>\n",
       "      <th>ACTUAL_CURRENT_BALANCE</th>\n",
       "      <th>Credit_Limit</th>\n",
       "      <th>LAST_ACTIVITY_DATE</th>\n",
       "      <th>Last_Statement_Closing_Balance</th>\n",
       "      <th>Last_Statement_Date</th>\n",
       "      <th>Last_Statement_Minimum_Due</th>\n",
       "      <th>...</th>\n",
       "      <th>Months_On_Book</th>\n",
       "      <th>Next_Statement_Date</th>\n",
       "      <th>Monthly_Salary</th>\n",
       "      <th>Nationality_Group</th>\n",
       "      <th>Next_Statement_Date</th>\n",
       "      <th>No_Of_Due_Stmt</th>\n",
       "      <th>Product</th>\n",
       "      <th>APR_Rate</th>\n",
       "      <th>Product_Fee_Type</th>\n",
       "      <th>Product_Category</th>\n",
       "    </tr>\n",
       "  </thead>\n",
       "  <tbody>\n",
       "    <tr>\n",
       "      <th>37188746</th>\n",
       "      <td>MAFF_ACCT_0000269020</td>\n",
       "      <td>2017-09-30</td>\n",
       "      <td>OPEN</td>\n",
       "      <td>2017-09-30</td>\n",
       "      <td>0</td>\n",
       "      <td>5000</td>\n",
       "      <td>NaT</td>\n",
       "      <td>0</td>\n",
       "      <td>2017-09-05</td>\n",
       "      <td>0</td>\n",
       "      <td>...</td>\n",
       "      <td>0</td>\n",
       "      <td>2017-10-05</td>\n",
       "      <td>50000</td>\n",
       "      <td>01. INDIA</td>\n",
       "      <td>2017-10-05</td>\n",
       "      <td>0</td>\n",
       "      <td>009</td>\n",
       "      <td>LOW</td>\n",
       "      <td>FEE PAYING</td>\n",
       "      <td>VOYAGER</td>\n",
       "    </tr>\n",
       "  </tbody>\n",
       "</table>\n",
       "<p>1 rows × 21 columns</p>\n",
       "</div>"
      ],
      "text/plain": [
       "                Account_Number    MISDATE ATTRITION_FLAG  \\\n",
       "37188746  MAFF_ACCT_0000269020 2017-09-30           OPEN   \n",
       "\n",
       "         ACCOUNT_CREATION_DATE ACTUAL_CURRENT_BALANCE Credit_Limit  \\\n",
       "37188746            2017-09-30                      0         5000   \n",
       "\n",
       "         LAST_ACTIVITY_DATE Last_Statement_Closing_Balance  \\\n",
       "37188746                NaT                              0   \n",
       "\n",
       "         Last_Statement_Date Last_Statement_Minimum_Due       ...         \\\n",
       "37188746          2017-09-05                          0       ...          \n",
       "\n",
       "         Months_On_Book Next_Statement_Date Monthly_Salary Nationality_Group  \\\n",
       "37188746              0          2017-10-05          50000         01. INDIA   \n",
       "\n",
       "         Next_Statement_Date No_Of_Due_Stmt Product APR_Rate Product_Fee_Type  \\\n",
       "37188746          2017-10-05              0     009      LOW       FEE PAYING   \n",
       "\n",
       "         Product_Category  \n",
       "37188746          VOYAGER  \n",
       "\n",
       "[1 rows x 21 columns]"
      ]
     },
     "execution_count": 25,
     "metadata": {},
     "output_type": "execute_result"
    },
    {
     "data": {
      "text/plain": [
       "101886.97808219178"
      ]
     },
     "execution_count": 25,
     "metadata": {},
     "output_type": "execute_result"
    }
   ],
   "source": [
    "Portfolio = Portfolio.sort_values(['Account_Number', 'MISDATE'], ascending=[True, False])\n",
    "Portfolio = Portfolio.reset_index(drop=True)\n",
    "Portfolio = Portfolio.groupby('Account_Number').head(365)\n",
    "Portfolio = Portfolio.reset_index(drop=True)\n",
    "Portfolio.shape\n",
    "Portfolio.head(1)\n",
    "Portfolio.tail(1)\n",
    "#check whether Portfolio data frame has complete #365 day series\n",
    "Portfolio.shape[0]/365"
   ]
  },
  {
   "cell_type": "markdown",
   "metadata": {},
   "source": [
    "### Filter to those accounts with at least one year of account history, or 365 daily timesteps"
   ]
  },
  {
   "cell_type": "code",
   "execution_count": 26,
   "metadata": {},
   "outputs": [
    {
     "data": {
      "text/plain": [
       "(29633255, 21)"
      ]
     },
     "execution_count": 26,
     "metadata": {},
     "output_type": "execute_result"
    },
    {
     "data": {
      "text/html": [
       "<div>\n",
       "<style scoped>\n",
       "    .dataframe tbody tr th:only-of-type {\n",
       "        vertical-align: middle;\n",
       "    }\n",
       "\n",
       "    .dataframe tbody tr th {\n",
       "        vertical-align: top;\n",
       "    }\n",
       "\n",
       "    .dataframe thead th {\n",
       "        text-align: right;\n",
       "    }\n",
       "</style>\n",
       "<table border=\"1\" class=\"dataframe\">\n",
       "  <thead>\n",
       "    <tr style=\"text-align: right;\">\n",
       "      <th></th>\n",
       "      <th>Account_Number</th>\n",
       "      <th>MISDATE</th>\n",
       "      <th>ATTRITION_FLAG</th>\n",
       "      <th>ACCOUNT_CREATION_DATE</th>\n",
       "      <th>ACTUAL_CURRENT_BALANCE</th>\n",
       "      <th>Credit_Limit</th>\n",
       "      <th>LAST_ACTIVITY_DATE</th>\n",
       "      <th>Last_Statement_Closing_Balance</th>\n",
       "      <th>Last_Statement_Date</th>\n",
       "      <th>Last_Statement_Minimum_Due</th>\n",
       "      <th>...</th>\n",
       "      <th>Months_On_Book</th>\n",
       "      <th>Next_Statement_Date</th>\n",
       "      <th>Monthly_Salary</th>\n",
       "      <th>Nationality_Group</th>\n",
       "      <th>Next_Statement_Date</th>\n",
       "      <th>No_Of_Due_Stmt</th>\n",
       "      <th>Product</th>\n",
       "      <th>APR_Rate</th>\n",
       "      <th>Product_Fee_Type</th>\n",
       "      <th>Product_Category</th>\n",
       "    </tr>\n",
       "  </thead>\n",
       "  <tbody>\n",
       "    <tr>\n",
       "      <th>0</th>\n",
       "      <td>MAFF_ACCT_0000002125</td>\n",
       "      <td>2017-09-30</td>\n",
       "      <td>OPEN</td>\n",
       "      <td>2012-10-24</td>\n",
       "      <td>12554.14</td>\n",
       "      <td>18000</td>\n",
       "      <td>2017-09-30</td>\n",
       "      <td>17391</td>\n",
       "      <td>2017-09-10</td>\n",
       "      <td>869</td>\n",
       "      <td>...</td>\n",
       "      <td>59</td>\n",
       "      <td>2017-10-10</td>\n",
       "      <td>9000</td>\n",
       "      <td>06. OTHERS</td>\n",
       "      <td>2017-10-10</td>\n",
       "      <td>0</td>\n",
       "      <td>007</td>\n",
       "      <td>LOW</td>\n",
       "      <td>NON FEE</td>\n",
       "      <td>CASHBACK</td>\n",
       "    </tr>\n",
       "    <tr>\n",
       "      <th>1</th>\n",
       "      <td>MAFF_ACCT_0000002125</td>\n",
       "      <td>2017-09-29</td>\n",
       "      <td>OPEN</td>\n",
       "      <td>2012-10-24</td>\n",
       "      <td>12454.14</td>\n",
       "      <td>18000</td>\n",
       "      <td>2017-09-29</td>\n",
       "      <td>17391</td>\n",
       "      <td>2017-09-10</td>\n",
       "      <td>869</td>\n",
       "      <td>...</td>\n",
       "      <td>59</td>\n",
       "      <td>2017-10-10</td>\n",
       "      <td>9000</td>\n",
       "      <td>06. OTHERS</td>\n",
       "      <td>2017-10-10</td>\n",
       "      <td>0</td>\n",
       "      <td>007</td>\n",
       "      <td>LOW</td>\n",
       "      <td>NON FEE</td>\n",
       "      <td>CASHBACK</td>\n",
       "    </tr>\n",
       "  </tbody>\n",
       "</table>\n",
       "<p>2 rows × 21 columns</p>\n",
       "</div>"
      ],
      "text/plain": [
       "         Account_Number    MISDATE ATTRITION_FLAG ACCOUNT_CREATION_DATE  \\\n",
       "0  MAFF_ACCT_0000002125 2017-09-30           OPEN            2012-10-24   \n",
       "1  MAFF_ACCT_0000002125 2017-09-29           OPEN            2012-10-24   \n",
       "\n",
       "  ACTUAL_CURRENT_BALANCE Credit_Limit LAST_ACTIVITY_DATE  \\\n",
       "0               12554.14        18000         2017-09-30   \n",
       "1               12454.14        18000         2017-09-29   \n",
       "\n",
       "  Last_Statement_Closing_Balance Last_Statement_Date  \\\n",
       "0                          17391          2017-09-10   \n",
       "1                          17391          2017-09-10   \n",
       "\n",
       "  Last_Statement_Minimum_Due       ...        Months_On_Book  \\\n",
       "0                        869       ...                    59   \n",
       "1                        869       ...                    59   \n",
       "\n",
       "  Next_Statement_Date Monthly_Salary Nationality_Group Next_Statement_Date  \\\n",
       "0          2017-10-10           9000        06. OTHERS          2017-10-10   \n",
       "1          2017-10-10           9000        06. OTHERS          2017-10-10   \n",
       "\n",
       "  No_Of_Due_Stmt Product APR_Rate Product_Fee_Type Product_Category  \n",
       "0              0     007      LOW          NON FEE         CASHBACK  \n",
       "1              0     007      LOW          NON FEE         CASHBACK  \n",
       "\n",
       "[2 rows x 21 columns]"
      ]
     },
     "execution_count": 26,
     "metadata": {},
     "output_type": "execute_result"
    }
   ],
   "source": [
    "Portfolio = Portfolio.groupby('Account_Number').filter(lambda x: len(x) > 364)\n",
    "Portfolio = Portfolio.reset_index(drop=True)\n",
    "Portfolio.shape\n",
    "Portfolio.head(2)"
   ]
  },
  {
   "cell_type": "code",
   "execution_count": 28,
   "metadata": {},
   "outputs": [
    {
     "data": {
      "text/plain": [
       "81187.0"
      ]
     },
     "execution_count": 28,
     "metadata": {},
     "output_type": "execute_result"
    }
   ],
   "source": [
    "#Confirm that our 365 timesteps are fully populated.\n",
    "Portfolio.shape[0]/365"
   ]
  },
  {
   "cell_type": "code",
   "execution_count": 30,
   "metadata": {},
   "outputs": [
    {
     "data": {
      "text/plain": [
       "(29633255, 21)"
      ]
     },
     "execution_count": 30,
     "metadata": {},
     "output_type": "execute_result"
    }
   ],
   "source": [
    "\n",
    "Portfolio.shape"
   ]
  },
  {
   "cell_type": "markdown",
   "metadata": {},
   "source": [
    "### Format Dates and Create Date Derived Variables"
   ]
  },
  {
   "cell_type": "code",
   "execution_count": 60,
   "metadata": {
    "collapsed": true
   },
   "outputs": [],
   "source": [
    "Portfolio1 = Portfolio\n",
    "#Format data types \n",
    "Portfolio1['Last_Statement_Date'] = Portfolio1['Last_Statement_Date'].astype('datetime64[ns]')\n",
    "Portfolio1['Next_Statement_Date'] = Portfolio1['Next_Statement_Date'].astype('datetime64[ns]')\n",
    "Portfolio1['ACCOUNT_CREATION_DATE']=pd.to_datetime(Portfolio1['ACCOUNT_CREATION_DATE'],format='%Y-%m-%d')\n",
    "Portfolio1['ACCOUNT_CREATION_DATE'] = Portfolio1['ACCOUNT_CREATION_DATE'].astype('datetime64[ns]')\n",
    "Portfolio1['Account_Number'] = Portfolio1['Account_Number'].astype(str)\n",
    "Portfolio1['ATTRITION_FLAG'] = Portfolio1['ATTRITION_FLAG'].astype(str)\n",
    "Portfolio1['LAST_ACTIVITY_DATE']=pd.to_datetime( Portfolio1['LAST_ACTIVITY_DATE'],format='%Y-%m-%d')\n",
    "Portfolio1['LAST_ACTIVITY_DATE'].fillna(Portfolio1['ACCOUNT_CREATION_DATE'], inplace=True)"
   ]
  },
  {
   "cell_type": "code",
   "execution_count": 61,
   "metadata": {
    "collapsed": true
   },
   "outputs": [],
   "source": [
    "Portfolio1['Last_Statement_Minimum_Due'] = Portfolio1['Last_Statement_Minimum_Due'].replace(-np.inf, 0)\n",
    "Portfolio1['Last_Statement_Minimum_Due'] = Portfolio1['Last_Statement_Minimum_Due'].replace(-np.nan, 0)\n",
    "Portfolio1['Last_Statement_Minimum_Due'] = Portfolio1['Last_Statement_Minimum_Due'].replace(np.inf, 0)\n",
    "Portfolio1['Last_Statement_Minimum_Due'] = Portfolio1['Last_Statement_Minimum_Due'].replace(np.nan, 0)"
   ]
  },
  {
   "cell_type": "code",
   "execution_count": 62,
   "metadata": {
    "collapsed": true
   },
   "outputs": [],
   "source": [
    "Portfolio1['Monthly_Salary'] = Portfolio1['Monthly_Salary'].astype('int')\n",
    "Portfolio1['Credit_Limit'] = Portfolio1['Credit_Limit'].astype('int')\n",
    "Portfolio1['Last_Statement_Closing_Balance'] = Portfolio1['Last_Statement_Closing_Balance'].astype('int')\n",
    "Portfolio1['Last_Statement_Minimum_Due'] = Portfolio1['Last_Statement_Minimum_Due'].astype('int')"
   ]
  },
  {
   "cell_type": "code",
   "execution_count": 63,
   "metadata": {
    "collapsed": true
   },
   "outputs": [],
   "source": [
    "#Days on Book\n",
    "Portfolio1['ACCOUNT_CREATION_DATE'] = pd.to_datetime(Portfolio1['ACCOUNT_CREATION_DATE'], format='%Y-%m-%d')\n",
    "Portfolio1['Days_On_Book'] = Portfolio1['MISDATE'] - Portfolio1['ACCOUNT_CREATION_DATE']\n",
    "Portfolio1['Days_On_Book'] = Portfolio1['Days_On_Book'].dt.days\n",
    "Portfolio1['Days_On_Book'] = Portfolio1['Days_On_Book'].astype(int)"
   ]
  },
  {
   "cell_type": "code",
   "execution_count": 64,
   "metadata": {
    "collapsed": true
   },
   "outputs": [],
   "source": [
    "#Days from Last Statement\n",
    "Portfolio1['Last_Statement_Date'] = pd.to_datetime(Portfolio1['Last_Statement_Date'], format='%Y-%m-%d')\n",
    "Portfolio1['Days_From_Statement'] = Portfolio1['MISDATE']-Portfolio1['Last_Statement_Date']\n",
    "Portfolio1['Days_From_Statement'] = Portfolio1['Days_From_Statement'].dt.days\n",
    "Portfolio1['Days_From_Statement'] = Portfolio1['Days_From_Statement'].astype(int)"
   ]
  },
  {
   "cell_type": "code",
   "execution_count": 65,
   "metadata": {
    "collapsed": true
   },
   "outputs": [],
   "source": [
    "#Days from Last Activity\n",
    "Portfolio1['LAST_ACTIVITY_DATE'].fillna(Portfolio1['Last_Statement_Date'], inplace=True)\n",
    "Portfolio1['LAST_ACTIVITY_DATE'].fillna(Portfolio1['MISDATE'], inplace=True)\n",
    "Portfolio1['LAST_ACTIVITY_DATE']=pd.to_datetime( Portfolio1['LAST_ACTIVITY_DATE'],format='%Y-%m-%d')\n",
    "Portfolio1['Days_from_Last_Activity'] = Portfolio1['MISDATE'] - Portfolio1['LAST_ACTIVITY_DATE']\n",
    "Portfolio1['Days_from_Last_Activity'] = Portfolio1['Days_from_Last_Activity'].dt.days\n",
    "Portfolio1['Days_from_Last_Activity'] = Portfolio1['Days_from_Last_Activity'].replace(-np.inf, 0)\n",
    "Portfolio1['Days_from_Last_Activity'] = Portfolio1['Days_from_Last_Activity'].replace(-np.nan, 0)\n",
    "Portfolio1['Days_from_Last_Activity'] = Portfolio1['Days_from_Last_Activity'].astype(int)"
   ]
  },
  {
   "cell_type": "code",
   "execution_count": 66,
   "metadata": {},
   "outputs": [
    {
     "data": {
      "text/plain": [
       "(29633255, 24)"
      ]
     },
     "execution_count": 66,
     "metadata": {},
     "output_type": "execute_result"
    }
   ],
   "source": [
    "Portfolio1.shape"
   ]
  },
  {
   "cell_type": "code",
   "execution_count": 67,
   "metadata": {},
   "outputs": [
    {
     "data": {
      "text/html": [
       "<div>\n",
       "<style scoped>\n",
       "    .dataframe tbody tr th:only-of-type {\n",
       "        vertical-align: middle;\n",
       "    }\n",
       "\n",
       "    .dataframe tbody tr th {\n",
       "        vertical-align: top;\n",
       "    }\n",
       "\n",
       "    .dataframe thead th {\n",
       "        text-align: right;\n",
       "    }\n",
       "</style>\n",
       "<table border=\"1\" class=\"dataframe\">\n",
       "  <thead>\n",
       "    <tr style=\"text-align: right;\">\n",
       "      <th></th>\n",
       "      <th>Account_Number</th>\n",
       "      <th>MISDATE</th>\n",
       "      <th>ATTRITION_FLAG</th>\n",
       "      <th>ACCOUNT_CREATION_DATE</th>\n",
       "      <th>ACTUAL_CURRENT_BALANCE</th>\n",
       "      <th>Credit_Limit</th>\n",
       "      <th>LAST_ACTIVITY_DATE</th>\n",
       "      <th>Last_Statement_Closing_Balance</th>\n",
       "      <th>Last_Statement_Date</th>\n",
       "      <th>Last_Statement_Minimum_Due</th>\n",
       "      <th>...</th>\n",
       "      <th>Nationality_Group</th>\n",
       "      <th>Next_Statement_Date</th>\n",
       "      <th>No_Of_Due_Stmt</th>\n",
       "      <th>Product</th>\n",
       "      <th>APR_Rate</th>\n",
       "      <th>Product_Fee_Type</th>\n",
       "      <th>Product_Category</th>\n",
       "      <th>Days_On_Book</th>\n",
       "      <th>Days_From_Statement</th>\n",
       "      <th>Days_from_Last_Activity</th>\n",
       "    </tr>\n",
       "  </thead>\n",
       "  <tbody>\n",
       "    <tr>\n",
       "      <th>0</th>\n",
       "      <td>MAFF_ACCT_0000002125</td>\n",
       "      <td>2017-09-30</td>\n",
       "      <td>OPEN</td>\n",
       "      <td>2012-10-24</td>\n",
       "      <td>12554.14</td>\n",
       "      <td>18000</td>\n",
       "      <td>2017-09-30</td>\n",
       "      <td>17391</td>\n",
       "      <td>2017-09-10</td>\n",
       "      <td>869</td>\n",
       "      <td>...</td>\n",
       "      <td>06. OTHERS</td>\n",
       "      <td>2017-10-10</td>\n",
       "      <td>0</td>\n",
       "      <td>007</td>\n",
       "      <td>LOW</td>\n",
       "      <td>NON FEE</td>\n",
       "      <td>CASHBACK</td>\n",
       "      <td>1802</td>\n",
       "      <td>20</td>\n",
       "      <td>0</td>\n",
       "    </tr>\n",
       "  </tbody>\n",
       "</table>\n",
       "<p>1 rows × 24 columns</p>\n",
       "</div>"
      ],
      "text/plain": [
       "         Account_Number    MISDATE ATTRITION_FLAG ACCOUNT_CREATION_DATE  \\\n",
       "0  MAFF_ACCT_0000002125 2017-09-30           OPEN            2012-10-24   \n",
       "\n",
       "  ACTUAL_CURRENT_BALANCE  Credit_Limit LAST_ACTIVITY_DATE  \\\n",
       "0               12554.14         18000         2017-09-30   \n",
       "\n",
       "   Last_Statement_Closing_Balance Last_Statement_Date  \\\n",
       "0                           17391          2017-09-10   \n",
       "\n",
       "   Last_Statement_Minimum_Due           ...            Nationality_Group  \\\n",
       "0                         869           ...                   06. OTHERS   \n",
       "\n",
       "   Next_Statement_Date No_Of_Due_Stmt  Product APR_Rate Product_Fee_Type  \\\n",
       "0           2017-10-10              0      007      LOW          NON FEE   \n",
       "\n",
       "  Product_Category Days_On_Book Days_From_Statement Days_from_Last_Activity  \n",
       "0         CASHBACK         1802                  20                       0  \n",
       "\n",
       "[1 rows x 24 columns]"
      ]
     },
     "execution_count": 67,
     "metadata": {},
     "output_type": "execute_result"
    }
   ],
   "source": [
    "Portfolio1.head(1)"
   ]
  },
  {
   "cell_type": "code",
   "execution_count": 68,
   "metadata": {},
   "outputs": [],
   "source": [
    "#Reset index, order, check dimensions\n",
    "Portfolio1 = Portfolio1.sort_values(['Account_Number', 'MISDATE'], ascending=[True, False])\n",
    "Portfolio1 = Portfolio1.reset_index(drop=True)"
   ]
  },
  {
   "cell_type": "code",
   "execution_count": null,
   "metadata": {
    "collapsed": true
   },
   "outputs": [],
   "source": []
  },
  {
   "cell_type": "code",
   "execution_count": 69,
   "metadata": {
    "collapsed": true
   },
   "outputs": [],
   "source": [
    "#Check counts of unique ids."
   ]
  },
  {
   "cell_type": "code",
   "execution_count": 70,
   "metadata": {},
   "outputs": [
    {
     "data": {
      "text/plain": [
       "OPEN         74328\n",
       "VOLUNTARY     6859\n",
       "Name: ATTRITION_FLAG, dtype: int64"
      ]
     },
     "execution_count": 70,
     "metadata": {},
     "output_type": "execute_result"
    }
   ],
   "source": [
    "uniqueids =Portfolio1.groupby('Account_Number').head(1)\n",
    "uniqueids = uniqueids.reset_index(drop=True)\n",
    "uniqueids['ATTRITION_FLAG'].value_counts()"
   ]
  },
  {
   "cell_type": "markdown",
   "metadata": {},
   "source": [
    "#### Write out interim file"
   ]
  },
  {
   "cell_type": "code",
   "execution_count": 71,
   "metadata": {
    "collapsed": true
   },
   "outputs": [],
   "source": [
    "output = open('Portfolio_cleaned.pkl', 'wb')\n",
    "pickle.dump(Portfolio1, output)\n",
    "output.close()"
   ]
  },
  {
   "cell_type": "code",
   "execution_count": 72,
   "metadata": {
    "collapsed": true
   },
   "outputs": [],
   "source": [
    "del Portfolio"
   ]
  },
  {
   "cell_type": "markdown",
   "metadata": {},
   "source": [
    "## Import Statement Data from SQL Pull, Pickled and Stored in Blob"
   ]
  },
  {
   "cell_type": "code",
   "execution_count": 75,
   "metadata": {
    "collapsed": true
   },
   "outputs": [],
   "source": [
    "mycontainer = \"<yourcontainername>\"       # fill in the container name\n",
    "myblobname = \"<yourblobname\"        # fill in the blob name\n",
    "mydatafile = \"Statements\"        # fill in the output file name that you want"
   ]
  },
  {
   "cell_type": "code",
   "execution_count": 76,
   "metadata": {},
   "outputs": [
    {
     "data": {
      "text/plain": [
       "<azure.storage.blob.models.Blob at 0x2c59db92278>"
      ]
     },
     "execution_count": 76,
     "metadata": {},
     "output_type": "execute_result"
    }
   ],
   "source": [
    "dirname = base_dir\n",
    "blob_service = BlockBlobService(account_name=blob_account_name,\n",
    "                 account_key=blob_account_key)\n",
    "blob_service.get_blob_to_path(mycontainer, myblobname, mydatafile)\n"
   ]
  },
  {
   "cell_type": "code",
   "execution_count": 77,
   "metadata": {},
   "outputs": [
    {
     "name": "stdout",
     "output_type": "stream",
     "text": [
      "(2130000, 20)\n"
     ]
    }
   ],
   "source": [
    "mydata = pd.read_csv(mydatafile, sep='\\t',error_bad_lines=False, index_col=False, dtype='unicode')\n",
    "print(mydata.shape)"
   ]
  },
  {
   "cell_type": "code",
   "execution_count": 78,
   "metadata": {
    "collapsed": true,
    "scrolled": true
   },
   "outputs": [],
   "source": [
    "Statements = mydata[['ACCOUNT_NUMBER', 'STATEMENT_DATE', 'BEGINNING_AR', 'CLOSING_AR',\n",
    "       'TOTAL_MINIMUM_DUE', 'PAYMENT_DUE_DATE', 'POINTS_BALANCE_BEGINNING',\n",
    "       'POINTS_EARNED', 'POINTS_REDEEMED', 'POINTS_BALANCE_CLOSING',\n",
    "       'POINTS_ADJUSTED', 'STATEMENT_FROM_DATE', 'STATEMENT_TO_DATE',\n",
    "       'STATEMENT_BALANCE', 'INSTALLMENTS_REMAINING', 'NEW_INSTALLMENT_FLAG',\n",
    "       'BT_FLAG', 'LOP_FLAG', 'EPP_FLAG', 'AMF_FLAG']]\n",
    "\n",
    "del mydata"
   ]
  },
  {
   "cell_type": "markdown",
   "metadata": {},
   "source": [
    "#### Statements - Reduce and Reformat"
   ]
  },
  {
   "cell_type": "code",
   "execution_count": 79,
   "metadata": {},
   "outputs": [
    {
     "data": {
      "text/html": [
       "<div>\n",
       "<style scoped>\n",
       "    .dataframe tbody tr th:only-of-type {\n",
       "        vertical-align: middle;\n",
       "    }\n",
       "\n",
       "    .dataframe tbody tr th {\n",
       "        vertical-align: top;\n",
       "    }\n",
       "\n",
       "    .dataframe thead th {\n",
       "        text-align: right;\n",
       "    }\n",
       "</style>\n",
       "<table border=\"1\" class=\"dataframe\">\n",
       "  <thead>\n",
       "    <tr style=\"text-align: right;\">\n",
       "      <th></th>\n",
       "      <th>ACCOUNT_NUMBER</th>\n",
       "      <th>STATEMENT_DATE</th>\n",
       "      <th>BEGINNING_AR</th>\n",
       "      <th>CLOSING_AR</th>\n",
       "      <th>TOTAL_MINIMUM_DUE</th>\n",
       "      <th>PAYMENT_DUE_DATE</th>\n",
       "      <th>POINTS_BALANCE_BEGINNING</th>\n",
       "      <th>POINTS_EARNED</th>\n",
       "      <th>POINTS_REDEEMED</th>\n",
       "      <th>POINTS_BALANCE_CLOSING</th>\n",
       "      <th>POINTS_ADJUSTED</th>\n",
       "      <th>STATEMENT_FROM_DATE</th>\n",
       "      <th>STATEMENT_TO_DATE</th>\n",
       "      <th>STATEMENT_BALANCE</th>\n",
       "      <th>INSTALLMENTS_REMAINING</th>\n",
       "      <th>NEW_INSTALLMENT_FLAG</th>\n",
       "      <th>BT_FLAG</th>\n",
       "      <th>LOP_FLAG</th>\n",
       "      <th>EPP_FLAG</th>\n",
       "      <th>AMF_FLAG</th>\n",
       "    </tr>\n",
       "  </thead>\n",
       "  <tbody>\n",
       "    <tr>\n",
       "      <th>0</th>\n",
       "      <td>MAFF_ACCT_0000000001</td>\n",
       "      <td>2017-05-03</td>\n",
       "      <td>1639.27</td>\n",
       "      <td>0.00</td>\n",
       "      <td>0.00</td>\n",
       "      <td>2017-05-28</td>\n",
       "      <td>0.00</td>\n",
       "      <td>0</td>\n",
       "      <td>0</td>\n",
       "      <td>0</td>\n",
       "      <td>0</td>\n",
       "      <td>2017-04-03</td>\n",
       "      <td>2017-05-03</td>\n",
       "      <td>0.00</td>\n",
       "      <td>NaN</td>\n",
       "      <td>N</td>\n",
       "      <td>N</td>\n",
       "      <td>N</td>\n",
       "      <td>N</td>\n",
       "      <td>N</td>\n",
       "    </tr>\n",
       "  </tbody>\n",
       "</table>\n",
       "</div>"
      ],
      "text/plain": [
       "         ACCOUNT_NUMBER STATEMENT_DATE BEGINNING_AR CLOSING_AR  \\\n",
       "0  MAFF_ACCT_0000000001     2017-05-03      1639.27       0.00   \n",
       "\n",
       "  TOTAL_MINIMUM_DUE PAYMENT_DUE_DATE POINTS_BALANCE_BEGINNING POINTS_EARNED  \\\n",
       "0              0.00       2017-05-28                     0.00             0   \n",
       "\n",
       "  POINTS_REDEEMED POINTS_BALANCE_CLOSING POINTS_ADJUSTED STATEMENT_FROM_DATE  \\\n",
       "0               0                      0               0          2017-04-03   \n",
       "\n",
       "  STATEMENT_TO_DATE STATEMENT_BALANCE INSTALLMENTS_REMAINING  \\\n",
       "0        2017-05-03              0.00                    NaN   \n",
       "\n",
       "  NEW_INSTALLMENT_FLAG BT_FLAG LOP_FLAG EPP_FLAG AMF_FLAG  \n",
       "0                    N       N        N        N        N  "
      ]
     },
     "execution_count": 79,
     "metadata": {},
     "output_type": "execute_result"
    }
   ],
   "source": [
    "Statements.head(1)"
   ]
  },
  {
   "cell_type": "code",
   "execution_count": 80,
   "metadata": {},
   "outputs": [
    {
     "data": {
      "text/html": [
       "<div>\n",
       "<style scoped>\n",
       "    .dataframe tbody tr th:only-of-type {\n",
       "        vertical-align: middle;\n",
       "    }\n",
       "\n",
       "    .dataframe tbody tr th {\n",
       "        vertical-align: top;\n",
       "    }\n",
       "\n",
       "    .dataframe thead th {\n",
       "        text-align: right;\n",
       "    }\n",
       "</style>\n",
       "<table border=\"1\" class=\"dataframe\">\n",
       "  <thead>\n",
       "    <tr style=\"text-align: right;\">\n",
       "      <th></th>\n",
       "      <th>Account_Number</th>\n",
       "      <th>STATEMENT_DATE</th>\n",
       "      <th>STATEMENT_FROM_DATE</th>\n",
       "      <th>STATEMENT_TO_DATE</th>\n",
       "      <th>STATEMENT_BALANCE</th>\n",
       "      <th>POINTS_REDEEMED</th>\n",
       "      <th>POINTS_BALANCE_CLOSING</th>\n",
       "      <th>POINTS_EARNED</th>\n",
       "    </tr>\n",
       "  </thead>\n",
       "  <tbody>\n",
       "    <tr>\n",
       "      <th>0</th>\n",
       "      <td>MAFF_ACCT_0000000001</td>\n",
       "      <td>2017-05-03</td>\n",
       "      <td>2017-04-03</td>\n",
       "      <td>2017-05-03</td>\n",
       "      <td>0</td>\n",
       "      <td>0</td>\n",
       "      <td>0</td>\n",
       "      <td>0</td>\n",
       "    </tr>\n",
       "    <tr>\n",
       "      <th>1</th>\n",
       "      <td>MAFF_ACCT_0000000003</td>\n",
       "      <td>2017-12-18</td>\n",
       "      <td>2017-11-18</td>\n",
       "      <td>2017-12-18</td>\n",
       "      <td>2049</td>\n",
       "      <td>0</td>\n",
       "      <td>0</td>\n",
       "      <td>0</td>\n",
       "    </tr>\n",
       "  </tbody>\n",
       "</table>\n",
       "</div>"
      ],
      "text/plain": [
       "         Account_Number STATEMENT_DATE STATEMENT_FROM_DATE STATEMENT_TO_DATE  \\\n",
       "0  MAFF_ACCT_0000000001     2017-05-03          2017-04-03        2017-05-03   \n",
       "1  MAFF_ACCT_0000000003     2017-12-18          2017-11-18        2017-12-18   \n",
       "\n",
       "   STATEMENT_BALANCE  POINTS_REDEEMED  POINTS_BALANCE_CLOSING  POINTS_EARNED  \n",
       "0                  0                0                       0              0  \n",
       "1               2049                0                       0              0  "
      ]
     },
     "execution_count": 80,
     "metadata": {},
     "output_type": "execute_result"
    },
    {
     "data": {
      "text/plain": [
       "(2129999, 8)"
      ]
     },
     "execution_count": 80,
     "metadata": {},
     "output_type": "execute_result"
    }
   ],
   "source": [
    "Statements = pd.DataFrame(Statements)\n",
    "Statements = Statements.dropna(subset=['ACCOUNT_NUMBER'])\n",
    "Statements = Statements.dropna(subset=['STATEMENT_DATE'])\n",
    "Statements_Index = Statements.reset_index(drop=True)\n",
    "\n",
    "Statements_Index = Statements_Index.sort_values(['ACCOUNT_NUMBER', 'STATEMENT_DATE'], ascending=[True, True])\n",
    "Statements_Index = Statements_Index.reset_index(drop=True)\n",
    "Statements_Index = Statements_Index[['ACCOUNT_NUMBER','STATEMENT_DATE','STATEMENT_FROM_DATE','STATEMENT_TO_DATE','STATEMENT_BALANCE','POINTS_REDEEMED','POINTS_BALANCE_CLOSING','POINTS_EARNED']]\n",
    "Statements_Index.columns = ['Account_Number','STATEMENT_DATE','STATEMENT_FROM_DATE','STATEMENT_TO_DATE','STATEMENT_BALANCE','POINTS_REDEEMED','POINTS_BALANCE_CLOSING', 'POINTS_EARNED']\n",
    "Statements_Index['STATEMENT_DATE'] = Statements_Index['STATEMENT_DATE'].astype('datetime64[ns]')\n",
    "Statements_Index['STATEMENT_FROM_DATE'] = Statements_Index['STATEMENT_FROM_DATE'].astype('datetime64[ns]')\n",
    "Statements_Index['STATEMENT_TO_DATE'] = Statements_Index['STATEMENT_TO_DATE'].astype('datetime64[ns]')\n",
    "Statements_Index['Account_Number'] = Statements_Index['Account_Number'].astype('str')\n",
    "Statements_Index['STATEMENT_BALANCE'] = Statements_Index['STATEMENT_BALANCE'].astype('float')\n",
    "Statements_Index['STATEMENT_BALANCE'] = round(Statements_Index['STATEMENT_BALANCE'],0)\n",
    "Statements_Index['STATEMENT_BALANCE'] = Statements_Index['STATEMENT_BALANCE'].astype('int')\n",
    "Statements_Index['POINTS_EARNED'] = Statements_Index['POINTS_EARNED'].astype('int')\n",
    "Statements_Index['POINTS_REDEEMED'] = Statements_Index['POINTS_REDEEMED'].astype('int')\n",
    "Statements_Index['POINTS_BALANCE_CLOSING'] = Statements_Index['POINTS_BALANCE_CLOSING'].astype('int')\n",
    "\n",
    "Statements_Index.head(2)\n",
    "Statements_Index.shape"
   ]
  },
  {
   "cell_type": "code",
   "execution_count": 81,
   "metadata": {},
   "outputs": [
    {
     "data": {
      "text/plain": [
       "Account_Number                    object\n",
       "STATEMENT_DATE            datetime64[ns]\n",
       "STATEMENT_FROM_DATE       datetime64[ns]\n",
       "STATEMENT_TO_DATE         datetime64[ns]\n",
       "STATEMENT_BALANCE                  int32\n",
       "POINTS_REDEEMED                    int32\n",
       "POINTS_BALANCE_CLOSING             int32\n",
       "POINTS_EARNED                      int32\n",
       "dtype: object"
      ]
     },
     "execution_count": 81,
     "metadata": {},
     "output_type": "execute_result"
    }
   ],
   "source": [
    "Statements_Index.dtypes"
   ]
  },
  {
   "cell_type": "code",
   "execution_count": 82,
   "metadata": {
    "collapsed": true
   },
   "outputs": [],
   "source": [
    "del Statements"
   ]
  },
  {
   "cell_type": "markdown",
   "metadata": {},
   "source": [
    "### Write out Cleaned Statements DataFrame"
   ]
  },
  {
   "cell_type": "code",
   "execution_count": 83,
   "metadata": {
    "collapsed": true
   },
   "outputs": [],
   "source": [
    "Statements_Index.to_csv('Statements_cleaned.csv',sep=',',encoding='utf-8')"
   ]
  },
  {
   "cell_type": "code",
   "execution_count": 84,
   "metadata": {
    "collapsed": true
   },
   "outputs": [],
   "source": [
    "del Statements_Index"
   ]
  },
  {
   "cell_type": "code",
   "execution_count": null,
   "metadata": {
    "collapsed": true
   },
   "outputs": [],
   "source": []
  },
  {
   "cell_type": "markdown",
   "metadata": {
    "collapsed": true
   },
   "source": [
    "## Import CRM Data from SQL Pull Stored in Blob"
   ]
  },
  {
   "cell_type": "code",
   "execution_count": 87,
   "metadata": {
    "collapsed": true
   },
   "outputs": [],
   "source": [
    "mycontainer = \"<YourContainerName>\"       # fill in the container name\n",
    "myblobname = \"<YourBlobName>\"        # fill in the blob name\n",
    "mydatafile = \"<YourDataName>\"        # fill in the output file name"
   ]
  },
  {
   "cell_type": "code",
   "execution_count": 88,
   "metadata": {},
   "outputs": [
    {
     "data": {
      "text/plain": [
       "<azure.storage.blob.models.Blob at 0x2cc1dfd59b0>"
      ]
     },
     "execution_count": 88,
     "metadata": {},
     "output_type": "execute_result"
    },
    {
     "name": "stdout",
     "output_type": "stream",
     "text": [
      "(2176494, 9)\n"
     ]
    }
   ],
   "source": [
    "blob_service = BlockBlobService(account_name=blob_account_name,\n",
    "                 account_key=blob_account_key)\n",
    "blob_service.get_blob_to_path(mycontainer, myblobname, mydatafile)\n",
    "\n",
    "CRM = pd.read_csv(mydatafile, sep='\\t',error_bad_lines=False, index_col=False, dtype='unicode')\n",
    "print(CRM.shape)"
   ]
  },
  {
   "cell_type": "code",
   "execution_count": 90,
   "metadata": {},
   "outputs": [
    {
     "data": {
      "text/plain": [
       "Incident_number      object\n",
       "Account_Number       object\n",
       "Incident_ID          object\n",
       "Incident_Category    object\n",
       "Sub_Category         object\n",
       "Incident_Type        object\n",
       "Created_On           object\n",
       "Updated_On           object\n",
       "Closed_date          object\n",
       "dtype: object"
      ]
     },
     "execution_count": 90,
     "metadata": {},
     "output_type": "execute_result"
    }
   ],
   "source": [
    "CRM.dtypes"
   ]
  },
  {
   "cell_type": "markdown",
   "metadata": {},
   "source": [
    "#### Reformat Variables"
   ]
  },
  {
   "cell_type": "code",
   "execution_count": 91,
   "metadata": {},
   "outputs": [
    {
     "data": {
      "text/html": [
       "<div>\n",
       "<style scoped>\n",
       "    .dataframe tbody tr th:only-of-type {\n",
       "        vertical-align: middle;\n",
       "    }\n",
       "\n",
       "    .dataframe tbody tr th {\n",
       "        vertical-align: top;\n",
       "    }\n",
       "\n",
       "    .dataframe thead th {\n",
       "        text-align: right;\n",
       "    }\n",
       "</style>\n",
       "<table border=\"1\" class=\"dataframe\">\n",
       "  <thead>\n",
       "    <tr style=\"text-align: right;\">\n",
       "      <th></th>\n",
       "      <th>Account_Number</th>\n",
       "      <th>Incident_Category</th>\n",
       "      <th>Incident_Type</th>\n",
       "      <th>Created_On</th>\n",
       "    </tr>\n",
       "  </thead>\n",
       "  <tbody>\n",
       "    <tr>\n",
       "      <th>0</th>\n",
       "      <td>MAFF_ACCT_0000000002</td>\n",
       "      <td>Voyager Booking</td>\n",
       "      <td>Voyager</td>\n",
       "      <td>2017-08-02</td>\n",
       "    </tr>\n",
       "  </tbody>\n",
       "</table>\n",
       "</div>"
      ],
      "text/plain": [
       "         Account_Number Incident_Category Incident_Type Created_On\n",
       "0  MAFF_ACCT_0000000002   Voyager Booking       Voyager 2017-08-02"
      ]
     },
     "execution_count": 91,
     "metadata": {},
     "output_type": "execute_result"
    },
    {
     "data": {
      "text/plain": [
       "(2176209, 4)"
      ]
     },
     "execution_count": 91,
     "metadata": {},
     "output_type": "execute_result"
    },
    {
     "data": {
      "text/plain": [
       "Account_Number               object\n",
       "Incident_Category            object\n",
       "Incident_Type                object\n",
       "Created_On           datetime64[ns]\n",
       "dtype: object"
      ]
     },
     "execution_count": 91,
     "metadata": {},
     "output_type": "execute_result"
    }
   ],
   "source": [
    "CRM = CRM.sort_values(['Account_Number'], ascending=[ True])\n",
    "CRM = CRM.reset_index(drop=True)\n",
    "CRM = CRM[['Account_Number','Incident_Category','Incident_Type','Created_On']]\n",
    "CRM['Incident_Category'] = CRM['Incident_Category'].astype('str')\n",
    "CRM['Incident_Type'] = CRM['Incident_Type'].astype('str')\n",
    "CRM['Created_On'] = CRM['Created_On'].astype('datetime64[ns]')\n",
    "CRM = CRM.dropna(subset=['Account_Number'])\n",
    "CRM = CRM.dropna(subset=['Created_On'])\n",
    "CRM = CRM.reset_index(drop=True)\n",
    "\n",
    "CRM.head(1)\n",
    "CRM.shape\n",
    "CRM.dtypes"
   ]
  },
  {
   "cell_type": "markdown",
   "metadata": {},
   "source": [
    "#### Remove Very infrequent incident Types"
   ]
  },
  {
   "cell_type": "code",
   "execution_count": 92,
   "metadata": {},
   "outputs": [
    {
     "name": "stdout",
     "output_type": "stream",
     "text": [
      "number of unique account numbers 146296\n",
      "number of unique incident categorices 359\n"
     ]
    }
   ],
   "source": [
    "print('number of unique account numbers',len(CRM.Account_Number.unique()))\n",
    "print('number of unique incident categorices',(len(CRM.Incident_Category.unique())))\n",
    "#CRM['Incident_Type'].value_counts()"
   ]
  },
  {
   "cell_type": "code",
   "execution_count": 93,
   "metadata": {},
   "outputs": [
    {
     "data": {
      "text/plain": [
       "(2176209, 4)"
      ]
     },
     "execution_count": 93,
     "metadata": {},
     "output_type": "execute_result"
    },
    {
     "name": "stdout",
     "output_type": "stream",
     "text": [
      "number of unique account numbers 143317\n",
      "number of unique incident categorices 338\n"
     ]
    },
    {
     "data": {
      "text/plain": [
       "(2102570, 4)"
      ]
     },
     "execution_count": 93,
     "metadata": {},
     "output_type": "execute_result"
    }
   ],
   "source": [
    "CRM.shape\n",
    "#remove incidents with less than 100 occurences\n",
    "threshold = 99\n",
    "counts = CRM['Incident_Type'].value_counts()\n",
    "\n",
    "CRM2 = CRM.loc[CRM['Incident_Type'].isin(counts[counts > threshold].index), :]\n",
    "CRM2 = CRM2.loc[(CRM2['Incident_Type']!=\"Inbound SMS\")]\n",
    "CRM2 = CRM2.reset_index(drop=True)\n",
    "print('number of unique account numbers',len(CRM2.Account_Number.unique()))\n",
    "print('number of unique incident categorices',(len(CRM2.Incident_Category.unique())))\n",
    "CRM2.shape"
   ]
  },
  {
   "cell_type": "code",
   "execution_count": 94,
   "metadata": {
    "collapsed": true
   },
   "outputs": [],
   "source": [
    "CRM2.to_csv('CRM_cleaned.csv',sep=',',encoding='utf-8')"
   ]
  },
  {
   "cell_type": "code",
   "execution_count": null,
   "metadata": {
    "collapsed": true
   },
   "outputs": [],
   "source": []
  },
  {
   "cell_type": "markdown",
   "metadata": {},
   "source": [
    "## Import Aggregated Transaction Data from SQL Pull Stored in Blob"
   ]
  },
  {
   "cell_type": "code",
   "execution_count": 95,
   "metadata": {
    "collapsed": true
   },
   "outputs": [],
   "source": [
    "mycontainer = \"<yourcontainer>\"       # fill in the container name\n",
    "myblobname = \"<yourblobname>\"        # fill in the blob name\n",
    "mydatafile = \"TransactionsDailyAgg\"        # fill in the output file name"
   ]
  },
  {
   "cell_type": "code",
   "execution_count": 96,
   "metadata": {},
   "outputs": [
    {
     "data": {
      "text/plain": [
       "<azure.storage.blob.models.Blob at 0x2c9c27a3d68>"
      ]
     },
     "execution_count": 96,
     "metadata": {},
     "output_type": "execute_result"
    },
    {
     "name": "stdout",
     "output_type": "stream",
     "text": [
      "(15097872, 16)\n"
     ]
    }
   ],
   "source": [
    "blob_service = BlockBlobService(account_name=blob_account_name,\n",
    "                 account_key=blob_account_key)\n",
    "blob_service.get_blob_to_path(mycontainer, myblobname, mydatafile)\n",
    "\n",
    "Transactions_DailyAgg = pd.read_csv(mydatafile, sep='\\t',error_bad_lines=False, index_col=False, dtype='unicode')\n",
    "print(Transactions_DailyAgg.shape)"
   ]
  },
  {
   "cell_type": "code",
   "execution_count": 97,
   "metadata": {},
   "outputs": [
    {
     "data": {
      "text/plain": [
       "Account_Number                      object\n",
       "Purchase_Date                       object\n",
       "Billing_Amount_Sum_Payment          object\n",
       "Billing_Amount_Sum_Spend_ESS        object\n",
       "Billing_Amount_Sum_Spend_NON_ESS    object\n",
       "Billing_Amount_Spend_CASH           object\n",
       "Billing_Amount_Violation_Fee        object\n",
       "Transaction_Count_Payment           object\n",
       "Tranasaction_Count_Spend_ESS        object\n",
       "Tranasaction_Count_Spend_NON_ESS    object\n",
       "Tranasaction_Count_Spend_CASH       object\n",
       "Transaction_Count_Foreclosure       object\n",
       "Tranasaction_Count_BT               object\n",
       "Tranasaction_Count_LOP              object\n",
       "Tranasaction_Count_EPP              object\n",
       "Tranasaction_Count_Violation_Fee    object\n",
       "dtype: object"
      ]
     },
     "execution_count": 97,
     "metadata": {},
     "output_type": "execute_result"
    }
   ],
   "source": [
    "\n",
    "Transactions_DailyAgg.dtypes"
   ]
  },
  {
   "cell_type": "code",
   "execution_count": 98,
   "metadata": {
    "collapsed": true
   },
   "outputs": [],
   "source": [
    "Transactions_DailyAgg.rename(columns = {\n",
    "      'sum' : 'Billing_Amount_Sum',\n",
    "      'count' : 'Transaction_Count'},inplace = True)"
   ]
  },
  {
   "cell_type": "code",
   "execution_count": 99,
   "metadata": {
    "collapsed": true
   },
   "outputs": [],
   "source": [
    "output = open('Transactions_cleaned.pkl', 'wb')\n",
    "pickle.dump(Transactions_DailyAgg, output)\n",
    "output.close()"
   ]
  },
  {
   "cell_type": "code",
   "execution_count": 100,
   "metadata": {
    "collapsed": true
   },
   "outputs": [],
   "source": [
    "#Transactions_DailyAgg.to_csv('Transactions_DailyAgg_cleaned.csv',sep=',',encoding='utf-8')"
   ]
  },
  {
   "cell_type": "markdown",
   "metadata": {},
   "source": [
    "### End Part 1 - Cleaning each source table"
   ]
  },
  {
   "cell_type": "code",
   "execution_count": null,
   "metadata": {
    "collapsed": true
   },
   "outputs": [],
   "source": []
  }
 ],
 "metadata": {
  "kernelspec": {
   "display_name": "Python [conda root]",
   "language": "python",
   "name": "conda-root-py"
  },
  "language_info": {
   "codemirror_mode": {
    "name": "ipython",
    "version": 3
   },
   "file_extension": ".py",
   "mimetype": "text/x-python",
   "name": "python",
   "nbconvert_exporter": "python",
   "pygments_lexer": "ipython3",
   "version": "3.6.3"
  }
 },
 "nbformat": 4,
 "nbformat_minor": 2
}
