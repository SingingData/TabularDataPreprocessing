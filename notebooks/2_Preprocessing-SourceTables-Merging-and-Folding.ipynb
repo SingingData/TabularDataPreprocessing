{
 "cells": [
  {
   "cell_type": "markdown",
   "metadata": {},
   "source": [
    "## 2. Source Data Merging and Folding"
   ]
  },
  {
   "cell_type": "markdown",
   "metadata": {},
   "source": [
    "Last Updated: December 11, 2018"
   ]
  },
  {
   "cell_type": "code",
   "execution_count": 114,
   "metadata": {
    "collapsed": true
   },
   "outputs": [],
   "source": [
    "%matplotlib inline\n",
    "\n",
    "from IPython.core.interactiveshell import InteractiveShell\n",
    "InteractiveShell.ast_node_interactivity = \"all\"\n",
    "\n",
    "from __future__ import print_function\n",
    "import numpy as np\n",
    "import pandas as pd\n",
    "import matplotlib.pyplot as plt\n",
    "from IPython.display import SVG\n",
    "from sklearn import preprocessing\n",
    "import os\n",
    "from os.path import join, dirname\n",
    "from os.path import dirname, join\n",
    "from tqdm import tqdm_notebook\n",
    "import pandas as pd\n",
    "from pandas import pivot\n",
    "from pandas import tools\n",
    "import numpy as np\n",
    "import cv2\n",
    "import re\n",
    "import io\n",
    "import sys \n",
    "import pip\n",
    "import csv\n",
    "from sklearn.model_selection import train_test_split\n",
    "import glob\n",
    "import random\n",
    "import warnings\n",
    "from pandas import DataFrame   \n",
    "import pickle\n",
    "import cloudpickle\n",
    "import azureml\n",
    "import string\n",
    "from scipy import stats\n",
    "import pyparsing\n",
    "import tempfile  \n",
    "import logging\n",
    "import graphviz"
   ]
  },
  {
   "cell_type": "code",
   "execution_count": 115,
   "metadata": {
    "collapsed": true
   },
   "outputs": [],
   "source": [
    "from IPython.core.interactiveshell import InteractiveShell\n",
    "InteractiveShell.ast_node_interactivity = \"all\""
   ]
  },
  {
   "cell_type": "markdown",
   "metadata": {
    "collapsed": true
   },
   "source": [
    "### Working Directory Definition"
   ]
  },
  {
   "cell_type": "code",
   "execution_count": 116,
   "metadata": {},
   "outputs": [
    {
     "name": "stdout",
     "output_type": "stream",
     "text": [
      "D://MAFData/v2data\n"
     ]
    },
    {
     "data": {
      "text/plain": [
       "'D:\\\\MAFData\\\\v2data'"
      ]
     },
     "execution_count": 116,
     "metadata": {},
     "output_type": "execute_result"
    }
   ],
   "source": [
    "os.chdir('D://MAFData/v2data')\n",
    "base_dir = 'D://MAFData/v2data'\n",
    "WorkingDir = os.path.join(base_dir, 'Workingdir')\n",
    "\n",
    "print(base_dir)\n",
    "os.getcwd()"
   ]
  },
  {
   "cell_type": "markdown",
   "metadata": {},
   "source": [
    "### Read in Cleaned Source Data"
   ]
  },
  {
   "cell_type": "code",
   "execution_count": 117,
   "metadata": {},
   "outputs": [
    {
     "data": {
      "text/plain": [
       "'D:\\\\MAFData'"
      ]
     },
     "execution_count": 117,
     "metadata": {},
     "output_type": "execute_result"
    },
    {
     "name": "stdout",
     "output_type": "stream",
     "text": [
      "2018-12-11 19:05:37.278413\n",
      "2018-12-11 19:06:08.196957\n",
      "0:00:30.918544\n"
     ]
    }
   ],
   "source": [
    "import pprint, pickle\n",
    "PATH = 'D://MAFData//'\n",
    "os.chdir('D://MAFData')\n",
    "os.getcwd()\n",
    "\n",
    "import datetime\n",
    "t1 = datetime.datetime.now(); print(t1)\n",
    "\n",
    "with open(PATH + 'Portfolio_cleaned.pkl', 'rb') as f:\n",
    "    Portfolio_cleaned = pickle.load(f)\n",
    "\n",
    "t2 = datetime.datetime.now(); print(t2) \n",
    "time_spent = t2-t1; print(time_spent)"
   ]
  },
  {
   "cell_type": "code",
   "execution_count": 118,
   "metadata": {},
   "outputs": [
    {
     "data": {
      "text/plain": [
       "81187.0"
      ]
     },
     "execution_count": 118,
     "metadata": {},
     "output_type": "execute_result"
    }
   ],
   "source": [
    "Portfolio_cleaned.shape[0]/365\n",
    "Portfolio_cleaned.sort_values(['Account_Number', 'MISDATE'], ascending=[True, False], inplace=True)\n",
    "Portfolio_cleaned.reset_index(drop=True, inplace=True)"
   ]
  },
  {
   "cell_type": "markdown",
   "metadata": {},
   "source": [
    "### Count of 'ATTRITION_FLAG' == 'VOLUNTARY'\n",
    "\n",
    "    extract Account_Number of VOLUNTARY\n",
    "\n"
   ]
  },
  {
   "cell_type": "code",
   "execution_count": 119,
   "metadata": {},
   "outputs": [
    {
     "data": {
      "text/plain": [
       "81187.0"
      ]
     },
     "execution_count": 119,
     "metadata": {},
     "output_type": "execute_result"
    }
   ],
   "source": [
    "Portfolio_cleaned = Portfolio_cleaned.copy()\n",
    "Portfolio_cleaned.shape[0]/365\n"
   ]
  },
  {
   "cell_type": "code",
   "execution_count": 120,
   "metadata": {},
   "outputs": [
    {
     "data": {
      "text/plain": [
       "(6906, 1)"
      ]
     },
     "execution_count": 120,
     "metadata": {},
     "output_type": "execute_result"
    }
   ],
   "source": [
    "df_VOLUNTARY_Account_Number = pd.DataFrame(Portfolio_cleaned[Portfolio_cleaned['ATTRITION_FLAG'] == 'VOLUNTARY'].Account_Number)\n",
    "df_VOLUNTARY_Account_Number.shape\n",
    "df_VOLUNTARY_Account_Number = pd.DataFrame(df_VOLUNTARY_Account_Number)\n"
   ]
  },
  {
   "cell_type": "code",
   "execution_count": 121,
   "metadata": {},
   "outputs": [
    {
     "data": {
      "text/plain": [
       "6906"
      ]
     },
     "execution_count": 121,
     "metadata": {},
     "output_type": "execute_result"
    }
   ],
   "source": [
    "len(df_VOLUNTARY_Account_Number)\n"
   ]
  },
  {
   "cell_type": "markdown",
   "metadata": {},
   "source": [
    "#### Remove duplicated accounts from df"
   ]
  },
  {
   "cell_type": "code",
   "execution_count": 122,
   "metadata": {},
   "outputs": [
    {
     "data": {
      "text/plain": [
       "(36, 1)"
      ]
     },
     "execution_count": 122,
     "metadata": {},
     "output_type": "execute_result"
    }
   ],
   "source": [
    "VOLUNTARY_Account_Number_dup = df_VOLUNTARY_Account_Number[df_VOLUNTARY_Account_Number.duplicated(keep=False)]\n",
    "VOLUNTARY_Account_Number_dup.shape\n"
   ]
  },
  {
   "cell_type": "code",
   "execution_count": 123,
   "metadata": {},
   "outputs": [
    {
     "data": {
      "text/plain": [
       "(29633255, 24)"
      ]
     },
     "execution_count": 123,
     "metadata": {},
     "output_type": "execute_result"
    },
    {
     "data": {
      "text/plain": [
       "81187.0"
      ]
     },
     "execution_count": 123,
     "metadata": {},
     "output_type": "execute_result"
    },
    {
     "data": {
      "text/plain": [
       "81169.0"
      ]
     },
     "execution_count": 123,
     "metadata": {},
     "output_type": "execute_result"
    }
   ],
   "source": [
    "Portfolio_cleaned.shape\n",
    "Portfolio_cleaned.shape[0]/365\n",
    "Portfolio_cleaned = Portfolio_cleaned[~Portfolio_cleaned['Account_Number'].isin(list(VOLUNTARY_Account_Number_dup['Account_Number']))]\n",
    "Portfolio_cleaned.shape[0]/365"
   ]
  },
  {
   "cell_type": "code",
   "execution_count": 124,
   "metadata": {},
   "outputs": [
    {
     "data": {
      "text/plain": [
       "81169"
      ]
     },
     "execution_count": 124,
     "metadata": {},
     "output_type": "execute_result"
    }
   ],
   "source": [
    "unique_accounts_count = len(Portfolio_cleaned['Account_Number'].unique())\n",
    "unique_accounts_count\n",
    "df = Portfolio_cleaned\n"
   ]
  },
  {
   "cell_type": "code",
   "execution_count": 125,
   "metadata": {},
   "outputs": [
    {
     "data": {
      "text/plain": [
       "6888"
      ]
     },
     "execution_count": 125,
     "metadata": {},
     "output_type": "execute_result"
    },
    {
     "data": {
      "text/plain": [
       "81169"
      ]
     },
     "execution_count": 125,
     "metadata": {},
     "output_type": "execute_result"
    },
    {
     "data": {
      "text/plain": [
       "0.08485998349123434"
      ]
     },
     "execution_count": 125,
     "metadata": {},
     "output_type": "execute_result"
    }
   ],
   "source": [
    "len(df_VOLUNTARY_Account_Number['Account_Number'].unique())\n",
    "unique_accounts_count\n",
    "len(df_VOLUNTARY_Account_Number['Account_Number'].unique())/unique_accounts_count"
   ]
  },
  {
   "cell_type": "markdown",
   "metadata": {},
   "source": [
    "### Create List of Open Account Numbers to Resample Timespan"
   ]
  },
  {
   "cell_type": "code",
   "execution_count": 126,
   "metadata": {
    "collapsed": true
   },
   "outputs": [],
   "source": [
    "df_OPEN = df.loc[~df['Account_Number'].isin(df_VOLUNTARY_Account_Number['Account_Number'].unique())]"
   ]
  },
  {
   "cell_type": "code",
   "execution_count": 127,
   "metadata": {},
   "outputs": [
    {
     "data": {
      "text/plain": [
       "Account_Number                         0\n",
       "MISDATE                                0\n",
       "ATTRITION_FLAG                         0\n",
       "ACCOUNT_CREATION_DATE                  0\n",
       "ACTUAL_CURRENT_BALANCE                 0\n",
       "Credit_Limit                           0\n",
       "LAST_ACTIVITY_DATE                747368\n",
       "Last_Statement_Closing_Balance         0\n",
       "Last_Statement_Date                    0\n",
       "Last_Statement_Minimum_Due             0\n",
       "Monthly_Salary                         0\n",
       "Months_On_Book                         0\n",
       "Next_Statement_Date                    0\n",
       "Monthly_Salary                         0\n",
       "Nationality_Group                      0\n",
       "Next_Statement_Date                    0\n",
       "No_Of_Due_Stmt                         0\n",
       "Product                                0\n",
       "APR_Rate                               0\n",
       "Product_Fee_Type                       0\n",
       "Product_Category                       0\n",
       "Days_On_Book                           0\n",
       "Days_From_Statement                    0\n",
       "Days_from_Last_Activity                0\n",
       "dtype: int64"
      ]
     },
     "execution_count": 127,
     "metadata": {},
     "output_type": "execute_result"
    }
   ],
   "source": [
    "df_OPEN.isnull().sum()"
   ]
  },
  {
   "cell_type": "code",
   "execution_count": 128,
   "metadata": {},
   "outputs": [
    {
     "data": {
      "text/plain": [
       "74299"
      ]
     },
     "execution_count": 128,
     "metadata": {},
     "output_type": "execute_result"
    },
    {
     "data": {
      "text/plain": [
       "81169"
      ]
     },
     "execution_count": 128,
     "metadata": {},
     "output_type": "execute_result"
    },
    {
     "data": {
      "text/plain": [
       "6888"
      ]
     },
     "execution_count": 128,
     "metadata": {},
     "output_type": "execute_result"
    }
   ],
   "source": [
    "unique_OPEN = df_OPEN['Account_Number'].unique()\n",
    "len(unique_OPEN)\n",
    "unique_Account_Number = df['Account_Number'].unique()\n",
    "len(unique_Account_Number)\n",
    "unique_VOLUNTARY = df_VOLUNTARY_Account_Number['Account_Number'].unique()\n",
    "len(unique_VOLUNTARY)\n",
    "\n",
    "#assert len(unique_Account_Number) == (len(unique_OPEN) + len(unique_VOLUNTARY))"
   ]
  },
  {
   "cell_type": "code",
   "execution_count": 129,
   "metadata": {},
   "outputs": [
    {
     "data": {
      "text/plain": [
       "pandas.core.frame.DataFrame"
      ]
     },
     "execution_count": 129,
     "metadata": {},
     "output_type": "execute_result"
    },
    {
     "data": {
      "text/plain": [
       "(29626685, 24)"
      ]
     },
     "execution_count": 129,
     "metadata": {},
     "output_type": "execute_result"
    },
    {
     "data": {
      "text/plain": [
       "(27119135, 24)"
      ]
     },
     "execution_count": 129,
     "metadata": {},
     "output_type": "execute_result"
    },
    {
     "data": {
      "text/plain": [
       "74299.0"
      ]
     },
     "execution_count": 129,
     "metadata": {},
     "output_type": "execute_result"
    }
   ],
   "source": [
    "type(df_OPEN)\n",
    "df.shape\n",
    "df_OPEN.shape\n",
    "df_OPEN.shape[0]/365\n"
   ]
  },
  {
   "cell_type": "markdown",
   "metadata": {},
   "source": [
    "### Get range of MISDATE where df_OPEN"
   ]
  },
  {
   "cell_type": "markdown",
   "metadata": {},
   "source": [
    "extract earliest possible start dates for each account"
   ]
  },
  {
   "cell_type": "code",
   "execution_count": 130,
   "metadata": {
    "collapsed": true
   },
   "outputs": [],
   "source": [
    "# Check min date\n",
    "min_dates = df_OPEN.groupby('Account_Number')['MISDATE'].min()\n",
    "# Check max date\n",
    "max_dates = df_OPEN.groupby('Account_Number')['MISDATE'].max()"
   ]
  },
  {
   "cell_type": "code",
   "execution_count": 131,
   "metadata": {
    "collapsed": true
   },
   "outputs": [],
   "source": [
    "to_dates = max_dates\n",
    "from_dates = min_dates + pd.DateOffset(days=130)"
   ]
  },
  {
   "cell_type": "code",
   "execution_count": 132,
   "metadata": {},
   "outputs": [
    {
     "data": {
      "text/plain": [
       "(74299, 1)"
      ]
     },
     "execution_count": 132,
     "metadata": {},
     "output_type": "execute_result"
    },
    {
     "data": {
      "text/plain": [
       "Index(['MISDATE'], dtype='object')"
      ]
     },
     "execution_count": 132,
     "metadata": {},
     "output_type": "execute_result"
    }
   ],
   "source": [
    "dates = pd.DataFrame(to_dates); dates.shape; dates.columns; \n",
    "dates.reset_index(inplace=True); #dates\n",
    "dates.rename(columns={\"MISDATE\": \"to_dates\"}, inplace=True)"
   ]
  },
  {
   "cell_type": "code",
   "execution_count": 133,
   "metadata": {},
   "outputs": [
    {
     "data": {
      "text/plain": [
       "(74299, 3)"
      ]
     },
     "execution_count": 133,
     "metadata": {},
     "output_type": "execute_result"
    },
    {
     "data": {
      "text/plain": [
       "(74239, 3)"
      ]
     },
     "execution_count": 133,
     "metadata": {},
     "output_type": "execute_result"
    },
    {
     "data": {
      "text/plain": [
       "74299.0"
      ]
     },
     "execution_count": 133,
     "metadata": {},
     "output_type": "execute_result"
    },
    {
     "data": {
      "text/plain": [
       "74299"
      ]
     },
     "execution_count": 133,
     "metadata": {},
     "output_type": "execute_result"
    }
   ],
   "source": [
    "dates['from_dates'] = pd.DataFrame(from_dates.values)\n",
    "dates.shape\n",
    "dates = dates[dates['to_dates'] == '2017-09-30']\n",
    "dates.shape\n",
    "df_OPEN.shape[0]/365\n",
    "len(df_OPEN['Account_Number'].unique())"
   ]
  },
  {
   "cell_type": "code",
   "execution_count": 134,
   "metadata": {},
   "outputs": [
    {
     "data": {
      "text/plain": [
       "Account_Number    0\n",
       "to_dates          0\n",
       "from_dates        0\n",
       "dtype: int64"
      ]
     },
     "execution_count": 134,
     "metadata": {},
     "output_type": "execute_result"
    }
   ],
   "source": [
    "dates.isnull().sum()"
   ]
  },
  {
   "cell_type": "markdown",
   "metadata": {},
   "source": [
    "### Create a Random Selection of `start_date` for Sample"
   ]
  },
  {
   "cell_type": "code",
   "execution_count": 135,
   "metadata": {},
   "outputs": [
    {
     "data": {
      "text/plain": [
       "Index(['Account_Number', 'to_dates', 'from_dates'], dtype='object')"
      ]
     },
     "execution_count": 135,
     "metadata": {},
     "output_type": "execute_result"
    },
    {
     "data": {
      "text/plain": [
       "(74239, 3)"
      ]
     },
     "execution_count": 135,
     "metadata": {},
     "output_type": "execute_result"
    },
    {
     "data": {
      "text/plain": [
       "2017-09-30    74239\n",
       "Name: to_dates, dtype: int64"
      ]
     },
     "execution_count": 135,
     "metadata": {},
     "output_type": "execute_result"
    }
   ],
   "source": [
    "dates.columns\n",
    "dates.shape\n",
    "dates.to_dates.value_counts()"
   ]
  },
  {
   "cell_type": "code",
   "execution_count": 136,
   "metadata": {},
   "outputs": [
    {
     "data": {
      "text/plain": [
       "datetime.timedelta(137)"
      ]
     },
     "execution_count": 136,
     "metadata": {},
     "output_type": "execute_result"
    },
    {
     "data": {
      "text/plain": [
       "74239"
      ]
     },
     "execution_count": 136,
     "metadata": {},
     "output_type": "execute_result"
    }
   ],
   "source": [
    "from random import randint\n",
    "import datetime\n",
    "datetime.timedelta(randint(1,234))\n",
    "len(dates['to_dates'])\n",
    "from random import randint\n",
    "import datetime\n",
    "dates['randomint']=\"\"\n",
    "dates['randomint'] = np.random.choice(range(1,234),len(dates),replace=True)\n"
   ]
  },
  {
   "cell_type": "code",
   "execution_count": 137,
   "metadata": {},
   "outputs": [
    {
     "data": {
      "text/html": [
       "<div>\n",
       "<style scoped>\n",
       "    .dataframe tbody tr th:only-of-type {\n",
       "        vertical-align: middle;\n",
       "    }\n",
       "\n",
       "    .dataframe tbody tr th {\n",
       "        vertical-align: top;\n",
       "    }\n",
       "\n",
       "    .dataframe thead th {\n",
       "        text-align: right;\n",
       "    }\n",
       "</style>\n",
       "<table border=\"1\" class=\"dataframe\">\n",
       "  <thead>\n",
       "    <tr style=\"text-align: right;\">\n",
       "      <th></th>\n",
       "      <th>Account_Number</th>\n",
       "      <th>to_dates</th>\n",
       "      <th>from_dates</th>\n",
       "      <th>randomint</th>\n",
       "      <th>random_end_dt</th>\n",
       "    </tr>\n",
       "  </thead>\n",
       "  <tbody>\n",
       "    <tr>\n",
       "      <th>0</th>\n",
       "      <td>MAFF_ACCT_0000002125</td>\n",
       "      <td>2017-09-30</td>\n",
       "      <td>2017-02-08</td>\n",
       "      <td>80</td>\n",
       "      <td>2017-07-12</td>\n",
       "    </tr>\n",
       "    <tr>\n",
       "      <th>1</th>\n",
       "      <td>MAFF_ACCT_0000002171</td>\n",
       "      <td>2017-09-30</td>\n",
       "      <td>2017-02-08</td>\n",
       "      <td>118</td>\n",
       "      <td>2017-06-04</td>\n",
       "    </tr>\n",
       "  </tbody>\n",
       "</table>\n",
       "</div>"
      ],
      "text/plain": [
       "         Account_Number   to_dates from_dates  randomint random_end_dt\n",
       "0  MAFF_ACCT_0000002125 2017-09-30 2017-02-08         80    2017-07-12\n",
       "1  MAFF_ACCT_0000002171 2017-09-30 2017-02-08        118    2017-06-04"
      ]
     },
     "execution_count": 137,
     "metadata": {},
     "output_type": "execute_result"
    },
    {
     "data": {
      "text/plain": [
       "(74239, 5)"
      ]
     },
     "execution_count": 137,
     "metadata": {},
     "output_type": "execute_result"
    }
   ],
   "source": [
    "dates['random_end_dt']=dates['to_dates']-pd.to_timedelta(dates['randomint'],unit='d')\n",
    "dates.head(2)\n",
    "dates.shape"
   ]
  },
  {
   "cell_type": "code",
   "execution_count": 138,
   "metadata": {},
   "outputs": [
    {
     "data": {
      "text/plain": [
       "(27119135, 26)"
      ]
     },
     "execution_count": 138,
     "metadata": {},
     "output_type": "execute_result"
    },
    {
     "data": {
      "text/html": [
       "<div>\n",
       "<style scoped>\n",
       "    .dataframe tbody tr th:only-of-type {\n",
       "        vertical-align: middle;\n",
       "    }\n",
       "\n",
       "    .dataframe tbody tr th {\n",
       "        vertical-align: top;\n",
       "    }\n",
       "\n",
       "    .dataframe thead th {\n",
       "        text-align: right;\n",
       "    }\n",
       "</style>\n",
       "<table border=\"1\" class=\"dataframe\">\n",
       "  <thead>\n",
       "    <tr style=\"text-align: right;\">\n",
       "      <th></th>\n",
       "      <th>Account_Number</th>\n",
       "      <th>MISDATE</th>\n",
       "      <th>ATTRITION_FLAG</th>\n",
       "      <th>ACCOUNT_CREATION_DATE</th>\n",
       "      <th>ACTUAL_CURRENT_BALANCE</th>\n",
       "      <th>Credit_Limit</th>\n",
       "      <th>LAST_ACTIVITY_DATE</th>\n",
       "      <th>Last_Statement_Closing_Balance</th>\n",
       "      <th>Last_Statement_Date</th>\n",
       "      <th>Last_Statement_Minimum_Due</th>\n",
       "      <th>...</th>\n",
       "      <th>No_Of_Due_Stmt</th>\n",
       "      <th>Product</th>\n",
       "      <th>APR_Rate</th>\n",
       "      <th>Product_Fee_Type</th>\n",
       "      <th>Product_Category</th>\n",
       "      <th>Days_On_Book</th>\n",
       "      <th>Days_From_Statement</th>\n",
       "      <th>Days_from_Last_Activity</th>\n",
       "      <th>randomint</th>\n",
       "      <th>random_end_dt</th>\n",
       "    </tr>\n",
       "  </thead>\n",
       "  <tbody>\n",
       "    <tr>\n",
       "      <th>0</th>\n",
       "      <td>MAFF_ACCT_0000002125</td>\n",
       "      <td>2017-09-30</td>\n",
       "      <td>OPEN</td>\n",
       "      <td>2012-10-24</td>\n",
       "      <td>12554.14</td>\n",
       "      <td>18000</td>\n",
       "      <td>2017-09-30</td>\n",
       "      <td>17391</td>\n",
       "      <td>2017-09-10</td>\n",
       "      <td>869</td>\n",
       "      <td>...</td>\n",
       "      <td>0</td>\n",
       "      <td>007</td>\n",
       "      <td>LOW</td>\n",
       "      <td>NON FEE</td>\n",
       "      <td>CASHBACK</td>\n",
       "      <td>1802</td>\n",
       "      <td>20</td>\n",
       "      <td>0</td>\n",
       "      <td>80.0</td>\n",
       "      <td>2017-07-12</td>\n",
       "    </tr>\n",
       "    <tr>\n",
       "      <th>1</th>\n",
       "      <td>MAFF_ACCT_0000002125</td>\n",
       "      <td>2017-09-29</td>\n",
       "      <td>OPEN</td>\n",
       "      <td>2012-10-24</td>\n",
       "      <td>12454.14</td>\n",
       "      <td>18000</td>\n",
       "      <td>2017-09-29</td>\n",
       "      <td>17391</td>\n",
       "      <td>2017-09-10</td>\n",
       "      <td>869</td>\n",
       "      <td>...</td>\n",
       "      <td>0</td>\n",
       "      <td>007</td>\n",
       "      <td>LOW</td>\n",
       "      <td>NON FEE</td>\n",
       "      <td>CASHBACK</td>\n",
       "      <td>1801</td>\n",
       "      <td>19</td>\n",
       "      <td>0</td>\n",
       "      <td>80.0</td>\n",
       "      <td>2017-07-12</td>\n",
       "    </tr>\n",
       "    <tr>\n",
       "      <th>2</th>\n",
       "      <td>MAFF_ACCT_0000002125</td>\n",
       "      <td>2017-09-28</td>\n",
       "      <td>OPEN</td>\n",
       "      <td>2012-10-24</td>\n",
       "      <td>12291.14</td>\n",
       "      <td>18000</td>\n",
       "      <td>2017-09-28</td>\n",
       "      <td>17391</td>\n",
       "      <td>2017-09-10</td>\n",
       "      <td>869</td>\n",
       "      <td>...</td>\n",
       "      <td>0</td>\n",
       "      <td>007</td>\n",
       "      <td>LOW</td>\n",
       "      <td>NON FEE</td>\n",
       "      <td>CASHBACK</td>\n",
       "      <td>1800</td>\n",
       "      <td>18</td>\n",
       "      <td>0</td>\n",
       "      <td>80.0</td>\n",
       "      <td>2017-07-12</td>\n",
       "    </tr>\n",
       "  </tbody>\n",
       "</table>\n",
       "<p>3 rows × 26 columns</p>\n",
       "</div>"
      ],
      "text/plain": [
       "         Account_Number    MISDATE ATTRITION_FLAG ACCOUNT_CREATION_DATE  \\\n",
       "0  MAFF_ACCT_0000002125 2017-09-30           OPEN            2012-10-24   \n",
       "1  MAFF_ACCT_0000002125 2017-09-29           OPEN            2012-10-24   \n",
       "2  MAFF_ACCT_0000002125 2017-09-28           OPEN            2012-10-24   \n",
       "\n",
       "  ACTUAL_CURRENT_BALANCE  Credit_Limit LAST_ACTIVITY_DATE  \\\n",
       "0               12554.14         18000         2017-09-30   \n",
       "1               12454.14         18000         2017-09-29   \n",
       "2               12291.14         18000         2017-09-28   \n",
       "\n",
       "   Last_Statement_Closing_Balance Last_Statement_Date  \\\n",
       "0                           17391          2017-09-10   \n",
       "1                           17391          2017-09-10   \n",
       "2                           17391          2017-09-10   \n",
       "\n",
       "   Last_Statement_Minimum_Due      ...       No_Of_Due_Stmt  Product APR_Rate  \\\n",
       "0                         869      ...                    0      007      LOW   \n",
       "1                         869      ...                    0      007      LOW   \n",
       "2                         869      ...                    0      007      LOW   \n",
       "\n",
       "   Product_Fee_Type Product_Category Days_On_Book Days_From_Statement  \\\n",
       "0           NON FEE         CASHBACK         1802                  20   \n",
       "1           NON FEE         CASHBACK         1801                  19   \n",
       "2           NON FEE         CASHBACK         1800                  18   \n",
       "\n",
       "  Days_from_Last_Activity randomint random_end_dt  \n",
       "0                       0      80.0    2017-07-12  \n",
       "1                       0      80.0    2017-07-12  \n",
       "2                       0      80.0    2017-07-12  \n",
       "\n",
       "[3 rows x 26 columns]"
      ]
     },
     "execution_count": 138,
     "metadata": {},
     "output_type": "execute_result"
    }
   ],
   "source": [
    "df_OPEN1 = pd.merge(df_OPEN, dates, how='left',on='Account_Number')\n",
    "\n",
    "del df_OPEN1['to_dates']\n",
    "del df_OPEN1['from_dates']\n",
    "df_OPEN1.shape\n",
    "df_OPEN1.head(3)"
   ]
  },
  {
   "cell_type": "code",
   "execution_count": 139,
   "metadata": {},
   "outputs": [
    {
     "data": {
      "text/html": [
       "<div>\n",
       "<style scoped>\n",
       "    .dataframe tbody tr th:only-of-type {\n",
       "        vertical-align: middle;\n",
       "    }\n",
       "\n",
       "    .dataframe tbody tr th {\n",
       "        vertical-align: top;\n",
       "    }\n",
       "\n",
       "    .dataframe thead th {\n",
       "        text-align: right;\n",
       "    }\n",
       "</style>\n",
       "<table border=\"1\" class=\"dataframe\">\n",
       "  <thead>\n",
       "    <tr style=\"text-align: right;\">\n",
       "      <th></th>\n",
       "      <th>Account_Number</th>\n",
       "      <th>MISDATE</th>\n",
       "      <th>ATTRITION_FLAG</th>\n",
       "      <th>ACCOUNT_CREATION_DATE</th>\n",
       "      <th>ACTUAL_CURRENT_BALANCE</th>\n",
       "      <th>Credit_Limit</th>\n",
       "      <th>LAST_ACTIVITY_DATE</th>\n",
       "      <th>Last_Statement_Closing_Balance</th>\n",
       "      <th>Last_Statement_Date</th>\n",
       "      <th>Last_Statement_Minimum_Due</th>\n",
       "      <th>...</th>\n",
       "      <th>No_Of_Due_Stmt</th>\n",
       "      <th>Product</th>\n",
       "      <th>APR_Rate</th>\n",
       "      <th>Product_Fee_Type</th>\n",
       "      <th>Product_Category</th>\n",
       "      <th>Days_On_Book</th>\n",
       "      <th>Days_From_Statement</th>\n",
       "      <th>Days_from_Last_Activity</th>\n",
       "      <th>randomint</th>\n",
       "      <th>random_end_dt</th>\n",
       "    </tr>\n",
       "  </thead>\n",
       "  <tbody>\n",
       "    <tr>\n",
       "      <th>80</th>\n",
       "      <td>MAFF_ACCT_0000002125</td>\n",
       "      <td>2017-07-12</td>\n",
       "      <td>OPEN</td>\n",
       "      <td>2012-10-24</td>\n",
       "      <td>6911.48</td>\n",
       "      <td>18000</td>\n",
       "      <td>2017-07-12</td>\n",
       "      <td>6775</td>\n",
       "      <td>2017-07-10</td>\n",
       "      <td>338</td>\n",
       "      <td>...</td>\n",
       "      <td>0</td>\n",
       "      <td>007</td>\n",
       "      <td>LOW</td>\n",
       "      <td>NON FEE</td>\n",
       "      <td>CASHBACK</td>\n",
       "      <td>1722</td>\n",
       "      <td>2</td>\n",
       "      <td>0</td>\n",
       "      <td>80.0</td>\n",
       "      <td>2017-07-12</td>\n",
       "    </tr>\n",
       "    <tr>\n",
       "      <th>81</th>\n",
       "      <td>MAFF_ACCT_0000002125</td>\n",
       "      <td>2017-07-11</td>\n",
       "      <td>OPEN</td>\n",
       "      <td>2012-10-24</td>\n",
       "      <td>6822.48</td>\n",
       "      <td>18000</td>\n",
       "      <td>2017-07-11</td>\n",
       "      <td>6775</td>\n",
       "      <td>2017-07-10</td>\n",
       "      <td>338</td>\n",
       "      <td>...</td>\n",
       "      <td>1</td>\n",
       "      <td>007</td>\n",
       "      <td>LOW</td>\n",
       "      <td>NON FEE</td>\n",
       "      <td>CASHBACK</td>\n",
       "      <td>1721</td>\n",
       "      <td>1</td>\n",
       "      <td>0</td>\n",
       "      <td>80.0</td>\n",
       "      <td>2017-07-12</td>\n",
       "    </tr>\n",
       "  </tbody>\n",
       "</table>\n",
       "<p>2 rows × 26 columns</p>\n",
       "</div>"
      ],
      "text/plain": [
       "          Account_Number    MISDATE ATTRITION_FLAG ACCOUNT_CREATION_DATE  \\\n",
       "80  MAFF_ACCT_0000002125 2017-07-12           OPEN            2012-10-24   \n",
       "81  MAFF_ACCT_0000002125 2017-07-11           OPEN            2012-10-24   \n",
       "\n",
       "   ACTUAL_CURRENT_BALANCE  Credit_Limit LAST_ACTIVITY_DATE  \\\n",
       "80                6911.48         18000         2017-07-12   \n",
       "81                6822.48         18000         2017-07-11   \n",
       "\n",
       "    Last_Statement_Closing_Balance Last_Statement_Date  \\\n",
       "80                            6775          2017-07-10   \n",
       "81                            6775          2017-07-10   \n",
       "\n",
       "    Last_Statement_Minimum_Due      ...       No_Of_Due_Stmt  Product  \\\n",
       "80                         338      ...                    0      007   \n",
       "81                         338      ...                    1      007   \n",
       "\n",
       "   APR_Rate  Product_Fee_Type Product_Category Days_On_Book  \\\n",
       "80      LOW           NON FEE         CASHBACK         1722   \n",
       "81      LOW           NON FEE         CASHBACK         1721   \n",
       "\n",
       "   Days_From_Statement Days_from_Last_Activity randomint random_end_dt  \n",
       "80                   2                       0      80.0    2017-07-12  \n",
       "81                   1                       0      80.0    2017-07-12  \n",
       "\n",
       "[2 rows x 26 columns]"
      ]
     },
     "execution_count": 139,
     "metadata": {},
     "output_type": "execute_result"
    }
   ],
   "source": [
    "df_OPEN2 = df_OPEN1[df_OPEN1['MISDATE'] <= df_OPEN1['random_end_dt']]\n",
    "df_OPEN2.head(2)"
   ]
  },
  {
   "cell_type": "code",
   "execution_count": 140,
   "metadata": {
    "collapsed": true
   },
   "outputs": [],
   "source": [
    "del df_OPEN2['randomint']"
   ]
  },
  {
   "cell_type": "code",
   "execution_count": 141,
   "metadata": {},
   "outputs": [
    {
     "data": {
      "text/plain": [
       "(9651070, 25)"
      ]
     },
     "execution_count": 141,
     "metadata": {},
     "output_type": "execute_result"
    },
    {
     "data": {
      "text/html": [
       "<div>\n",
       "<style scoped>\n",
       "    .dataframe tbody tr th:only-of-type {\n",
       "        vertical-align: middle;\n",
       "    }\n",
       "\n",
       "    .dataframe tbody tr th {\n",
       "        vertical-align: top;\n",
       "    }\n",
       "\n",
       "    .dataframe thead th {\n",
       "        text-align: right;\n",
       "    }\n",
       "</style>\n",
       "<table border=\"1\" class=\"dataframe\">\n",
       "  <thead>\n",
       "    <tr style=\"text-align: right;\">\n",
       "      <th></th>\n",
       "      <th>Account_Number</th>\n",
       "      <th>MISDATE</th>\n",
       "      <th>ATTRITION_FLAG</th>\n",
       "      <th>ACCOUNT_CREATION_DATE</th>\n",
       "      <th>ACTUAL_CURRENT_BALANCE</th>\n",
       "      <th>Credit_Limit</th>\n",
       "      <th>LAST_ACTIVITY_DATE</th>\n",
       "      <th>Last_Statement_Closing_Balance</th>\n",
       "      <th>Last_Statement_Date</th>\n",
       "      <th>Last_Statement_Minimum_Due</th>\n",
       "      <th>...</th>\n",
       "      <th>Next_Statement_Date</th>\n",
       "      <th>No_Of_Due_Stmt</th>\n",
       "      <th>Product</th>\n",
       "      <th>APR_Rate</th>\n",
       "      <th>Product_Fee_Type</th>\n",
       "      <th>Product_Category</th>\n",
       "      <th>Days_On_Book</th>\n",
       "      <th>Days_From_Statement</th>\n",
       "      <th>Days_from_Last_Activity</th>\n",
       "      <th>random_end_dt</th>\n",
       "    </tr>\n",
       "  </thead>\n",
       "  <tbody>\n",
       "    <tr>\n",
       "      <th>0</th>\n",
       "      <td>MAFF_ACCT_0000002125</td>\n",
       "      <td>2017-07-12</td>\n",
       "      <td>OPEN</td>\n",
       "      <td>2012-10-24</td>\n",
       "      <td>6911.48</td>\n",
       "      <td>18000</td>\n",
       "      <td>2017-07-12</td>\n",
       "      <td>6775</td>\n",
       "      <td>2017-07-10</td>\n",
       "      <td>338</td>\n",
       "      <td>...</td>\n",
       "      <td>2017-08-10</td>\n",
       "      <td>0</td>\n",
       "      <td>007</td>\n",
       "      <td>LOW</td>\n",
       "      <td>NON FEE</td>\n",
       "      <td>CASHBACK</td>\n",
       "      <td>1722</td>\n",
       "      <td>2</td>\n",
       "      <td>0</td>\n",
       "      <td>2017-07-12</td>\n",
       "    </tr>\n",
       "    <tr>\n",
       "      <th>1</th>\n",
       "      <td>MAFF_ACCT_0000002125</td>\n",
       "      <td>2017-07-11</td>\n",
       "      <td>OPEN</td>\n",
       "      <td>2012-10-24</td>\n",
       "      <td>6822.48</td>\n",
       "      <td>18000</td>\n",
       "      <td>2017-07-11</td>\n",
       "      <td>6775</td>\n",
       "      <td>2017-07-10</td>\n",
       "      <td>338</td>\n",
       "      <td>...</td>\n",
       "      <td>2017-08-10</td>\n",
       "      <td>1</td>\n",
       "      <td>007</td>\n",
       "      <td>LOW</td>\n",
       "      <td>NON FEE</td>\n",
       "      <td>CASHBACK</td>\n",
       "      <td>1721</td>\n",
       "      <td>1</td>\n",
       "      <td>0</td>\n",
       "      <td>2017-07-12</td>\n",
       "    </tr>\n",
       "  </tbody>\n",
       "</table>\n",
       "<p>2 rows × 25 columns</p>\n",
       "</div>"
      ],
      "text/plain": [
       "         Account_Number    MISDATE ATTRITION_FLAG ACCOUNT_CREATION_DATE  \\\n",
       "0  MAFF_ACCT_0000002125 2017-07-12           OPEN            2012-10-24   \n",
       "1  MAFF_ACCT_0000002125 2017-07-11           OPEN            2012-10-24   \n",
       "\n",
       "  ACTUAL_CURRENT_BALANCE  Credit_Limit LAST_ACTIVITY_DATE  \\\n",
       "0                6911.48         18000         2017-07-12   \n",
       "1                6822.48         18000         2017-07-11   \n",
       "\n",
       "   Last_Statement_Closing_Balance Last_Statement_Date  \\\n",
       "0                            6775          2017-07-10   \n",
       "1                            6775          2017-07-10   \n",
       "\n",
       "   Last_Statement_Minimum_Due      ...       Next_Statement_Date  \\\n",
       "0                         338      ...                2017-08-10   \n",
       "1                         338      ...                2017-08-10   \n",
       "\n",
       "   No_Of_Due_Stmt Product  APR_Rate Product_Fee_Type Product_Category  \\\n",
       "0               0     007       LOW          NON FEE         CASHBACK   \n",
       "1               1     007       LOW          NON FEE         CASHBACK   \n",
       "\n",
       "  Days_On_Book Days_From_Statement Days_from_Last_Activity random_end_dt  \n",
       "0         1722                   2                       0    2017-07-12  \n",
       "1         1721                   1                       0    2017-07-12  \n",
       "\n",
       "[2 rows x 25 columns]"
      ]
     },
     "execution_count": 141,
     "metadata": {},
     "output_type": "execute_result"
    }
   ],
   "source": [
    "df_OPEN2 = df_OPEN2.reset_index(drop=True)\n",
    "df_OPEN2 = df_OPEN2.sort_values(['Account_Number', 'MISDATE'], ascending=[True, False])\n",
    "df_OPEN2 = df_OPEN2.reset_index(drop=True)\n",
    "df_OPEN2 = df_OPEN2.groupby('Account_Number').head(130)\n",
    "df_OPEN2 = df_OPEN2.reset_index(drop=True)\n",
    "df_OPEN2.shape\n",
    "df_OPEN2.head(2)"
   ]
  },
  {
   "cell_type": "code",
   "execution_count": 142,
   "metadata": {},
   "outputs": [
    {
     "data": {
      "text/plain": [
       "74239.0"
      ]
     },
     "execution_count": 142,
     "metadata": {},
     "output_type": "execute_result"
    }
   ],
   "source": [
    "len(df_OPEN2)/130"
   ]
  },
  {
   "cell_type": "code",
   "execution_count": 143,
   "metadata": {},
   "outputs": [
    {
     "data": {
      "text/plain": [
       "130"
      ]
     },
     "execution_count": 143,
     "metadata": {},
     "output_type": "execute_result"
    },
    {
     "data": {
      "text/plain": [
       "74239.0"
      ]
     },
     "execution_count": 143,
     "metadata": {},
     "output_type": "execute_result"
    }
   ],
   "source": [
    "len(df_OPEN2[df_OPEN2['Account_Number']==\"MAFF_ACCT_0000266356\"])\n",
    "len(df_OPEN2)/130"
   ]
  },
  {
   "cell_type": "code",
   "execution_count": 144,
   "metadata": {
    "collapsed": true
   },
   "outputs": [],
   "source": [
    "del df_OPEN2['random_end_dt']"
   ]
  },
  {
   "cell_type": "code",
   "execution_count": 145,
   "metadata": {
    "collapsed": true
   },
   "outputs": [],
   "source": [
    "output = open('Open_Sampling_Ready1.pkl', 'wb')\n",
    "pickle.dump(df_OPEN2, output)\n",
    "output.close()"
   ]
  },
  {
   "cell_type": "code",
   "execution_count": 146,
   "metadata": {},
   "outputs": [
    {
     "data": {
      "text/plain": [
       "(29626685, 24)"
      ]
     },
     "execution_count": 146,
     "metadata": {},
     "output_type": "execute_result"
    },
    {
     "data": {
      "text/plain": [
       "(9651070, 24)"
      ]
     },
     "execution_count": 146,
     "metadata": {},
     "output_type": "execute_result"
    },
    {
     "data": {
      "text/plain": [
       "(6906, 1)"
      ]
     },
     "execution_count": 146,
     "metadata": {},
     "output_type": "execute_result"
    },
    {
     "data": {
      "text/html": [
       "<div>\n",
       "<style scoped>\n",
       "    .dataframe tbody tr th:only-of-type {\n",
       "        vertical-align: middle;\n",
       "    }\n",
       "\n",
       "    .dataframe tbody tr th {\n",
       "        vertical-align: top;\n",
       "    }\n",
       "\n",
       "    .dataframe thead th {\n",
       "        text-align: right;\n",
       "    }\n",
       "</style>\n",
       "<table border=\"1\" class=\"dataframe\">\n",
       "  <thead>\n",
       "    <tr style=\"text-align: right;\">\n",
       "      <th></th>\n",
       "      <th>Account_Number</th>\n",
       "    </tr>\n",
       "  </thead>\n",
       "  <tbody>\n",
       "    <tr>\n",
       "      <th>11315</th>\n",
       "      <td>MAFF_ACCT_0000005355</td>\n",
       "    </tr>\n",
       "    <tr>\n",
       "      <th>16425</th>\n",
       "      <td>MAFF_ACCT_0000005375</td>\n",
       "    </tr>\n",
       "  </tbody>\n",
       "</table>\n",
       "</div>"
      ],
      "text/plain": [
       "             Account_Number\n",
       "11315  MAFF_ACCT_0000005355\n",
       "16425  MAFF_ACCT_0000005375"
      ]
     },
     "execution_count": 146,
     "metadata": {},
     "output_type": "execute_result"
    }
   ],
   "source": [
    "df.shape\n",
    "df_OPEN2.shape\n",
    "df_VOLUNTARY_Account_Number.shape\n",
    "df_VOLUNTARY_Account_Number.head(2)"
   ]
  },
  {
   "cell_type": "code",
   "execution_count": 147,
   "metadata": {
    "collapsed": true
   },
   "outputs": [],
   "source": [
    "df_VOLUNTARY = df[df['Account_Number'].isin(list(df_VOLUNTARY_Account_Number['Account_Number']))]"
   ]
  },
  {
   "cell_type": "code",
   "execution_count": 148,
   "metadata": {},
   "outputs": [
    {
     "data": {
      "text/plain": [
       "(2507550, 24)"
      ]
     },
     "execution_count": 148,
     "metadata": {},
     "output_type": "execute_result"
    },
    {
     "data": {
      "text/plain": [
       "6870"
      ]
     },
     "execution_count": 148,
     "metadata": {},
     "output_type": "execute_result"
    },
    {
     "data": {
      "text/plain": [
       "array([['MAFF_ACCT_0000005355'],\n",
       "       ['MAFF_ACCT_0000005375'],\n",
       "       ['MAFF_ACCT_0000005394'],\n",
       "       ...,\n",
       "       ['MAFF_ACCT_0000266087'],\n",
       "       ['MAFF_ACCT_0000266126'],\n",
       "       ['MAFF_ACCT_0000266249']], dtype=object)"
      ]
     },
     "execution_count": 148,
     "metadata": {},
     "output_type": "execute_result"
    },
    {
     "data": {
      "text/plain": [
       "6870.0"
      ]
     },
     "execution_count": 148,
     "metadata": {},
     "output_type": "execute_result"
    }
   ],
   "source": [
    "df_VOLUNTARY.shape\n",
    "df_VOLUNTARY.Account_Number.nunique()\n",
    "df_VOLUNTARY_Account_Number.values\n",
    "len(df_VOLUNTARY)/365"
   ]
  },
  {
   "cell_type": "code",
   "execution_count": 149,
   "metadata": {
    "collapsed": true
   },
   "outputs": [],
   "source": [
    "df_VOLUNTARY = df_VOLUNTARY.reset_index(drop=True)\n",
    "df_VOLUNTARY = df_VOLUNTARY.sort_values(['Account_Number', 'MISDATE'], ascending=[True, False])\n",
    "df_VOLUNTARY = df_VOLUNTARY.reset_index(drop=True)\n",
    "df_VOLUNTARY = df_VOLUNTARY.groupby('Account_Number').head(130)\n",
    "df_VOLUNTARY = df_VOLUNTARY.reset_index(drop=True)"
   ]
  },
  {
   "cell_type": "code",
   "execution_count": 150,
   "metadata": {},
   "outputs": [
    {
     "data": {
      "text/plain": [
       "6870.0"
      ]
     },
     "execution_count": 150,
     "metadata": {},
     "output_type": "execute_result"
    },
    {
     "data": {
      "text/plain": [
       "Account_Number                        0\n",
       "MISDATE                               0\n",
       "ATTRITION_FLAG                        0\n",
       "ACCOUNT_CREATION_DATE                 0\n",
       "ACTUAL_CURRENT_BALANCE                0\n",
       "Credit_Limit                          0\n",
       "LAST_ACTIVITY_DATE                40467\n",
       "Last_Statement_Closing_Balance        0\n",
       "Last_Statement_Date                   0\n",
       "Last_Statement_Minimum_Due            0\n",
       "Monthly_Salary                        0\n",
       "Months_On_Book                        0\n",
       "Next_Statement_Date                   0\n",
       "Monthly_Salary                        0\n",
       "Nationality_Group                     0\n",
       "Next_Statement_Date                   0\n",
       "No_Of_Due_Stmt                        0\n",
       "Product                               0\n",
       "APR_Rate                              0\n",
       "Product_Fee_Type                      0\n",
       "Product_Category                      0\n",
       "Days_On_Book                          0\n",
       "Days_From_Statement                   0\n",
       "Days_from_Last_Activity               0\n",
       "dtype: int64"
      ]
     },
     "execution_count": 150,
     "metadata": {},
     "output_type": "execute_result"
    }
   ],
   "source": [
    "len(df_VOLUNTARY)/130\n",
    "df_VOLUNTARY.isnull().sum()"
   ]
  },
  {
   "cell_type": "code",
   "execution_count": 151,
   "metadata": {},
   "outputs": [
    {
     "data": {
      "text/plain": [
       "(10544170, 24)"
      ]
     },
     "execution_count": 151,
     "metadata": {},
     "output_type": "execute_result"
    }
   ],
   "source": [
    "totalframe = pd.concat([df_VOLUNTARY,df_OPEN2], axis=0)\n",
    "totalframe.shape\n",
    "totalframe = pd.DataFrame(totalframe)"
   ]
  },
  {
   "cell_type": "code",
   "execution_count": 152,
   "metadata": {},
   "outputs": [
    {
     "data": {
      "text/plain": [
       "Account_Number                         0\n",
       "MISDATE                                0\n",
       "ATTRITION_FLAG                         0\n",
       "ACCOUNT_CREATION_DATE                  0\n",
       "ACTUAL_CURRENT_BALANCE                 0\n",
       "Credit_Limit                           0\n",
       "LAST_ACTIVITY_DATE                298217\n",
       "Last_Statement_Closing_Balance         0\n",
       "Last_Statement_Date                    0\n",
       "Last_Statement_Minimum_Due             0\n",
       "Monthly_Salary                         0\n",
       "Months_On_Book                         0\n",
       "Next_Statement_Date                    0\n",
       "Monthly_Salary                         0\n",
       "Nationality_Group                      0\n",
       "Next_Statement_Date                    0\n",
       "No_Of_Due_Stmt                         0\n",
       "Product                                0\n",
       "APR_Rate                               0\n",
       "Product_Fee_Type                       0\n",
       "Product_Category                       0\n",
       "Days_On_Book                           0\n",
       "Days_From_Statement                    0\n",
       "Days_from_Last_Activity                0\n",
       "dtype: int64"
      ]
     },
     "execution_count": 152,
     "metadata": {},
     "output_type": "execute_result"
    }
   ],
   "source": [
    "totalframe.isnull().sum()"
   ]
  },
  {
   "cell_type": "code",
   "execution_count": 153,
   "metadata": {},
   "outputs": [
    {
     "data": {
      "text/plain": [
       "81109.0"
      ]
     },
     "execution_count": 153,
     "metadata": {},
     "output_type": "execute_result"
    }
   ],
   "source": [
    "#Check to see our data is divisable by 130 timesteps\n",
    "len(totalframe)/130"
   ]
  },
  {
   "cell_type": "code",
   "execution_count": 154,
   "metadata": {
    "collapsed": true
   },
   "outputs": [],
   "source": [
    "#Write out sample\n",
    "output = open('All_Sampling_Ready1.pkl', 'wb')\n",
    "pickle.dump(totalframe, output)\n",
    "output.close()"
   ]
  },
  {
   "cell_type": "code",
   "execution_count": 155,
   "metadata": {},
   "outputs": [
    {
     "data": {
      "text/plain": [
       "(10544170, 24)"
      ]
     },
     "execution_count": 155,
     "metadata": {},
     "output_type": "execute_result"
    },
    {
     "data": {
      "text/html": [
       "<div>\n",
       "<style scoped>\n",
       "    .dataframe tbody tr th:only-of-type {\n",
       "        vertical-align: middle;\n",
       "    }\n",
       "\n",
       "    .dataframe tbody tr th {\n",
       "        vertical-align: top;\n",
       "    }\n",
       "\n",
       "    .dataframe thead th {\n",
       "        text-align: right;\n",
       "    }\n",
       "</style>\n",
       "<table border=\"1\" class=\"dataframe\">\n",
       "  <thead>\n",
       "    <tr style=\"text-align: right;\">\n",
       "      <th></th>\n",
       "      <th>Account_Number</th>\n",
       "      <th>MISDATE</th>\n",
       "      <th>ATTRITION_FLAG</th>\n",
       "      <th>ACCOUNT_CREATION_DATE</th>\n",
       "      <th>ACTUAL_CURRENT_BALANCE</th>\n",
       "      <th>Credit_Limit</th>\n",
       "      <th>LAST_ACTIVITY_DATE</th>\n",
       "      <th>Last_Statement_Closing_Balance</th>\n",
       "      <th>Last_Statement_Date</th>\n",
       "      <th>Last_Statement_Minimum_Due</th>\n",
       "      <th>...</th>\n",
       "      <th>Nationality_Group</th>\n",
       "      <th>Next_Statement_Date</th>\n",
       "      <th>No_Of_Due_Stmt</th>\n",
       "      <th>Product</th>\n",
       "      <th>APR_Rate</th>\n",
       "      <th>Product_Fee_Type</th>\n",
       "      <th>Product_Category</th>\n",
       "      <th>Days_On_Book</th>\n",
       "      <th>Days_From_Statement</th>\n",
       "      <th>Days_from_Last_Activity</th>\n",
       "    </tr>\n",
       "  </thead>\n",
       "  <tbody>\n",
       "    <tr>\n",
       "      <th>0</th>\n",
       "      <td>MAFF_ACCT_0000005355</td>\n",
       "      <td>2017-04-09</td>\n",
       "      <td>VOLUNTARY</td>\n",
       "      <td>2013-04-16</td>\n",
       "      <td>-0.3</td>\n",
       "      <td>25313</td>\n",
       "      <td>2017-04-08</td>\n",
       "      <td>262</td>\n",
       "      <td>2017-04-05</td>\n",
       "      <td>100</td>\n",
       "      <td>...</td>\n",
       "      <td>01. INDIA</td>\n",
       "      <td>2017-05-05</td>\n",
       "      <td>0</td>\n",
       "      <td>007</td>\n",
       "      <td>LOW</td>\n",
       "      <td>NON FEE</td>\n",
       "      <td>CASHBACK</td>\n",
       "      <td>1454</td>\n",
       "      <td>4</td>\n",
       "      <td>1</td>\n",
       "    </tr>\n",
       "  </tbody>\n",
       "</table>\n",
       "<p>1 rows × 24 columns</p>\n",
       "</div>"
      ],
      "text/plain": [
       "         Account_Number    MISDATE ATTRITION_FLAG ACCOUNT_CREATION_DATE  \\\n",
       "0  MAFF_ACCT_0000005355 2017-04-09      VOLUNTARY            2013-04-16   \n",
       "\n",
       "  ACTUAL_CURRENT_BALANCE  Credit_Limit LAST_ACTIVITY_DATE  \\\n",
       "0                   -0.3         25313         2017-04-08   \n",
       "\n",
       "   Last_Statement_Closing_Balance Last_Statement_Date  \\\n",
       "0                             262          2017-04-05   \n",
       "\n",
       "   Last_Statement_Minimum_Due           ...            Nationality_Group  \\\n",
       "0                         100           ...                    01. INDIA   \n",
       "\n",
       "   Next_Statement_Date No_Of_Due_Stmt               Product APR_Rate  \\\n",
       "0           2017-05-05              0  007                       LOW   \n",
       "\n",
       "  Product_Fee_Type Product_Category Days_On_Book Days_From_Statement  \\\n",
       "0          NON FEE         CASHBACK         1454                   4   \n",
       "\n",
       "  Days_from_Last_Activity  \n",
       "0                       1  \n",
       "\n",
       "[1 rows x 24 columns]"
      ]
     },
     "execution_count": 155,
     "metadata": {},
     "output_type": "execute_result"
    }
   ],
   "source": [
    "del df_VOLUNTARY\n",
    "del df_OPEN2\n",
    "totalframe.shape\n",
    "totalframe.head(1)"
   ]
  },
  {
   "cell_type": "code",
   "execution_count": null,
   "metadata": {
    "collapsed": true
   },
   "outputs": [],
   "source": []
  },
  {
   "cell_type": "code",
   "execution_count": 156,
   "metadata": {},
   "outputs": [
    {
     "data": {
      "text/plain": [
       "(2129999, 8)"
      ]
     },
     "execution_count": 156,
     "metadata": {},
     "output_type": "execute_result"
    },
    {
     "data": {
      "text/html": [
       "<div>\n",
       "<style scoped>\n",
       "    .dataframe tbody tr th:only-of-type {\n",
       "        vertical-align: middle;\n",
       "    }\n",
       "\n",
       "    .dataframe tbody tr th {\n",
       "        vertical-align: top;\n",
       "    }\n",
       "\n",
       "    .dataframe thead th {\n",
       "        text-align: right;\n",
       "    }\n",
       "</style>\n",
       "<table border=\"1\" class=\"dataframe\">\n",
       "  <thead>\n",
       "    <tr style=\"text-align: right;\">\n",
       "      <th></th>\n",
       "      <th>Account_Number</th>\n",
       "      <th>STATEMENT_DATE</th>\n",
       "      <th>STATEMENT_FROM_DATE</th>\n",
       "      <th>STATEMENT_TO_DATE</th>\n",
       "      <th>STATEMENT_BALANCE</th>\n",
       "      <th>POINTS_REDEEMED</th>\n",
       "      <th>POINTS_BALANCE_CLOSING</th>\n",
       "      <th>POINTS_EARNED</th>\n",
       "    </tr>\n",
       "  </thead>\n",
       "  <tbody>\n",
       "    <tr>\n",
       "      <th>0</th>\n",
       "      <td>MAFF_ACCT_0000000001</td>\n",
       "      <td>2017-05-03</td>\n",
       "      <td>2017-04-03</td>\n",
       "      <td>2017-05-03</td>\n",
       "      <td>0</td>\n",
       "      <td>0</td>\n",
       "      <td>0</td>\n",
       "      <td>0</td>\n",
       "    </tr>\n",
       "    <tr>\n",
       "      <th>1</th>\n",
       "      <td>MAFF_ACCT_0000000003</td>\n",
       "      <td>2017-12-18</td>\n",
       "      <td>2017-11-18</td>\n",
       "      <td>2017-12-18</td>\n",
       "      <td>2049</td>\n",
       "      <td>0</td>\n",
       "      <td>0</td>\n",
       "      <td>0</td>\n",
       "    </tr>\n",
       "  </tbody>\n",
       "</table>\n",
       "</div>"
      ],
      "text/plain": [
       "         Account_Number STATEMENT_DATE STATEMENT_FROM_DATE STATEMENT_TO_DATE  \\\n",
       "0  MAFF_ACCT_0000000001     2017-05-03          2017-04-03        2017-05-03   \n",
       "1  MAFF_ACCT_0000000003     2017-12-18          2017-11-18        2017-12-18   \n",
       "\n",
       "   STATEMENT_BALANCE  POINTS_REDEEMED  POINTS_BALANCE_CLOSING  POINTS_EARNED  \n",
       "0                  0                0                       0              0  \n",
       "1               2049                0                       0              0  "
      ]
     },
     "execution_count": 156,
     "metadata": {},
     "output_type": "execute_result"
    },
    {
     "data": {
      "text/plain": [
       "Account_Number            object\n",
       "STATEMENT_DATE            object\n",
       "STATEMENT_FROM_DATE       object\n",
       "STATEMENT_TO_DATE         object\n",
       "STATEMENT_BALANCE          int64\n",
       "POINTS_REDEEMED            int64\n",
       "POINTS_BALANCE_CLOSING     int64\n",
       "POINTS_EARNED              int64\n",
       "dtype: object"
      ]
     },
     "execution_count": 156,
     "metadata": {},
     "output_type": "execute_result"
    },
    {
     "data": {
      "text/plain": [
       "(2102570, 4)"
      ]
     },
     "execution_count": 156,
     "metadata": {},
     "output_type": "execute_result"
    },
    {
     "data": {
      "text/html": [
       "<div>\n",
       "<style scoped>\n",
       "    .dataframe tbody tr th:only-of-type {\n",
       "        vertical-align: middle;\n",
       "    }\n",
       "\n",
       "    .dataframe tbody tr th {\n",
       "        vertical-align: top;\n",
       "    }\n",
       "\n",
       "    .dataframe thead th {\n",
       "        text-align: right;\n",
       "    }\n",
       "</style>\n",
       "<table border=\"1\" class=\"dataframe\">\n",
       "  <thead>\n",
       "    <tr style=\"text-align: right;\">\n",
       "      <th></th>\n",
       "      <th>Account_Number</th>\n",
       "      <th>Incident_Category</th>\n",
       "      <th>Incident_Type</th>\n",
       "      <th>Created_On</th>\n",
       "    </tr>\n",
       "  </thead>\n",
       "  <tbody>\n",
       "    <tr>\n",
       "      <th>0</th>\n",
       "      <td>MAFF_ACCT_0000000002</td>\n",
       "      <td>Voyager Booking</td>\n",
       "      <td>Voyager</td>\n",
       "      <td>2017-08-02</td>\n",
       "    </tr>\n",
       "    <tr>\n",
       "      <th>1</th>\n",
       "      <td>MAFF_ACCT_0000000002</td>\n",
       "      <td>Cancellations</td>\n",
       "      <td>Life Style Protection (LSP)</td>\n",
       "      <td>2017-08-02</td>\n",
       "    </tr>\n",
       "  </tbody>\n",
       "</table>\n",
       "</div>"
      ],
      "text/plain": [
       "         Account_Number Incident_Category                Incident_Type  \\\n",
       "0  MAFF_ACCT_0000000002   Voyager Booking                      Voyager   \n",
       "1  MAFF_ACCT_0000000002     Cancellations  Life Style Protection (LSP)   \n",
       "\n",
       "   Created_On  \n",
       "0  2017-08-02  \n",
       "1  2017-08-02  "
      ]
     },
     "execution_count": 156,
     "metadata": {},
     "output_type": "execute_result"
    },
    {
     "data": {
      "text/plain": [
       "Account_Number       object\n",
       "Incident_Category    object\n",
       "Incident_Type        object\n",
       "Created_On           object\n",
       "dtype: object"
      ]
     },
     "execution_count": 156,
     "metadata": {},
     "output_type": "execute_result"
    }
   ],
   "source": [
    "Statements_cleaned = pd.read_csv('Statements_cleaned.csv',sep=',',encoding='utf-8')\n",
    "del Statements_cleaned['Unnamed: 0']\n",
    "Statements_cleaned.shape\n",
    "Statements_cleaned.head(2)\n",
    "Statements_cleaned.dtypes\n",
    "#list(Statements_cleaned.columns.values)\n",
    "\n",
    "CRM_cleaned = pd.read_csv('CRM_cleaned.csv',sep=',',encoding='utf-8')\n",
    "del CRM_cleaned['Unnamed: 0']\n",
    "CRM_cleaned.shape\n",
    "CRM_cleaned.head(2)\n",
    "CRM_cleaned.dtypes\n",
    "#list(CRM_cleaned.columns.values)"
   ]
  },
  {
   "cell_type": "code",
   "execution_count": 157,
   "metadata": {},
   "outputs": [
    {
     "data": {
      "text/plain": [
       "(15097872, 4)"
      ]
     },
     "execution_count": 157,
     "metadata": {},
     "output_type": "execute_result"
    },
    {
     "data": {
      "text/html": [
       "<div>\n",
       "<style scoped>\n",
       "    .dataframe tbody tr th:only-of-type {\n",
       "        vertical-align: middle;\n",
       "    }\n",
       "\n",
       "    .dataframe tbody tr th {\n",
       "        vertical-align: top;\n",
       "    }\n",
       "\n",
       "    .dataframe thead th {\n",
       "        text-align: right;\n",
       "    }\n",
       "</style>\n",
       "<table border=\"1\" class=\"dataframe\">\n",
       "  <thead>\n",
       "    <tr style=\"text-align: right;\">\n",
       "      <th></th>\n",
       "      <th>Account_Number</th>\n",
       "      <th>Purchase_Date</th>\n",
       "      <th>Billing_Amount_Sum</th>\n",
       "      <th>Transaction_Count</th>\n",
       "    </tr>\n",
       "  </thead>\n",
       "  <tbody>\n",
       "    <tr>\n",
       "      <th>0</th>\n",
       "      <td>MAFF_ACCT_0000032090</td>\n",
       "      <td>2016-02-14</td>\n",
       "      <td>102.0</td>\n",
       "      <td>1.0</td>\n",
       "    </tr>\n",
       "    <tr>\n",
       "      <th>1</th>\n",
       "      <td>MAFF_ACCT_0000073466</td>\n",
       "      <td>2017-11-21</td>\n",
       "      <td>438.0</td>\n",
       "      <td>1.0</td>\n",
       "    </tr>\n",
       "  </tbody>\n",
       "</table>\n",
       "</div>"
      ],
      "text/plain": [
       "         Account_Number Purchase_Date  Billing_Amount_Sum  Transaction_Count\n",
       "0  MAFF_ACCT_0000032090    2016-02-14               102.0                1.0\n",
       "1  MAFF_ACCT_0000073466    2017-11-21               438.0                1.0"
      ]
     },
     "execution_count": 157,
     "metadata": {},
     "output_type": "execute_result"
    },
    {
     "data": {
      "text/plain": [
       "Account_Number         object\n",
       "Purchase_Date          object\n",
       "Billing_Amount_Sum    float64\n",
       "Transaction_Count     float64\n",
       "dtype: object"
      ]
     },
     "execution_count": 157,
     "metadata": {},
     "output_type": "execute_result"
    }
   ],
   "source": [
    "Transaction_DailyAgg_cleaned = pd.read_csv('Transactions_DailyAgg_cleaned.csv',sep=',',encoding='utf-8')\n",
    "del Transaction_DailyAgg_cleaned['Unnamed: 0']\n",
    "Transaction_DailyAgg_cleaned.shape\n",
    "Transaction_DailyAgg_cleaned.head(2)\n",
    "Transaction_DailyAgg_cleaned.dtypes"
   ]
  },
  {
   "cell_type": "code",
   "execution_count": 158,
   "metadata": {},
   "outputs": [
    {
     "data": {
      "text/plain": [
       "Account_Number            0\n",
       "STATEMENT_DATE            0\n",
       "STATEMENT_FROM_DATE       0\n",
       "STATEMENT_TO_DATE         0\n",
       "STATEMENT_BALANCE         0\n",
       "POINTS_REDEEMED           0\n",
       "POINTS_BALANCE_CLOSING    0\n",
       "POINTS_EARNED             0\n",
       "dtype: int64"
      ]
     },
     "execution_count": 158,
     "metadata": {},
     "output_type": "execute_result"
    },
    {
     "data": {
      "text/plain": [
       "Account_Number       0\n",
       "Incident_Category    0\n",
       "Incident_Type        0\n",
       "Created_On           0\n",
       "dtype: int64"
      ]
     },
     "execution_count": 158,
     "metadata": {},
     "output_type": "execute_result"
    },
    {
     "data": {
      "text/plain": [
       "Account_Number        0\n",
       "Purchase_Date         0\n",
       "Billing_Amount_Sum    0\n",
       "Transaction_Count     0\n",
       "dtype: int64"
      ]
     },
     "execution_count": 158,
     "metadata": {},
     "output_type": "execute_result"
    }
   ],
   "source": [
    "Transaction_DailyAgg_cleaned = Transaction_DailyAgg_cleaned.dropna(how='any',axis=0)\n",
    "\n",
    "Statements_cleaned.isnull().sum()\n",
    "CRM_cleaned.isnull().sum()\n",
    "Transaction_DailyAgg_cleaned.isnull().sum()"
   ]
  },
  {
   "cell_type": "markdown",
   "metadata": {},
   "source": [
    "#### Format Select Variables"
   ]
  },
  {
   "cell_type": "code",
   "execution_count": 159,
   "metadata": {
    "collapsed": true
   },
   "outputs": [],
   "source": [
    "CRM_cleaned['Account_Number'] = CRM_cleaned['Account_Number'].astype(str)\n",
    "CRM_cleaned['Created_On'] = CRM_cleaned['Created_On'].astype('datetime64[ns]')"
   ]
  },
  {
   "cell_type": "code",
   "execution_count": 160,
   "metadata": {
    "collapsed": true
   },
   "outputs": [],
   "source": [
    "del Portfolio_cleaned"
   ]
  },
  {
   "cell_type": "markdown",
   "metadata": {},
   "source": [
    "#### Join Key Incident Data from CRM to Portfolio Dataframe."
   ]
  },
  {
   "cell_type": "code",
   "execution_count": 161,
   "metadata": {},
   "outputs": [
    {
     "data": {
      "text/plain": [
       "(2102570, 4)"
      ]
     },
     "execution_count": 161,
     "metadata": {},
     "output_type": "execute_result"
    },
    {
     "data": {
      "text/plain": [
       "(2095876, 4)"
      ]
     },
     "execution_count": 161,
     "metadata": {},
     "output_type": "execute_result"
    }
   ],
   "source": [
    "CRM_cleaned.shape\n",
    "threshold = 200\n",
    "counts_type = CRM_cleaned['Incident_Type'].value_counts()\n",
    "counts_cat = CRM_cleaned['Incident_Category'].value_counts()\n",
    "\n",
    "CRM_cleaned = CRM_cleaned.loc[CRM_cleaned['Incident_Type'].isin(counts_type[counts_type > threshold].index), :]\n",
    "CRM_cleaned = CRM_cleaned.loc[CRM_cleaned['Incident_Category'].isin(counts_cat[counts_cat > threshold].index), :]\n",
    "CRM_cleaned = CRM_cleaned.reset_index(drop=True)\n",
    "CRM_cleaned.shape\n"
   ]
  },
  {
   "cell_type": "markdown",
   "metadata": {},
   "source": [
    "#### Truncate CRM Daily Incident Data to 5 Most Recent Per Day"
   ]
  },
  {
   "cell_type": "code",
   "execution_count": 162,
   "metadata": {},
   "outputs": [
    {
     "data": {
      "text/html": [
       "<div>\n",
       "<style scoped>\n",
       "    .dataframe tbody tr th:only-of-type {\n",
       "        vertical-align: middle;\n",
       "    }\n",
       "\n",
       "    .dataframe tbody tr th {\n",
       "        vertical-align: top;\n",
       "    }\n",
       "\n",
       "    .dataframe thead th {\n",
       "        text-align: right;\n",
       "    }\n",
       "</style>\n",
       "<table border=\"1\" class=\"dataframe\">\n",
       "  <thead>\n",
       "    <tr style=\"text-align: right;\">\n",
       "      <th></th>\n",
       "      <th>Account_Number</th>\n",
       "      <th>Created_On</th>\n",
       "      <th>Incident_Num</th>\n",
       "    </tr>\n",
       "  </thead>\n",
       "  <tbody>\n",
       "    <tr>\n",
       "      <th>0</th>\n",
       "      <td>MAFF_ACCT_0000000002</td>\n",
       "      <td>2017-08-02</td>\n",
       "      <td>2</td>\n",
       "    </tr>\n",
       "  </tbody>\n",
       "</table>\n",
       "</div>"
      ],
      "text/plain": [
       "         Account_Number Created_On  Incident_Num\n",
       "0  MAFF_ACCT_0000000002 2017-08-02             2"
      ]
     },
     "execution_count": 162,
     "metadata": {},
     "output_type": "execute_result"
    },
    {
     "data": {
      "text/plain": [
       "(2095876, 4)"
      ]
     },
     "execution_count": 162,
     "metadata": {},
     "output_type": "execute_result"
    }
   ],
   "source": [
    "# Truncate to 5 incidents per account per date\n",
    "CRM_cleaned = CRM_cleaned.sort_values(['Account_Number','Created_On'], ascending=[True, True])\n",
    "CRM_cleaned = CRM_cleaned.reset_index(drop=True)\n",
    "\n",
    "Account_Incident_Counts = CRM_cleaned.groupby(['Account_Number', 'Created_On']).size()\n",
    "Account_Incident_Counts = Account_Incident_Counts.reset_index()\n",
    "Account_Incident_Counts.columns = ['Account_Number', 'Created_On', 'Incident_Num']\n",
    "Account_Incident_Counts = pd.DataFrame(Account_Incident_Counts)\n",
    "Account_Incident_Counts.head(1)\n",
    "\n",
    "CRM_cleaned.shape\n",
    "CRM_cleaned2 = CRM_cleaned.sort_values(['Account_Number','Created_On'], ascending=[True, True])\n",
    "CRM_cleaned2 = CRM_cleaned2.groupby(['Account_Number','Created_On']).head(5)                                                         \n",
    "CRM_cleaned2 = CRM_cleaned2.reset_index(drop=True)\n"
   ]
  },
  {
   "cell_type": "code",
   "execution_count": 163,
   "metadata": {},
   "outputs": [
    {
     "data": {
      "text/plain": [
       "Account_Number    0\n",
       "Created_On        0\n",
       "Incident_Num      0\n",
       "dtype: int64"
      ]
     },
     "execution_count": 163,
     "metadata": {},
     "output_type": "execute_result"
    }
   ],
   "source": [
    "Account_Incident_Counts.isnull().sum()"
   ]
  },
  {
   "cell_type": "markdown",
   "metadata": {},
   "source": [
    "#### Concatanate sequences of the category and type of the day's incidents for that customer"
   ]
  },
  {
   "cell_type": "code",
   "execution_count": 164,
   "metadata": {},
   "outputs": [
    {
     "data": {
      "text/plain": [
       "(1396983, 1)"
      ]
     },
     "execution_count": 164,
     "metadata": {},
     "output_type": "execute_result"
    },
    {
     "data": {
      "text/plain": [
       "(1396983, 1)"
      ]
     },
     "execution_count": 164,
     "metadata": {},
     "output_type": "execute_result"
    }
   ],
   "source": [
    "# Aggregate longer sequences of multiple incidents per day into its own variable.\n",
    "CRM_cleaned_seq = CRM_cleaned.groupby(['Account_Number', 'Created_On'])['Incident_Category'].agg(lambda col: ' _ '.join(col))\n",
    "CRM_cleaned_seq = pd.DataFrame(CRM_cleaned_seq)\n",
    "CRM_cleaned_seq = CRM_cleaned_seq.reset_index(drop=True)\n",
    "CRM_cleaned_seq.columns = ['Incident_Cat_Sequence_Daily']\n",
    "CRM_cleaned_seq.shape\n",
    "\n",
    "# Aggregate longer sequences of multiple incidents per day into its own variable.\n",
    "CRM_cleaned_seq2 = CRM_cleaned.groupby(['Account_Number', 'Created_On'])['Incident_Type'].agg(lambda col: ' _ '.join(col))\n",
    "CRM_cleaned_seq2 = CRM_cleaned_seq2.reset_index(drop=True)\n",
    "CRM_cleaned_seq2 = pd.DataFrame(CRM_cleaned_seq2)\n",
    "CRM_cleaned_seq2.columns = ['Incident_Type_Sequence_Daily']\n",
    "CRM_cleaned_seq2.shape"
   ]
  },
  {
   "cell_type": "markdown",
   "metadata": {},
   "source": [
    "#### Join the new variables to the data frame."
   ]
  },
  {
   "cell_type": "code",
   "execution_count": 165,
   "metadata": {},
   "outputs": [
    {
     "data": {
      "text/html": [
       "<div>\n",
       "<style scoped>\n",
       "    .dataframe tbody tr th:only-of-type {\n",
       "        vertical-align: middle;\n",
       "    }\n",
       "\n",
       "    .dataframe tbody tr th {\n",
       "        vertical-align: top;\n",
       "    }\n",
       "\n",
       "    .dataframe thead th {\n",
       "        text-align: right;\n",
       "    }\n",
       "</style>\n",
       "<table border=\"1\" class=\"dataframe\">\n",
       "  <thead>\n",
       "    <tr style=\"text-align: right;\">\n",
       "      <th></th>\n",
       "      <th>Incident_Cat_Sequence_Daily</th>\n",
       "      <th>Incident_Type_Sequence_Daily</th>\n",
       "    </tr>\n",
       "  </thead>\n",
       "  <tbody>\n",
       "    <tr>\n",
       "      <th>0</th>\n",
       "      <td>Voyager Booking _ Cancellations</td>\n",
       "      <td>Voyager _ Life Style Protection (LSP)</td>\n",
       "    </tr>\n",
       "    <tr>\n",
       "      <th>1</th>\n",
       "      <td>Annual Membership Fee</td>\n",
       "      <td>Reversal- New</td>\n",
       "    </tr>\n",
       "    <tr>\n",
       "      <th>2</th>\n",
       "      <td>Real Time Update</td>\n",
       "      <td>Address / Contact details update</td>\n",
       "    </tr>\n",
       "    <tr>\n",
       "      <th>3</th>\n",
       "      <td>Cancellations _ Annual Membership Fee</td>\n",
       "      <td>Life Style Protection (LSP) _ Reversal- New</td>\n",
       "    </tr>\n",
       "  </tbody>\n",
       "</table>\n",
       "</div>"
      ],
      "text/plain": [
       "             Incident_Cat_Sequence_Daily  \\\n",
       "0        Voyager Booking _ Cancellations   \n",
       "1                  Annual Membership Fee   \n",
       "2                       Real Time Update   \n",
       "3  Cancellations _ Annual Membership Fee   \n",
       "\n",
       "                  Incident_Type_Sequence_Daily  \n",
       "0        Voyager _ Life Style Protection (LSP)  \n",
       "1                                Reversal- New  \n",
       "2             Address / Contact details update  \n",
       "3  Life Style Protection (LSP) _ Reversal- New  "
      ]
     },
     "execution_count": 165,
     "metadata": {},
     "output_type": "execute_result"
    },
    {
     "data": {
      "text/plain": [
       "(1396983, 4)"
      ]
     },
     "execution_count": 165,
     "metadata": {},
     "output_type": "execute_result"
    },
    {
     "data": {
      "text/html": [
       "<div>\n",
       "<style scoped>\n",
       "    .dataframe tbody tr th:only-of-type {\n",
       "        vertical-align: middle;\n",
       "    }\n",
       "\n",
       "    .dataframe tbody tr th {\n",
       "        vertical-align: top;\n",
       "    }\n",
       "\n",
       "    .dataframe thead th {\n",
       "        text-align: right;\n",
       "    }\n",
       "</style>\n",
       "<table border=\"1\" class=\"dataframe\">\n",
       "  <thead>\n",
       "    <tr style=\"text-align: right;\">\n",
       "      <th></th>\n",
       "      <th>Account_Number</th>\n",
       "      <th>Incident_Category</th>\n",
       "      <th>Incident_Type</th>\n",
       "      <th>Created_On</th>\n",
       "      <th>Incident_Cat_Sequence_Daily</th>\n",
       "      <th>Incident_Type_Sequence_Daily</th>\n",
       "    </tr>\n",
       "  </thead>\n",
       "  <tbody>\n",
       "    <tr>\n",
       "      <th>0</th>\n",
       "      <td>MAFF_ACCT_0000000002</td>\n",
       "      <td>Voyager Booking</td>\n",
       "      <td>Voyager</td>\n",
       "      <td>2017-08-02</td>\n",
       "      <td>Voyager Booking _ Cancellations</td>\n",
       "      <td>Voyager _ Life Style Protection (LSP)</td>\n",
       "    </tr>\n",
       "    <tr>\n",
       "      <th>1</th>\n",
       "      <td>MAFF_ACCT_0000000002</td>\n",
       "      <td>Annual Membership Fee</td>\n",
       "      <td>Reversal- New</td>\n",
       "      <td>2017-08-30</td>\n",
       "      <td>Annual Membership Fee</td>\n",
       "      <td>Reversal- New</td>\n",
       "    </tr>\n",
       "    <tr>\n",
       "      <th>2</th>\n",
       "      <td>MAFF_ACCT_0000000003</td>\n",
       "      <td>Real Time Update</td>\n",
       "      <td>Address / Contact details update</td>\n",
       "      <td>2017-07-27</td>\n",
       "      <td>Real Time Update</td>\n",
       "      <td>Address / Contact details update</td>\n",
       "    </tr>\n",
       "    <tr>\n",
       "      <th>3</th>\n",
       "      <td>MAFF_ACCT_0000000003</td>\n",
       "      <td>Cancellations</td>\n",
       "      <td>Life Style Protection (LSP)</td>\n",
       "      <td>2017-08-02</td>\n",
       "      <td>Cancellations _ Annual Membership Fee</td>\n",
       "      <td>Life Style Protection (LSP) _ Reversal- New</td>\n",
       "    </tr>\n",
       "  </tbody>\n",
       "</table>\n",
       "</div>"
      ],
      "text/plain": [
       "         Account_Number      Incident_Category  \\\n",
       "0  MAFF_ACCT_0000000002        Voyager Booking   \n",
       "1  MAFF_ACCT_0000000002  Annual Membership Fee   \n",
       "2  MAFF_ACCT_0000000003       Real Time Update   \n",
       "3  MAFF_ACCT_0000000003          Cancellations   \n",
       "\n",
       "                      Incident_Type Created_On  \\\n",
       "0                           Voyager 2017-08-02   \n",
       "1                     Reversal- New 2017-08-30   \n",
       "2  Address / Contact details update 2017-07-27   \n",
       "3       Life Style Protection (LSP) 2017-08-02   \n",
       "\n",
       "             Incident_Cat_Sequence_Daily  \\\n",
       "0        Voyager Booking _ Cancellations   \n",
       "1                  Annual Membership Fee   \n",
       "2                       Real Time Update   \n",
       "3  Cancellations _ Annual Membership Fee   \n",
       "\n",
       "                  Incident_Type_Sequence_Daily  \n",
       "0        Voyager _ Life Style Protection (LSP)  \n",
       "1                                Reversal- New  \n",
       "2             Address / Contact details update  \n",
       "3  Life Style Protection (LSP) _ Reversal- New  "
      ]
     },
     "execution_count": 165,
     "metadata": {},
     "output_type": "execute_result"
    }
   ],
   "source": [
    "CRM_cleaned_seq = CRM_cleaned_seq.join(CRM_cleaned_seq2)\n",
    "CRM_cleaned_seq.head(4)\n",
    "\n",
    "CRM_cleaned = CRM_cleaned.sort_values(['Account_Number','Created_On'], ascending=[True, True])\n",
    "CRM_Index = CRM_cleaned.groupby(['Account_Number', 'Created_On']).head(1)\n",
    "CRM_Index = pd.DataFrame(CRM_Index)\n",
    "CRM_Index = CRM_Index.reset_index(drop=True)\n",
    "CRM_Index.shape\n",
    "\n",
    "CRM_Joined = CRM_Index.join(CRM_cleaned_seq)\n",
    "CRM_Joined.head(4)"
   ]
  },
  {
   "cell_type": "markdown",
   "metadata": {},
   "source": [
    "#### Merge CRM Incident Daily Incidents and Sequences to the Working File"
   ]
  },
  {
   "cell_type": "code",
   "execution_count": 166,
   "metadata": {},
   "outputs": [],
   "source": [
    "Merged2 = pd.merge(totalframe, CRM_Joined,  how='left', \n",
    "                  left_on=['Account_Number','MISDATE'], \n",
    "                  right_on = ['Account_Number','Created_On'])\n",
    "del Merged2['Created_On']"
   ]
  },
  {
   "cell_type": "code",
   "execution_count": 167,
   "metadata": {
    "collapsed": true
   },
   "outputs": [],
   "source": [
    "del totalframe"
   ]
  },
  {
   "cell_type": "code",
   "execution_count": 168,
   "metadata": {
    "collapsed": true
   },
   "outputs": [],
   "source": [
    "Merged2['Incident_Category'].fillna('None', inplace=True)\n",
    "Merged2['Incident_Type'].fillna('None', inplace=True)\n",
    "Merged2['Incident_Cat_Sequence_Daily'].fillna('None', inplace=True)\n",
    "Merged2['Incident_Type_Sequence_Daily'].fillna('None', inplace=True)\n",
    "Merged2['Incident_Category']=Merged2['Incident_Category'].replace(-np.nan, 'None').replace(np.nan, 'None')\n",
    "Merged2['Incident_Type']=Merged2['Incident_Type'].replace(-np.nan, 'None').replace(np.nan, 'None')\n",
    "Merged2['Incident_Cat_Sequence_Daily']=Merged2['Incident_Cat_Sequence_Daily'].replace(-np.nan, 'None').replace(np.nan, 'None')\n",
    "Merged2['Incident_Type_Sequence_Daily']=Merged2['Incident_Type_Sequence_Daily'].replace(-np.nan, 'None').replace(np.nan,'None')"
   ]
  },
  {
   "cell_type": "code",
   "execution_count": 169,
   "metadata": {
    "collapsed": true
   },
   "outputs": [],
   "source": [
    "Merged2['Incident_Category'] = Merged2['Incident_Category'].astype('str')\n",
    "Merged2['Incident_Type'] = Merged2['Incident_Type'].astype('str')\n",
    "Merged2['Incident_Cat_Sequence_Daily'] = Merged2['Incident_Cat_Sequence_Daily'].astype('str')\n",
    "Merged2['Incident_Type_Sequence_Daily'] = Merged2['Incident_Type_Sequence_Daily'].astype('str')"
   ]
  },
  {
   "cell_type": "code",
   "execution_count": 170,
   "metadata": {
    "collapsed": true
   },
   "outputs": [],
   "source": [
    "Merged2 = pd.merge(Merged2, Account_Incident_Counts,  how='left', \n",
    "                  left_on=['Account_Number','MISDATE'], \n",
    "                  right_on = ['Account_Number','Created_On'])\n",
    "del Merged2['Created_On']"
   ]
  },
  {
   "cell_type": "code",
   "execution_count": 171,
   "metadata": {
    "collapsed": true
   },
   "outputs": [],
   "source": [
    "Merged2['Incident_Num'].fillna(0, inplace=True)            \n",
    "Merged2['Incident_Num'] =Merged2['Incident_Num'].replace(np.nan,0).replace(np.inf,0) "
   ]
  },
  {
   "cell_type": "code",
   "execution_count": 172,
   "metadata": {},
   "outputs": [
    {
     "data": {
      "text/plain": [
       "Account_Number                         0\n",
       "MISDATE                                0\n",
       "ATTRITION_FLAG                         0\n",
       "ACCOUNT_CREATION_DATE                  0\n",
       "ACTUAL_CURRENT_BALANCE                 0\n",
       "Credit_Limit                           0\n",
       "LAST_ACTIVITY_DATE                298217\n",
       "Last_Statement_Closing_Balance         0\n",
       "Last_Statement_Date                    0\n",
       "Last_Statement_Minimum_Due             0\n",
       "Monthly_Salary                         0\n",
       "Months_On_Book                         0\n",
       "Next_Statement_Date                    0\n",
       "Monthly_Salary                         0\n",
       "Nationality_Group                      0\n",
       "Next_Statement_Date                    0\n",
       "No_Of_Due_Stmt                         0\n",
       "Product                                0\n",
       "APR_Rate                               0\n",
       "Product_Fee_Type                       0\n",
       "Product_Category                       0\n",
       "Days_On_Book                           0\n",
       "Days_From_Statement                    0\n",
       "Days_from_Last_Activity                0\n",
       "Incident_Category                      0\n",
       "Incident_Type                          0\n",
       "Incident_Cat_Sequence_Daily            0\n",
       "Incident_Type_Sequence_Daily           0\n",
       "Incident_Num                           0\n",
       "dtype: int64"
      ]
     },
     "execution_count": 172,
     "metadata": {},
     "output_type": "execute_result"
    }
   ],
   "source": [
    "Merged2.isnull().sum()"
   ]
  },
  {
   "cell_type": "code",
   "execution_count": 173,
   "metadata": {},
   "outputs": [
    {
     "data": {
      "text/plain": [
       "Index(['Account_Number', 'MISDATE', 'ATTRITION_FLAG', 'ACCOUNT_CREATION_DATE',\n",
       "       'ACTUAL_CURRENT_BALANCE', 'Credit_Limit', 'LAST_ACTIVITY_DATE',\n",
       "       'Last_Statement_Closing_Balance', 'Last_Statement_Date',\n",
       "       'Last_Statement_Minimum_Due', 'Monthly_Salary', 'Months_On_Book',\n",
       "       'Next_Statement_Date', 'Monthly_Salary', 'Nationality_Group',\n",
       "       'Next_Statement_Date', 'No_Of_Due_Stmt', 'Product', 'APR_Rate',\n",
       "       'Product_Fee_Type', 'Product_Category', 'Days_On_Book',\n",
       "       'Days_From_Statement', 'Days_from_Last_Activity', 'Incident_Category',\n",
       "       'Incident_Type', 'Incident_Cat_Sequence_Daily',\n",
       "       'Incident_Type_Sequence_Daily', 'Incident_Num'],\n",
       "      dtype='object')"
      ]
     },
     "execution_count": 173,
     "metadata": {},
     "output_type": "execute_result"
    },
    {
     "data": {
      "text/html": [
       "<div>\n",
       "<style scoped>\n",
       "    .dataframe tbody tr th:only-of-type {\n",
       "        vertical-align: middle;\n",
       "    }\n",
       "\n",
       "    .dataframe tbody tr th {\n",
       "        vertical-align: top;\n",
       "    }\n",
       "\n",
       "    .dataframe thead th {\n",
       "        text-align: right;\n",
       "    }\n",
       "</style>\n",
       "<table border=\"1\" class=\"dataframe\">\n",
       "  <thead>\n",
       "    <tr style=\"text-align: right;\">\n",
       "      <th></th>\n",
       "      <th>Account_Number</th>\n",
       "      <th>MISDATE</th>\n",
       "      <th>ATTRITION_FLAG</th>\n",
       "      <th>ACCOUNT_CREATION_DATE</th>\n",
       "      <th>ACTUAL_CURRENT_BALANCE</th>\n",
       "      <th>Credit_Limit</th>\n",
       "      <th>LAST_ACTIVITY_DATE</th>\n",
       "      <th>Last_Statement_Closing_Balance</th>\n",
       "      <th>Last_Statement_Date</th>\n",
       "      <th>Last_Statement_Minimum_Due</th>\n",
       "      <th>...</th>\n",
       "      <th>Product_Fee_Type</th>\n",
       "      <th>Product_Category</th>\n",
       "      <th>Days_On_Book</th>\n",
       "      <th>Days_From_Statement</th>\n",
       "      <th>Days_from_Last_Activity</th>\n",
       "      <th>Incident_Category</th>\n",
       "      <th>Incident_Type</th>\n",
       "      <th>Incident_Cat_Sequence_Daily</th>\n",
       "      <th>Incident_Type_Sequence_Daily</th>\n",
       "      <th>Incident_Num</th>\n",
       "    </tr>\n",
       "  </thead>\n",
       "  <tbody>\n",
       "    <tr>\n",
       "      <th>0</th>\n",
       "      <td>MAFF_ACCT_0000005355</td>\n",
       "      <td>2017-04-09</td>\n",
       "      <td>VOLUNTARY</td>\n",
       "      <td>2013-04-16</td>\n",
       "      <td>-0.3</td>\n",
       "      <td>25313</td>\n",
       "      <td>2017-04-08</td>\n",
       "      <td>262</td>\n",
       "      <td>2017-04-05</td>\n",
       "      <td>100</td>\n",
       "      <td>...</td>\n",
       "      <td>NON FEE</td>\n",
       "      <td>CASHBACK</td>\n",
       "      <td>1454</td>\n",
       "      <td>4</td>\n",
       "      <td>1</td>\n",
       "      <td>None</td>\n",
       "      <td>None</td>\n",
       "      <td>None</td>\n",
       "      <td>None</td>\n",
       "      <td>0.0</td>\n",
       "    </tr>\n",
       "    <tr>\n",
       "      <th>1</th>\n",
       "      <td>MAFF_ACCT_0000005355</td>\n",
       "      <td>2017-04-08</td>\n",
       "      <td>OPEN</td>\n",
       "      <td>2013-04-16</td>\n",
       "      <td>-0.3</td>\n",
       "      <td>25313</td>\n",
       "      <td>2017-04-08</td>\n",
       "      <td>262</td>\n",
       "      <td>2017-04-05</td>\n",
       "      <td>100</td>\n",
       "      <td>...</td>\n",
       "      <td>NON FEE</td>\n",
       "      <td>CASHBACK</td>\n",
       "      <td>1453</td>\n",
       "      <td>3</td>\n",
       "      <td>0</td>\n",
       "      <td>Charges</td>\n",
       "      <td>Card Cancellation</td>\n",
       "      <td>Charges</td>\n",
       "      <td>Card Cancellation</td>\n",
       "      <td>1.0</td>\n",
       "    </tr>\n",
       "  </tbody>\n",
       "</table>\n",
       "<p>2 rows × 29 columns</p>\n",
       "</div>"
      ],
      "text/plain": [
       "         Account_Number    MISDATE ATTRITION_FLAG ACCOUNT_CREATION_DATE  \\\n",
       "0  MAFF_ACCT_0000005355 2017-04-09      VOLUNTARY            2013-04-16   \n",
       "1  MAFF_ACCT_0000005355 2017-04-08           OPEN            2013-04-16   \n",
       "\n",
       "  ACTUAL_CURRENT_BALANCE  Credit_Limit LAST_ACTIVITY_DATE  \\\n",
       "0                   -0.3         25313         2017-04-08   \n",
       "1                   -0.3         25313         2017-04-08   \n",
       "\n",
       "   Last_Statement_Closing_Balance Last_Statement_Date  \\\n",
       "0                             262          2017-04-05   \n",
       "1                             262          2017-04-05   \n",
       "\n",
       "   Last_Statement_Minimum_Due     ...       Product_Fee_Type  \\\n",
       "0                         100     ...                NON FEE   \n",
       "1                         100     ...                NON FEE   \n",
       "\n",
       "   Product_Category Days_On_Book  Days_From_Statement Days_from_Last_Activity  \\\n",
       "0          CASHBACK         1454                    4                       1   \n",
       "1          CASHBACK         1453                    3                       0   \n",
       "\n",
       "  Incident_Category      Incident_Type Incident_Cat_Sequence_Daily  \\\n",
       "0              None               None                        None   \n",
       "1           Charges  Card Cancellation                     Charges   \n",
       "\n",
       "  Incident_Type_Sequence_Daily Incident_Num  \n",
       "0                         None          0.0  \n",
       "1            Card Cancellation          1.0  \n",
       "\n",
       "[2 rows x 29 columns]"
      ]
     },
     "execution_count": 173,
     "metadata": {},
     "output_type": "execute_result"
    }
   ],
   "source": [
    "Merged2.columns\n",
    "Merged2.head(2)"
   ]
  },
  {
   "cell_type": "code",
   "execution_count": 174,
   "metadata": {},
   "outputs": [
    {
     "data": {
      "text/plain": [
       "(10544170, 29)"
      ]
     },
     "execution_count": 174,
     "metadata": {},
     "output_type": "execute_result"
    }
   ],
   "source": [
    "Merged2.shape"
   ]
  },
  {
   "cell_type": "code",
   "execution_count": 175,
   "metadata": {
    "collapsed": true
   },
   "outputs": [],
   "source": [
    "output = open('Intermediate_preprocessing2.pkl', 'wb')\n",
    "pickle.dump(Merged2, output)\n",
    "output.close()\n"
   ]
  },
  {
   "cell_type": "markdown",
   "metadata": {},
   "source": [
    "### Create Select One-Hot Encodings for Select Variables"
   ]
  },
  {
   "cell_type": "code",
   "execution_count": 176,
   "metadata": {},
   "outputs": [
    {
     "data": {
      "text/plain": [
       "array(['LOW', 'MEDIUM', 'HIGH'], dtype=object)"
      ]
     },
     "execution_count": 176,
     "metadata": {},
     "output_type": "execute_result"
    }
   ],
   "source": [
    "#APR Rate \n",
    "Merged2['APR_Rate'].unique()\n",
    "Merged2['APR_Rate_Low'] = np.where(Merged2['APR_Rate']=='LOW', '1', '0')\n",
    "Merged2['APR_Rate_Med'] = np.where(Merged2['APR_Rate']=='MEDIUM', '1', '0')\n",
    "Merged2['APR_Rate_High'] = np.where(Merged2['APR_Rate']=='HIGH', '1', '0')\n",
    "del Merged2['APR_Rate']\n",
    "\n",
    "Merged2['APR_Rate_Low'] = Merged2['APR_Rate_Low'].replace(np.nan, 0).replace(np.inf, 0).astype(float)\n",
    "Merged2['APR_Rate_Med'] = Merged2['APR_Rate_Med'].replace(np.nan, 0).replace(np.inf, 0).astype(float)\n",
    "Merged2['APR_Rate_High'] = Merged2['APR_Rate_High'].replace(np.nan, 0).replace(np.inf, 0).astype(float)\n",
    "\n",
    "Merged2['APR_Rate_Low'] = Merged2['APR_Rate_Low'].astype(int)\n",
    "Merged2['APR_Rate_Med'] = Merged2['APR_Rate_Med'].astype(int)\n",
    "Merged2['APR_Rate_High'] = Merged2['APR_Rate_High'].astype(int)\n"
   ]
  },
  {
   "cell_type": "code",
   "execution_count": 177,
   "metadata": {},
   "outputs": [
    {
     "data": {
      "text/plain": [
       "array(['CASHBACK', 'VOYAGER'], dtype=object)"
      ]
     },
     "execution_count": 177,
     "metadata": {},
     "output_type": "execute_result"
    }
   ],
   "source": [
    "#Product Category \n",
    "Merged2['Product_Category'].unique()\n",
    "Merged2['Prod_Cat_Voyager'] = np.where(Merged2['Product_Category']=='VOYAGER', '1', '0')\n",
    "Merged2['Prod_Cat_Cashback'] = np.where(Merged2['Product_Category']=='CASHBACK', '1', '0')\n",
    "del Merged2['Product_Category']\n",
    "\n",
    "Merged2['Prod_Cat_Voyager'] = Merged2['Prod_Cat_Voyager'].replace(np.nan, 0).replace(np.inf, 0).astype(float)\n",
    "Merged2['Prod_Cat_Cashback'] = Merged2['Prod_Cat_Cashback'].replace(np.nan, 0).replace(np.inf, 0).astype(float)\n",
    "\n",
    "Merged2['Prod_Cat_Voyager'] = Merged2['Prod_Cat_Voyager'].astype(int)\n",
    "Merged2['Prod_Cat_Cashback'] = Merged2['Prod_Cat_Cashback'].astype(int)"
   ]
  },
  {
   "cell_type": "code",
   "execution_count": 178,
   "metadata": {},
   "outputs": [],
   "source": [
    "Merged2_backup = Merged2\n",
    "Merged2['Nationality_Group'] = Merged2['Nationality_Group'].replace('01. INDIA', 'INDIA')\n",
    "Merged2['Nationality_Group'] = Merged2['Nationality_Group'].replace('02. PAKISTAN', 'PAKISTAN')\n",
    "Merged2['Nationality_Group'] = Merged2['Nationality_Group'].replace('03. PHILLIPPINES', 'PHILLIPPINES')\n",
    "Merged2['Nationality_Group'] = Merged2['Nationality_Group'].replace('04. U.A.E.', 'U.A.E.')\n",
    "Merged2['Nationality_Group'] = Merged2['Nationality_Group'].replace('05. ARAB', 'ARAB')\n",
    "Merged2['Nationality_Group'] = Merged2['Nationality_Group'].replace('06. OTHERS', 'OTHERS')"
   ]
  },
  {
   "cell_type": "code",
   "execution_count": 179,
   "metadata": {
    "collapsed": true
   },
   "outputs": [],
   "source": [
    "del Merged2_backup"
   ]
  },
  {
   "cell_type": "code",
   "execution_count": 180,
   "metadata": {},
   "outputs": [],
   "source": [
    "Merged2= pd.get_dummies(Merged2, columns=['Nationality_Group'], prefix=['Country'])\n"
   ]
  },
  {
   "cell_type": "code",
   "execution_count": 181,
   "metadata": {
    "collapsed": true
   },
   "outputs": [],
   "source": [
    "#Format new int variables as int\n",
    "Merged2['Country_INDIA'] = Merged2['Country_INDIA'].replace(np.nan, 0).astype(int)\n",
    "Merged2['Country_PAKISTAN'] = Merged2['Country_PAKISTAN'].replace(np.nan, 0).astype(int)\n",
    "Merged2['Country_PHILLIPPINES'] = Merged2['Country_PHILLIPPINES'].replace(np.nan, 0).astype(int)\n",
    "Merged2['Country_U.A.E.'] = Merged2['Country_U.A.E.'].replace(np.nan, 0).astype(int)\n",
    "Merged2['Country_ARAB'] = Merged2['Country_ARAB'].replace(np.nan, 0).astype(int)\n",
    "Merged2['Country_OTHERS'] = Merged2['Country_OTHERS'].replace(np.nan, 0).astype(int)\n",
    "\n"
   ]
  },
  {
   "cell_type": "markdown",
   "metadata": {},
   "source": [
    "### Derived Features"
   ]
  },
  {
   "cell_type": "code",
   "execution_count": 183,
   "metadata": {
    "collapsed": true
   },
   "outputs": [],
   "source": [
    "Merged2['ACTUAL_CURRENT_BALANCE'] = Merged2['ACTUAL_CURRENT_BALANCE'].replace(np.inf, 1).replace(np.nan, 0).astype(float)\n",
    "Merged2['Credit_Limit'] = Merged2['Credit_Limit'].replace(np.inf, 1).replace(np.nan, 0).astype(float)\n",
    "\n",
    "Merged2['Credit_Limit'] = Merged2['Credit_Limit'].round().astype(int)\n",
    "Merged2['ACTUAL_CURRENT_BALANCE'] = Merged2['ACTUAL_CURRENT_BALANCE'].round().astype(int)"
   ]
  },
  {
   "cell_type": "code",
   "execution_count": 184,
   "metadata": {
    "collapsed": true
   },
   "outputs": [],
   "source": [
    "# Percent Credit Used\n",
    "Merged2['Perc_Credit_Limit_Used'] = (Merged2['ACTUAL_CURRENT_BALANCE'])/Merged2['Credit_Limit']\n",
    "Merged2['Perc_Credit_Limit_Used'] = Merged2['Perc_Credit_Limit_Used'].round(2)\n",
    "Merged2['Perc_Credit_Limit_Used'] = Merged2['Perc_Credit_Limit_Used'].replace(np.inf, 1).replace(np.nan, 0).astype(float)\n"
   ]
  },
  {
   "cell_type": "code",
   "execution_count": null,
   "metadata": {
    "collapsed": true
   },
   "outputs": [],
   "source": []
  },
  {
   "cell_type": "code",
   "execution_count": 185,
   "metadata": {
    "collapsed": true
   },
   "outputs": [],
   "source": [
    "del Merged2['ACCOUNT_CREATION_DATE']\n",
    "del Merged2['Last_Statement_Date']\n",
    "del Merged2['LAST_ACTIVITY_DATE']\n",
    "del Merged2['Next_Statement_Date']"
   ]
  },
  {
   "cell_type": "markdown",
   "metadata": {},
   "source": [
    "### Write out intermediate file"
   ]
  },
  {
   "cell_type": "code",
   "execution_count": 186,
   "metadata": {
    "collapsed": true
   },
   "outputs": [],
   "source": [
    "#Merged2.to_csv('Merged_cleaned.csv',sep=',',encoding='utf-8')\n",
    "output = open('Merged_cleaned2.pkl', 'wb')\n",
    "pickle.dump(Merged2, output)\n",
    "output.close()"
   ]
  },
  {
   "cell_type": "code",
   "execution_count": 187,
   "metadata": {
    "collapsed": true
   },
   "outputs": [],
   "source": [
    "#Merged2.to_csv('Merged_cleaned.csv',sep=',',encoding='utf-8')\n",
    "df1 = Merged2"
   ]
  },
  {
   "cell_type": "code",
   "execution_count": 188,
   "metadata": {
    "collapsed": true
   },
   "outputs": [],
   "source": [
    "\n",
    "del Merged2"
   ]
  },
  {
   "cell_type": "markdown",
   "metadata": {},
   "source": [
    "### Import and Merge Statements Table Data of Interest"
   ]
  },
  {
   "cell_type": "code",
   "execution_count": 189,
   "metadata": {},
   "outputs": [
    {
     "data": {
      "text/html": [
       "<div>\n",
       "<style scoped>\n",
       "    .dataframe tbody tr th:only-of-type {\n",
       "        vertical-align: middle;\n",
       "    }\n",
       "\n",
       "    .dataframe tbody tr th {\n",
       "        vertical-align: top;\n",
       "    }\n",
       "\n",
       "    .dataframe thead th {\n",
       "        text-align: right;\n",
       "    }\n",
       "</style>\n",
       "<table border=\"1\" class=\"dataframe\">\n",
       "  <thead>\n",
       "    <tr style=\"text-align: right;\">\n",
       "      <th></th>\n",
       "      <th>Account_Number</th>\n",
       "      <th>STATEMENT_DATE</th>\n",
       "      <th>STATEMENT_BALANCE</th>\n",
       "      <th>POINTS_REDEEMED</th>\n",
       "      <th>POINTS_BALANCE_CLOSING</th>\n",
       "      <th>POINTS_EARNED</th>\n",
       "    </tr>\n",
       "  </thead>\n",
       "  <tbody>\n",
       "    <tr>\n",
       "      <th>0</th>\n",
       "      <td>MAFF_ACCT_0000000001</td>\n",
       "      <td>2017-05-03</td>\n",
       "      <td>0</td>\n",
       "      <td>0</td>\n",
       "      <td>0</td>\n",
       "      <td>0</td>\n",
       "    </tr>\n",
       "    <tr>\n",
       "      <th>1</th>\n",
       "      <td>MAFF_ACCT_0000000003</td>\n",
       "      <td>2017-12-18</td>\n",
       "      <td>2049</td>\n",
       "      <td>0</td>\n",
       "      <td>0</td>\n",
       "      <td>0</td>\n",
       "    </tr>\n",
       "  </tbody>\n",
       "</table>\n",
       "</div>"
      ],
      "text/plain": [
       "         Account_Number STATEMENT_DATE  STATEMENT_BALANCE  POINTS_REDEEMED  \\\n",
       "0  MAFF_ACCT_0000000001     2017-05-03                  0                0   \n",
       "1  MAFF_ACCT_0000000003     2017-12-18               2049                0   \n",
       "\n",
       "   POINTS_BALANCE_CLOSING  POINTS_EARNED  \n",
       "0                       0              0  \n",
       "1                       0              0  "
      ]
     },
     "execution_count": 189,
     "metadata": {},
     "output_type": "execute_result"
    }
   ],
   "source": [
    "df2 = pd.read_csv('Statements_cleaned.csv',sep=',',encoding='utf-8')\n",
    "del df2['Unnamed: 0']\n",
    "del df2['STATEMENT_FROM_DATE']\n",
    "del df2['STATEMENT_TO_DATE']\n",
    "df2.head(2)"
   ]
  },
  {
   "cell_type": "code",
   "execution_count": 190,
   "metadata": {},
   "outputs": [
    {
     "data": {
      "text/plain": [
       "(10544170, 36)"
      ]
     },
     "execution_count": 190,
     "metadata": {},
     "output_type": "execute_result"
    }
   ],
   "source": [
    "df2['STATEMENT_DATE'] = df2['STATEMENT_DATE'].astype('datetime64[ns]')\n",
    "df3 = pd.merge(df1,df2,how='left', \n",
    "                  left_on=['Account_Number','MISDATE'], \n",
    "                  right_on = ['Account_Number','STATEMENT_DATE'])\n",
    "del df3['STATEMENT_DATE'] \n",
    "del df3['STATEMENT_BALANCE']\n",
    "df3['POINTS_REDEEMED']=df3['POINTS_REDEEMED'].replace(np.nan, 0).replace(np.nan, 0)\n",
    "df3['POINTS_BALANCE_CLOSING']=df3['POINTS_BALANCE_CLOSING'].replace(-np.nan, 0).replace(np.nan, 0)\n",
    "df3['POINTS_EARNED']=df3['POINTS_EARNED'].replace(-np.nan, 0).replace(np.nan, 0)\n",
    "\n",
    "df3['POINTS_REDEEMED'].fillna(0, inplace=True)\n",
    "df3['POINTS_BALANCE_CLOSING'].fillna(0, inplace=True)\n",
    "df3['POINTS_EARNED'].fillna(0, inplace=True)\n",
    "\n",
    "df3['POINTS_REDEEMED'] = df3['POINTS_REDEEMED'].astype('int')\n",
    "df3['POINTS_BALANCE_CLOSING']= df3['POINTS_BALANCE_CLOSING'].astype('int')\n",
    "df3['POINTS_EARNED']= df3['POINTS_EARNED'].astype('int')\n",
    "df3.shape"
   ]
  },
  {
   "cell_type": "code",
   "execution_count": 191,
   "metadata": {
    "collapsed": true
   },
   "outputs": [],
   "source": [
    "del df2"
   ]
  },
  {
   "cell_type": "code",
   "execution_count": 192,
   "metadata": {
    "scrolled": true
   },
   "outputs": [
    {
     "data": {
      "text/plain": [
       "'D:\\\\MAFData'"
      ]
     },
     "execution_count": 192,
     "metadata": {},
     "output_type": "execute_result"
    }
   ],
   "source": [
    "os.chdir('D://MAFData//')\n",
    "os.getcwd()\n",
    "\n",
    "with open('Transactions_cleaned.pkl', 'rb') as f:\n",
    "    Transactions_DailyAgg_cleaned = pickle.load(f)\n"
   ]
  },
  {
   "cell_type": "code",
   "execution_count": null,
   "metadata": {
    "collapsed": true
   },
   "outputs": [],
   "source": []
  },
  {
   "cell_type": "code",
   "execution_count": 194,
   "metadata": {},
   "outputs": [
    {
     "data": {
      "text/html": [
       "<div>\n",
       "<style scoped>\n",
       "    .dataframe tbody tr th:only-of-type {\n",
       "        vertical-align: middle;\n",
       "    }\n",
       "\n",
       "    .dataframe tbody tr th {\n",
       "        vertical-align: top;\n",
       "    }\n",
       "\n",
       "    .dataframe thead th {\n",
       "        text-align: right;\n",
       "    }\n",
       "</style>\n",
       "<table border=\"1\" class=\"dataframe\">\n",
       "  <thead>\n",
       "    <tr style=\"text-align: right;\">\n",
       "      <th></th>\n",
       "      <th>Account_Number</th>\n",
       "      <th>MISDATE</th>\n",
       "      <th>ATTRITION_FLAG</th>\n",
       "      <th>ACTUAL_CURRENT_BALANCE</th>\n",
       "      <th>Credit_Limit</th>\n",
       "      <th>Last_Statement_Closing_Balance</th>\n",
       "      <th>Last_Statement_Minimum_Due</th>\n",
       "      <th>Monthly_Salary</th>\n",
       "      <th>Months_On_Book</th>\n",
       "      <th>Monthly_Salary</th>\n",
       "      <th>...</th>\n",
       "      <th>APR_Rate_High</th>\n",
       "      <th>Prod_Cat_Voyager</th>\n",
       "      <th>Prod_Cat_Cashback</th>\n",
       "      <th>Country_ARAB</th>\n",
       "      <th>Country_INDIA</th>\n",
       "      <th>Country_OTHERS</th>\n",
       "      <th>Country_PAKISTAN</th>\n",
       "      <th>Country_PHILLIPPINES</th>\n",
       "      <th>Country_U.A.E.</th>\n",
       "      <th>Perc_Credit_Limit_Used</th>\n",
       "    </tr>\n",
       "  </thead>\n",
       "  <tbody>\n",
       "    <tr>\n",
       "      <th>10544169</th>\n",
       "      <td>MAFF_ACCT_0000266356</td>\n",
       "      <td>2016-12-25</td>\n",
       "      <td>OPEN</td>\n",
       "      <td>11763</td>\n",
       "      <td>30000</td>\n",
       "      <td>11763</td>\n",
       "      <td>588</td>\n",
       "      <td>700000</td>\n",
       "      <td>3</td>\n",
       "      <td>700000</td>\n",
       "      <td>...</td>\n",
       "      <td>0</td>\n",
       "      <td>1</td>\n",
       "      <td>0</td>\n",
       "      <td>0</td>\n",
       "      <td>1</td>\n",
       "      <td>0</td>\n",
       "      <td>0</td>\n",
       "      <td>0</td>\n",
       "      <td>0</td>\n",
       "      <td>0.39</td>\n",
       "    </tr>\n",
       "  </tbody>\n",
       "</table>\n",
       "<p>1 rows × 33 columns</p>\n",
       "</div>"
      ],
      "text/plain": [
       "                Account_Number    MISDATE ATTRITION_FLAG  \\\n",
       "10544169  MAFF_ACCT_0000266356 2016-12-25           OPEN   \n",
       "\n",
       "          ACTUAL_CURRENT_BALANCE  Credit_Limit  \\\n",
       "10544169                   11763         30000   \n",
       "\n",
       "          Last_Statement_Closing_Balance  Last_Statement_Minimum_Due  \\\n",
       "10544169                           11763                         588   \n",
       "\n",
       "          Monthly_Salary  Months_On_Book  Monthly_Salary  \\\n",
       "10544169          700000               3          700000   \n",
       "\n",
       "                  ...           APR_Rate_High Prod_Cat_Voyager  \\\n",
       "10544169          ...                       0                1   \n",
       "\n",
       "         Prod_Cat_Cashback  Country_ARAB  Country_INDIA  Country_OTHERS  \\\n",
       "10544169                 0             0              1               0   \n",
       "\n",
       "         Country_PAKISTAN Country_PHILLIPPINES Country_U.A.E.  \\\n",
       "10544169                0                    0              0   \n",
       "\n",
       "         Perc_Credit_Limit_Used  \n",
       "10544169                   0.39  \n",
       "\n",
       "[1 rows x 33 columns]"
      ]
     },
     "execution_count": 194,
     "metadata": {},
     "output_type": "execute_result"
    },
    {
     "data": {
      "text/html": [
       "<div>\n",
       "<style scoped>\n",
       "    .dataframe tbody tr th:only-of-type {\n",
       "        vertical-align: middle;\n",
       "    }\n",
       "\n",
       "    .dataframe tbody tr th {\n",
       "        vertical-align: top;\n",
       "    }\n",
       "\n",
       "    .dataframe thead th {\n",
       "        text-align: right;\n",
       "    }\n",
       "</style>\n",
       "<table border=\"1\" class=\"dataframe\">\n",
       "  <thead>\n",
       "    <tr style=\"text-align: right;\">\n",
       "      <th></th>\n",
       "      <th>Account_Number</th>\n",
       "      <th>Purchase_Date</th>\n",
       "      <th>Billing_Amount_Sum_Payment</th>\n",
       "      <th>Billing_Amount_Sum_Spend_ESS</th>\n",
       "      <th>Billing_Amount_Sum_Spend_NON_ESS</th>\n",
       "      <th>Billing_Amount_Spend_CASH</th>\n",
       "      <th>Billing_Amount_Violation_Fee</th>\n",
       "      <th>Transaction_Count_Payment</th>\n",
       "      <th>Tranasaction_Count_Spend_ESS</th>\n",
       "      <th>Tranasaction_Count_Spend_NON_ESS</th>\n",
       "      <th>Tranasaction_Count_Spend_CASH</th>\n",
       "      <th>Transaction_Count_Foreclosure</th>\n",
       "      <th>Tranasaction_Count_BT</th>\n",
       "      <th>Tranasaction_Count_LOP</th>\n",
       "      <th>Tranasaction_Count_EPP</th>\n",
       "      <th>Tranasaction_Count_Violation_Fee</th>\n",
       "    </tr>\n",
       "  </thead>\n",
       "  <tbody>\n",
       "    <tr>\n",
       "      <th>15097870</th>\n",
       "      <td>MAFF_ACCT_0000036399</td>\n",
       "      <td>2017-04-30</td>\n",
       "      <td>-200.000</td>\n",
       "      <td>0.000</td>\n",
       "      <td>0.000</td>\n",
       "      <td>0.000</td>\n",
       "      <td>0.000</td>\n",
       "      <td>1</td>\n",
       "      <td>0</td>\n",
       "      <td>0</td>\n",
       "      <td>0</td>\n",
       "      <td>0</td>\n",
       "      <td>0</td>\n",
       "      <td>0</td>\n",
       "      <td>0</td>\n",
       "      <td>0</td>\n",
       "    </tr>\n",
       "  </tbody>\n",
       "</table>\n",
       "</div>"
      ],
      "text/plain": [
       "                Account_Number Purchase_Date Billing_Amount_Sum_Payment  \\\n",
       "15097870  MAFF_ACCT_0000036399    2017-04-30                   -200.000   \n",
       "\n",
       "         Billing_Amount_Sum_Spend_ESS Billing_Amount_Sum_Spend_NON_ESS  \\\n",
       "15097870                        0.000                            0.000   \n",
       "\n",
       "         Billing_Amount_Spend_CASH Billing_Amount_Violation_Fee  \\\n",
       "15097870                     0.000                        0.000   \n",
       "\n",
       "         Transaction_Count_Payment Tranasaction_Count_Spend_ESS  \\\n",
       "15097870                         1                            0   \n",
       "\n",
       "         Tranasaction_Count_Spend_NON_ESS Tranasaction_Count_Spend_CASH  \\\n",
       "15097870                                0                             0   \n",
       "\n",
       "         Transaction_Count_Foreclosure Tranasaction_Count_BT  \\\n",
       "15097870                             0                     0   \n",
       "\n",
       "         Tranasaction_Count_LOP Tranasaction_Count_EPP  \\\n",
       "15097870                      0                      0   \n",
       "\n",
       "         Tranasaction_Count_Violation_Fee  \n",
       "15097870                                0  "
      ]
     },
     "execution_count": 194,
     "metadata": {},
     "output_type": "execute_result"
    }
   ],
   "source": [
    "df1['Account_Number'] = df1['Account_Number'].astype('str')\n",
    "df1['Account_Number'] = df1['Account_Number'].astype('str')\n",
    "\n",
    "Transactions_DailyAgg_cleaned['Purchase_Date'] = Transactions_DailyAgg_cleaned['Purchase_Date'].astype('datetime64[ns]')\n",
    "df1['MISDATE'] = df1['MISDATE'].astype('datetime64[ns]')\n",
    "\n",
    "Transactions_DailyAgg_cleaned = Transactions_DailyAgg_cleaned[pd.notnull(Transactions_DailyAgg_cleaned['Account_Number'])] \n",
    "Transactions_DailyAgg_cleaned = Transactions_DailyAgg_cleaned[pd.notnull(Transactions_DailyAgg_cleaned['Purchase_Date'])] \n",
    "\n",
    "df1.tail(1)\n",
    "Transactions_DailyAgg_cleaned.tail(1)"
   ]
  },
  {
   "cell_type": "code",
   "execution_count": null,
   "metadata": {
    "collapsed": true
   },
   "outputs": [],
   "source": []
  },
  {
   "cell_type": "code",
   "execution_count": 195,
   "metadata": {
    "collapsed": true
   },
   "outputs": [],
   "source": [
    "\n",
    "df3 = pd.merge(df3,Transactions_DailyAgg_cleaned,how='left', \n",
    "                  left_on=['Account_Number','MISDATE'], \n",
    "                  right_on = ['Account_Number','Purchase_Date'])\n",
    "del df3['Purchase_Date']"
   ]
  },
  {
   "cell_type": "code",
   "execution_count": 196,
   "metadata": {
    "collapsed": true
   },
   "outputs": [],
   "source": [
    "del df1"
   ]
  },
  {
   "cell_type": "code",
   "execution_count": 197,
   "metadata": {
    "collapsed": true
   },
   "outputs": [],
   "source": [
    "df4 = df3\n",
    "del df3"
   ]
  },
  {
   "cell_type": "code",
   "execution_count": 198,
   "metadata": {
    "collapsed": true
   },
   "outputs": [],
   "source": [
    "#Merged2.to_csv('Merged_cleaned.csv',sep=',',encoding='utf-8')\n",
    "output = open('Merged_cleaned2.pkl', 'wb')\n",
    "pickle.dump(df4, output)\n",
    "output.close()"
   ]
  },
  {
   "cell_type": "markdown",
   "metadata": {
    "collapsed": true
   },
   "source": [
    "### Replace remaining nan and infinities with '0'"
   ]
  },
  {
   "cell_type": "code",
   "execution_count": 200,
   "metadata": {
    "collapsed": true
   },
   "outputs": [],
   "source": [
    "df4['Billing_Amount_Sum_Spend_ESS']=df4['Billing_Amount_Sum_Spend_ESS'].replace(-np.nan, 0).replace(np.nan, 0)\n",
    "df4['Billing_Amount_Sum_Spend_NON_ESS']=df4['Billing_Amount_Sum_Spend_NON_ESS'].replace(-np.nan, 0).replace(np.nan, 0)\n",
    "df4['Billing_Amount_Spend_CASH']=df4['Billing_Amount_Spend_CASH'].replace(np.nan, 0).replace(np.nan, 0)\n",
    "df4['Billing_Amount_Violation_Fee']=df4['Billing_Amount_Violation_Fee'].replace(-np.nan, 0).replace(np.nan, 0)\n",
    "df4['Transaction_Count_Payment']=df4['Transaction_Count_Payment'].replace(-np.nan, 0).replace(np.nan, 0)"
   ]
  },
  {
   "cell_type": "code",
   "execution_count": 201,
   "metadata": {
    "collapsed": true
   },
   "outputs": [],
   "source": [
    "df4['Tranasaction_Count_Spend_ESS']=df4['Tranasaction_Count_Spend_ESS'].replace(np.nan, 0).replace(np.inf, 0).astype(int)\n",
    "df4['Tranasaction_Count_Spend_NON_ESS']=df4['Tranasaction_Count_Spend_NON_ESS'].replace(np.nan, 0).replace(np.inf, 0).astype(int)\n",
    "df4['Tranasaction_Count_Spend_CASH']=df4['Tranasaction_Count_Spend_CASH'].replace(np.nan, 0).replace(np.inf, 0).astype(int)\n",
    "df4['Transaction_Count_Foreclosure']=df4['Transaction_Count_Foreclosure'].replace(np.nan, 0).replace(np.inf, 0).astype(int)\n",
    "df4['Tranasaction_Count_BT']=df4['Tranasaction_Count_BT'].replace(np.nan, 0).replace(np.inf, 0).astype(int)\n",
    "df4['Tranasaction_Count_LOP']=df4['Tranasaction_Count_LOP'].replace(np.nan, 0).replace(np.inf, 0).astype(int)\n",
    "df4['Tranasaction_Count_EPP']=df4['Tranasaction_Count_EPP'].replace(np.nan, 0).replace(np.inf, 0).astype(int)\n",
    "df4['Tranasaction_Count_Violation_Fee']=df4['Tranasaction_Count_Violation_Fee'].replace(np.nan, 0).replace(np.inf, 0).astype(int)"
   ]
  },
  {
   "cell_type": "code",
   "execution_count": 203,
   "metadata": {},
   "outputs": [
    {
     "data": {
      "text/html": [
       "<div>\n",
       "<style scoped>\n",
       "    .dataframe tbody tr th:only-of-type {\n",
       "        vertical-align: middle;\n",
       "    }\n",
       "\n",
       "    .dataframe tbody tr th {\n",
       "        vertical-align: top;\n",
       "    }\n",
       "\n",
       "    .dataframe thead th {\n",
       "        text-align: right;\n",
       "    }\n",
       "</style>\n",
       "<table border=\"1\" class=\"dataframe\">\n",
       "  <thead>\n",
       "    <tr style=\"text-align: right;\">\n",
       "      <th></th>\n",
       "      <th>Account_Number</th>\n",
       "      <th>MISDATE</th>\n",
       "      <th>ATTRITION_FLAG</th>\n",
       "      <th>ACTUAL_CURRENT_BALANCE</th>\n",
       "      <th>Credit_Limit</th>\n",
       "      <th>Last_Statement_Closing_Balance</th>\n",
       "      <th>Last_Statement_Minimum_Due</th>\n",
       "      <th>Monthly_Salary</th>\n",
       "      <th>Months_On_Book</th>\n",
       "      <th>Monthly_Salary</th>\n",
       "      <th>...</th>\n",
       "      <th>Billing_Amount_Violation_Fee</th>\n",
       "      <th>Transaction_Count_Payment</th>\n",
       "      <th>Tranasaction_Count_Spend_ESS</th>\n",
       "      <th>Tranasaction_Count_Spend_NON_ESS</th>\n",
       "      <th>Tranasaction_Count_Spend_CASH</th>\n",
       "      <th>Transaction_Count_Foreclosure</th>\n",
       "      <th>Tranasaction_Count_BT</th>\n",
       "      <th>Tranasaction_Count_LOP</th>\n",
       "      <th>Tranasaction_Count_EPP</th>\n",
       "      <th>Tranasaction_Count_Violation_Fee</th>\n",
       "    </tr>\n",
       "  </thead>\n",
       "  <tbody>\n",
       "    <tr>\n",
       "      <th>0</th>\n",
       "      <td>MAFF_ACCT_0000005355</td>\n",
       "      <td>2017-04-09</td>\n",
       "      <td>VOLUNTARY</td>\n",
       "      <td>0</td>\n",
       "      <td>25313</td>\n",
       "      <td>262</td>\n",
       "      <td>100</td>\n",
       "      <td>20708</td>\n",
       "      <td>48</td>\n",
       "      <td>20708</td>\n",
       "      <td>...</td>\n",
       "      <td>0</td>\n",
       "      <td>0</td>\n",
       "      <td>0</td>\n",
       "      <td>0</td>\n",
       "      <td>0</td>\n",
       "      <td>0</td>\n",
       "      <td>0</td>\n",
       "      <td>0</td>\n",
       "      <td>0</td>\n",
       "      <td>0</td>\n",
       "    </tr>\n",
       "  </tbody>\n",
       "</table>\n",
       "<p>1 rows × 50 columns</p>\n",
       "</div>"
      ],
      "text/plain": [
       "         Account_Number    MISDATE ATTRITION_FLAG  ACTUAL_CURRENT_BALANCE  \\\n",
       "0  MAFF_ACCT_0000005355 2017-04-09      VOLUNTARY                       0   \n",
       "\n",
       "   Credit_Limit  Last_Statement_Closing_Balance  Last_Statement_Minimum_Due  \\\n",
       "0         25313                             262                         100   \n",
       "\n",
       "   Monthly_Salary  Months_On_Book  Monthly_Salary  \\\n",
       "0           20708              48           20708   \n",
       "\n",
       "                ...                Billing_Amount_Violation_Fee  \\\n",
       "0               ...                                           0   \n",
       "\n",
       "  Transaction_Count_Payment Tranasaction_Count_Spend_ESS  \\\n",
       "0                         0                            0   \n",
       "\n",
       "   Tranasaction_Count_Spend_NON_ESS  Tranasaction_Count_Spend_CASH  \\\n",
       "0                                 0                              0   \n",
       "\n",
       "   Transaction_Count_Foreclosure Tranasaction_Count_BT Tranasaction_Count_LOP  \\\n",
       "0                              0                     0                      0   \n",
       "\n",
       "  Tranasaction_Count_EPP Tranasaction_Count_Violation_Fee  \n",
       "0                      0                                0  \n",
       "\n",
       "[1 rows x 50 columns]"
      ]
     },
     "execution_count": 203,
     "metadata": {},
     "output_type": "execute_result"
    }
   ],
   "source": [
    "df4.head(1)"
   ]
  },
  {
   "cell_type": "code",
   "execution_count": 204,
   "metadata": {
    "collapsed": true
   },
   "outputs": [],
   "source": [
    "df4['Incident_Num']=df4['Incident_Num'].replace(np.nan, 0).replace(np.inf, 0).astype(int)\n",
    "df4['APR_Rate_Low']=df4['APR_Rate_Low'].replace(np.nan, 0).replace(np.inf, 0).astype(int)\n",
    "df4['APR_Rate_Med']=df4['APR_Rate_Med'].replace(np.nan, 0).replace(np.inf, 0).astype(int)\n",
    "df4['APR_Rate_High']=df4['APR_Rate_High'].replace(np.nan, 0).replace(np.inf, 0).astype(int)\n",
    "df4['Prod_Cat_Voyager']=df4['Prod_Cat_Voyager'].replace(np.nan, 0).replace(np.inf, 0).astype(int)\n",
    "df4['Prod_Cat_Cashback']=df4['Prod_Cat_Cashback'].replace(np.nan, 0).replace(np.inf, 0).astype(int)\n",
    "df4['Days_On_Book']=df4['Days_On_Book'].replace(np.nan, 0).replace(np.inf, 0).astype(int)\n",
    "df4['Days_From_Statement']=df4['Days_From_Statement'].replace(np.nan, 0).replace(np.inf, 0).astype(int)\n",
    "df4['Days_from_Last_Activity']=df4['Days_from_Last_Activity'].replace(np.nan, 0).replace(np.inf, 0).astype(int)"
   ]
  },
  {
   "cell_type": "code",
   "execution_count": 205,
   "metadata": {},
   "outputs": [
    {
     "data": {
      "text/plain": [
       "Account_Number                              object\n",
       "MISDATE                             datetime64[ns]\n",
       "ATTRITION_FLAG                              object\n",
       "ACTUAL_CURRENT_BALANCE                       int32\n",
       "Credit_Limit                                 int32\n",
       "Last_Statement_Closing_Balance               int32\n",
       "Last_Statement_Minimum_Due                   int32\n",
       "Monthly_Salary                               int32\n",
       "Months_On_Book                               int32\n",
       "Monthly_Salary                               int32\n",
       "No_Of_Due_Stmt                              object\n",
       "Product                                     object\n",
       "Product_Fee_Type                            object\n",
       "Days_On_Book                                 int32\n",
       "Days_From_Statement                          int32\n",
       "Days_from_Last_Activity                      int32\n",
       "Incident_Category                           object\n",
       "Incident_Type                               object\n",
       "Incident_Cat_Sequence_Daily                 object\n",
       "Incident_Type_Sequence_Daily                object\n",
       "Incident_Num                                 int32\n",
       "APR_Rate_Low                                 int32\n",
       "APR_Rate_Med                                 int32\n",
       "APR_Rate_High                                int32\n",
       "Prod_Cat_Voyager                             int32\n",
       "Prod_Cat_Cashback                            int32\n",
       "Country_ARAB                                 int32\n",
       "Country_INDIA                                int32\n",
       "Country_OTHERS                               int32\n",
       "Country_PAKISTAN                             int32\n",
       "Country_PHILLIPPINES                         int32\n",
       "Country_U.A.E.                               int32\n",
       "Perc_Credit_Limit_Used                     float64\n",
       "POINTS_REDEEMED                              int32\n",
       "POINTS_BALANCE_CLOSING                       int32\n",
       "POINTS_EARNED                                int32\n",
       "Billing_Amount_Sum_Payment                  object\n",
       "Billing_Amount_Sum_Spend_ESS                object\n",
       "Billing_Amount_Sum_Spend_NON_ESS            object\n",
       "Billing_Amount_Spend_CASH                   object\n",
       "Billing_Amount_Violation_Fee                object\n",
       "Transaction_Count_Payment                   object\n",
       "Tranasaction_Count_Spend_ESS                 int32\n",
       "Tranasaction_Count_Spend_NON_ESS             int32\n",
       "Tranasaction_Count_Spend_CASH                int32\n",
       "Transaction_Count_Foreclosure                int32\n",
       "Tranasaction_Count_BT                        int32\n",
       "Tranasaction_Count_LOP                       int32\n",
       "Tranasaction_Count_EPP                       int32\n",
       "Tranasaction_Count_Violation_Fee             int32\n",
       "dtype: object"
      ]
     },
     "execution_count": 205,
     "metadata": {},
     "output_type": "execute_result"
    }
   ],
   "source": [
    "df4.dtypes"
   ]
  },
  {
   "cell_type": "markdown",
   "metadata": {},
   "source": [
    "### Add Timestep Variable"
   ]
  },
  {
   "cell_type": "code",
   "execution_count": 206,
   "metadata": {},
   "outputs": [
    {
     "data": {
      "text/plain": [
       "(10544170, 51)"
      ]
     },
     "execution_count": 206,
     "metadata": {},
     "output_type": "execute_result"
    },
    {
     "data": {
      "text/html": [
       "<div>\n",
       "<style scoped>\n",
       "    .dataframe tbody tr th:only-of-type {\n",
       "        vertical-align: middle;\n",
       "    }\n",
       "\n",
       "    .dataframe tbody tr th {\n",
       "        vertical-align: top;\n",
       "    }\n",
       "\n",
       "    .dataframe thead th {\n",
       "        text-align: right;\n",
       "    }\n",
       "</style>\n",
       "<table border=\"1\" class=\"dataframe\">\n",
       "  <thead>\n",
       "    <tr style=\"text-align: right;\">\n",
       "      <th></th>\n",
       "      <th>Account_Number</th>\n",
       "      <th>MISDATE</th>\n",
       "      <th>ATTRITION_FLAG</th>\n",
       "      <th>ACTUAL_CURRENT_BALANCE</th>\n",
       "      <th>Credit_Limit</th>\n",
       "      <th>Last_Statement_Closing_Balance</th>\n",
       "      <th>Last_Statement_Minimum_Due</th>\n",
       "      <th>Monthly_Salary</th>\n",
       "      <th>Months_On_Book</th>\n",
       "      <th>Monthly_Salary</th>\n",
       "      <th>...</th>\n",
       "      <th>Transaction_Count_Payment</th>\n",
       "      <th>Tranasaction_Count_Spend_ESS</th>\n",
       "      <th>Tranasaction_Count_Spend_NON_ESS</th>\n",
       "      <th>Tranasaction_Count_Spend_CASH</th>\n",
       "      <th>Transaction_Count_Foreclosure</th>\n",
       "      <th>Tranasaction_Count_BT</th>\n",
       "      <th>Tranasaction_Count_LOP</th>\n",
       "      <th>Tranasaction_Count_EPP</th>\n",
       "      <th>Tranasaction_Count_Violation_Fee</th>\n",
       "      <th>Timestep</th>\n",
       "    </tr>\n",
       "  </thead>\n",
       "  <tbody>\n",
       "    <tr>\n",
       "      <th>0</th>\n",
       "      <td>MAFF_ACCT_0000002125</td>\n",
       "      <td>2017-07-12</td>\n",
       "      <td>OPEN</td>\n",
       "      <td>6911</td>\n",
       "      <td>18000</td>\n",
       "      <td>6775</td>\n",
       "      <td>338</td>\n",
       "      <td>9000</td>\n",
       "      <td>57</td>\n",
       "      <td>9000</td>\n",
       "      <td>...</td>\n",
       "      <td>0</td>\n",
       "      <td>2</td>\n",
       "      <td>2</td>\n",
       "      <td>0</td>\n",
       "      <td>0</td>\n",
       "      <td>0</td>\n",
       "      <td>0</td>\n",
       "      <td>0</td>\n",
       "      <td>0</td>\n",
       "      <td>1</td>\n",
       "    </tr>\n",
       "    <tr>\n",
       "      <th>1</th>\n",
       "      <td>MAFF_ACCT_0000002125</td>\n",
       "      <td>2017-07-11</td>\n",
       "      <td>OPEN</td>\n",
       "      <td>6822</td>\n",
       "      <td>18000</td>\n",
       "      <td>6775</td>\n",
       "      <td>338</td>\n",
       "      <td>9000</td>\n",
       "      <td>57</td>\n",
       "      <td>9000</td>\n",
       "      <td>...</td>\n",
       "      <td>0</td>\n",
       "      <td>1</td>\n",
       "      <td>1</td>\n",
       "      <td>0</td>\n",
       "      <td>0</td>\n",
       "      <td>0</td>\n",
       "      <td>0</td>\n",
       "      <td>0</td>\n",
       "      <td>0</td>\n",
       "      <td>2</td>\n",
       "    </tr>\n",
       "    <tr>\n",
       "      <th>2</th>\n",
       "      <td>MAFF_ACCT_0000002125</td>\n",
       "      <td>2017-07-10</td>\n",
       "      <td>OPEN</td>\n",
       "      <td>6775</td>\n",
       "      <td>18000</td>\n",
       "      <td>6775</td>\n",
       "      <td>338</td>\n",
       "      <td>9000</td>\n",
       "      <td>57</td>\n",
       "      <td>9000</td>\n",
       "      <td>...</td>\n",
       "      <td>0</td>\n",
       "      <td>0</td>\n",
       "      <td>0</td>\n",
       "      <td>0</td>\n",
       "      <td>0</td>\n",
       "      <td>0</td>\n",
       "      <td>0</td>\n",
       "      <td>0</td>\n",
       "      <td>0</td>\n",
       "      <td>3</td>\n",
       "    </tr>\n",
       "    <tr>\n",
       "      <th>3</th>\n",
       "      <td>MAFF_ACCT_0000002125</td>\n",
       "      <td>2017-07-09</td>\n",
       "      <td>OPEN</td>\n",
       "      <td>6775</td>\n",
       "      <td>18000</td>\n",
       "      <td>5139</td>\n",
       "      <td>3186</td>\n",
       "      <td>9000</td>\n",
       "      <td>57</td>\n",
       "      <td>9000</td>\n",
       "      <td>...</td>\n",
       "      <td>0</td>\n",
       "      <td>1</td>\n",
       "      <td>1</td>\n",
       "      <td>0</td>\n",
       "      <td>0</td>\n",
       "      <td>0</td>\n",
       "      <td>0</td>\n",
       "      <td>0</td>\n",
       "      <td>0</td>\n",
       "      <td>4</td>\n",
       "    </tr>\n",
       "  </tbody>\n",
       "</table>\n",
       "<p>4 rows × 51 columns</p>\n",
       "</div>"
      ],
      "text/plain": [
       "         Account_Number    MISDATE ATTRITION_FLAG  ACTUAL_CURRENT_BALANCE  \\\n",
       "0  MAFF_ACCT_0000002125 2017-07-12           OPEN                    6911   \n",
       "1  MAFF_ACCT_0000002125 2017-07-11           OPEN                    6822   \n",
       "2  MAFF_ACCT_0000002125 2017-07-10           OPEN                    6775   \n",
       "3  MAFF_ACCT_0000002125 2017-07-09           OPEN                    6775   \n",
       "\n",
       "   Credit_Limit  Last_Statement_Closing_Balance  Last_Statement_Minimum_Due  \\\n",
       "0         18000                            6775                         338   \n",
       "1         18000                            6775                         338   \n",
       "2         18000                            6775                         338   \n",
       "3         18000                            5139                        3186   \n",
       "\n",
       "   Monthly_Salary  Months_On_Book  Monthly_Salary   ...     \\\n",
       "0            9000              57            9000   ...      \n",
       "1            9000              57            9000   ...      \n",
       "2            9000              57            9000   ...      \n",
       "3            9000              57            9000   ...      \n",
       "\n",
       "  Transaction_Count_Payment Tranasaction_Count_Spend_ESS  \\\n",
       "0                         0                            2   \n",
       "1                         0                            1   \n",
       "2                         0                            0   \n",
       "3                         0                            1   \n",
       "\n",
       "  Tranasaction_Count_Spend_NON_ESS  Tranasaction_Count_Spend_CASH  \\\n",
       "0                                2                              0   \n",
       "1                                1                              0   \n",
       "2                                0                              0   \n",
       "3                                1                              0   \n",
       "\n",
       "   Transaction_Count_Foreclosure  Tranasaction_Count_BT  \\\n",
       "0                              0                      0   \n",
       "1                              0                      0   \n",
       "2                              0                      0   \n",
       "3                              0                      0   \n",
       "\n",
       "  Tranasaction_Count_LOP Tranasaction_Count_EPP  \\\n",
       "0                      0                      0   \n",
       "1                      0                      0   \n",
       "2                      0                      0   \n",
       "3                      0                      0   \n",
       "\n",
       "  Tranasaction_Count_Violation_Fee Timestep  \n",
       "0                                0        1  \n",
       "1                                0        2  \n",
       "2                                0        3  \n",
       "3                                0        4  \n",
       "\n",
       "[4 rows x 51 columns]"
      ]
     },
     "execution_count": 206,
     "metadata": {},
     "output_type": "execute_result"
    },
    {
     "data": {
      "text/html": [
       "<div>\n",
       "<style scoped>\n",
       "    .dataframe tbody tr th:only-of-type {\n",
       "        vertical-align: middle;\n",
       "    }\n",
       "\n",
       "    .dataframe tbody tr th {\n",
       "        vertical-align: top;\n",
       "    }\n",
       "\n",
       "    .dataframe thead th {\n",
       "        text-align: right;\n",
       "    }\n",
       "</style>\n",
       "<table border=\"1\" class=\"dataframe\">\n",
       "  <thead>\n",
       "    <tr style=\"text-align: right;\">\n",
       "      <th></th>\n",
       "      <th>Account_Number</th>\n",
       "      <th>MISDATE</th>\n",
       "      <th>ATTRITION_FLAG</th>\n",
       "      <th>ACTUAL_CURRENT_BALANCE</th>\n",
       "      <th>Credit_Limit</th>\n",
       "      <th>Last_Statement_Closing_Balance</th>\n",
       "      <th>Last_Statement_Minimum_Due</th>\n",
       "      <th>Monthly_Salary</th>\n",
       "      <th>Months_On_Book</th>\n",
       "      <th>Monthly_Salary</th>\n",
       "      <th>...</th>\n",
       "      <th>Transaction_Count_Payment</th>\n",
       "      <th>Tranasaction_Count_Spend_ESS</th>\n",
       "      <th>Tranasaction_Count_Spend_NON_ESS</th>\n",
       "      <th>Tranasaction_Count_Spend_CASH</th>\n",
       "      <th>Transaction_Count_Foreclosure</th>\n",
       "      <th>Tranasaction_Count_BT</th>\n",
       "      <th>Tranasaction_Count_LOP</th>\n",
       "      <th>Tranasaction_Count_EPP</th>\n",
       "      <th>Tranasaction_Count_Violation_Fee</th>\n",
       "      <th>Timestep</th>\n",
       "    </tr>\n",
       "  </thead>\n",
       "  <tbody>\n",
       "    <tr>\n",
       "      <th>10544166</th>\n",
       "      <td>MAFF_ACCT_0000266356</td>\n",
       "      <td>2016-12-28</td>\n",
       "      <td>OPEN</td>\n",
       "      <td>11763</td>\n",
       "      <td>30000</td>\n",
       "      <td>11763</td>\n",
       "      <td>588</td>\n",
       "      <td>700000</td>\n",
       "      <td>3</td>\n",
       "      <td>700000</td>\n",
       "      <td>...</td>\n",
       "      <td>0</td>\n",
       "      <td>0</td>\n",
       "      <td>0</td>\n",
       "      <td>0</td>\n",
       "      <td>0</td>\n",
       "      <td>0</td>\n",
       "      <td>0</td>\n",
       "      <td>0</td>\n",
       "      <td>0</td>\n",
       "      <td>127</td>\n",
       "    </tr>\n",
       "    <tr>\n",
       "      <th>10544167</th>\n",
       "      <td>MAFF_ACCT_0000266356</td>\n",
       "      <td>2016-12-27</td>\n",
       "      <td>OPEN</td>\n",
       "      <td>11763</td>\n",
       "      <td>30000</td>\n",
       "      <td>11763</td>\n",
       "      <td>588</td>\n",
       "      <td>700000</td>\n",
       "      <td>3</td>\n",
       "      <td>700000</td>\n",
       "      <td>...</td>\n",
       "      <td>0</td>\n",
       "      <td>0</td>\n",
       "      <td>0</td>\n",
       "      <td>0</td>\n",
       "      <td>0</td>\n",
       "      <td>0</td>\n",
       "      <td>0</td>\n",
       "      <td>0</td>\n",
       "      <td>0</td>\n",
       "      <td>128</td>\n",
       "    </tr>\n",
       "    <tr>\n",
       "      <th>10544168</th>\n",
       "      <td>MAFF_ACCT_0000266356</td>\n",
       "      <td>2016-12-26</td>\n",
       "      <td>OPEN</td>\n",
       "      <td>11763</td>\n",
       "      <td>30000</td>\n",
       "      <td>11763</td>\n",
       "      <td>588</td>\n",
       "      <td>700000</td>\n",
       "      <td>3</td>\n",
       "      <td>700000</td>\n",
       "      <td>...</td>\n",
       "      <td>0</td>\n",
       "      <td>0</td>\n",
       "      <td>0</td>\n",
       "      <td>0</td>\n",
       "      <td>0</td>\n",
       "      <td>0</td>\n",
       "      <td>0</td>\n",
       "      <td>0</td>\n",
       "      <td>0</td>\n",
       "      <td>129</td>\n",
       "    </tr>\n",
       "    <tr>\n",
       "      <th>10544169</th>\n",
       "      <td>MAFF_ACCT_0000266356</td>\n",
       "      <td>2016-12-25</td>\n",
       "      <td>OPEN</td>\n",
       "      <td>11763</td>\n",
       "      <td>30000</td>\n",
       "      <td>11763</td>\n",
       "      <td>588</td>\n",
       "      <td>700000</td>\n",
       "      <td>3</td>\n",
       "      <td>700000</td>\n",
       "      <td>...</td>\n",
       "      <td>0</td>\n",
       "      <td>0</td>\n",
       "      <td>0</td>\n",
       "      <td>0</td>\n",
       "      <td>0</td>\n",
       "      <td>0</td>\n",
       "      <td>0</td>\n",
       "      <td>0</td>\n",
       "      <td>0</td>\n",
       "      <td>130</td>\n",
       "    </tr>\n",
       "  </tbody>\n",
       "</table>\n",
       "<p>4 rows × 51 columns</p>\n",
       "</div>"
      ],
      "text/plain": [
       "                Account_Number    MISDATE ATTRITION_FLAG  \\\n",
       "10544166  MAFF_ACCT_0000266356 2016-12-28           OPEN   \n",
       "10544167  MAFF_ACCT_0000266356 2016-12-27           OPEN   \n",
       "10544168  MAFF_ACCT_0000266356 2016-12-26           OPEN   \n",
       "10544169  MAFF_ACCT_0000266356 2016-12-25           OPEN   \n",
       "\n",
       "          ACTUAL_CURRENT_BALANCE  Credit_Limit  \\\n",
       "10544166                   11763         30000   \n",
       "10544167                   11763         30000   \n",
       "10544168                   11763         30000   \n",
       "10544169                   11763         30000   \n",
       "\n",
       "          Last_Statement_Closing_Balance  Last_Statement_Minimum_Due  \\\n",
       "10544166                           11763                         588   \n",
       "10544167                           11763                         588   \n",
       "10544168                           11763                         588   \n",
       "10544169                           11763                         588   \n",
       "\n",
       "          Monthly_Salary  Months_On_Book  Monthly_Salary   ...     \\\n",
       "10544166          700000               3          700000   ...      \n",
       "10544167          700000               3          700000   ...      \n",
       "10544168          700000               3          700000   ...      \n",
       "10544169          700000               3          700000   ...      \n",
       "\n",
       "         Transaction_Count_Payment Tranasaction_Count_Spend_ESS  \\\n",
       "10544166                         0                            0   \n",
       "10544167                         0                            0   \n",
       "10544168                         0                            0   \n",
       "10544169                         0                            0   \n",
       "\n",
       "         Tranasaction_Count_Spend_NON_ESS  Tranasaction_Count_Spend_CASH  \\\n",
       "10544166                                0                              0   \n",
       "10544167                                0                              0   \n",
       "10544168                                0                              0   \n",
       "10544169                                0                              0   \n",
       "\n",
       "          Transaction_Count_Foreclosure  Tranasaction_Count_BT  \\\n",
       "10544166                              0                      0   \n",
       "10544167                              0                      0   \n",
       "10544168                              0                      0   \n",
       "10544169                              0                      0   \n",
       "\n",
       "         Tranasaction_Count_LOP Tranasaction_Count_EPP  \\\n",
       "10544166                      0                      0   \n",
       "10544167                      0                      0   \n",
       "10544168                      0                      0   \n",
       "10544169                      0                      0   \n",
       "\n",
       "         Tranasaction_Count_Violation_Fee Timestep  \n",
       "10544166                                0      127  \n",
       "10544167                                0      128  \n",
       "10544168                                0      129  \n",
       "10544169                                0      130  \n",
       "\n",
       "[4 rows x 51 columns]"
      ]
     },
     "execution_count": 206,
     "metadata": {},
     "output_type": "execute_result"
    }
   ],
   "source": [
    "df4 = df4.sort_values(['Account_Number', 'MISDATE'], ascending=[True, False])\n",
    "df4 = df4.reset_index(drop=True)\n",
    "df4['Timestep'] = df4.groupby(['Account_Number']).cumcount()+1\n",
    "df4.shape\n",
    "df4.head(4)\n",
    "df4.tail(4)"
   ]
  },
  {
   "cell_type": "markdown",
   "metadata": {},
   "source": [
    "### Save Local Copy"
   ]
  },
  {
   "cell_type": "code",
   "execution_count": 207,
   "metadata": {
    "collapsed": true
   },
   "outputs": [],
   "source": [
    "\n",
    "output = open('Merged_cleaned2.pkl', 'wb')\n",
    "pickle.dump(df4, output)\n",
    "output.close()"
   ]
  },
  {
   "cell_type": "code",
   "execution_count": 208,
   "metadata": {
    "collapsed": true
   },
   "outputs": [],
   "source": [
    "#df4.to_csv('Merged_cleaned2.csv',sep=',',encoding='utf-8')"
   ]
  },
  {
   "cell_type": "code",
   "execution_count": 209,
   "metadata": {
    "collapsed": true
   },
   "outputs": [],
   "source": [
    "output = open('Merged_cleaned2_baknov2.pkl', 'wb')\n",
    "pickle.dump(df4, output)\n",
    "output.close()"
   ]
  },
  {
   "cell_type": "code",
   "execution_count": null,
   "metadata": {
    "collapsed": true
   },
   "outputs": [],
   "source": []
  },
  {
   "cell_type": "code",
   "execution_count": null,
   "metadata": {
    "collapsed": true
   },
   "outputs": [],
   "source": []
  }
 ],
 "metadata": {
  "kernelspec": {
   "display_name": "Python [conda root]",
   "language": "python",
   "name": "conda-root-py"
  },
  "language_info": {
   "codemirror_mode": {
    "name": "ipython",
    "version": 3
   },
   "file_extension": ".py",
   "mimetype": "text/x-python",
   "name": "python",
   "nbconvert_exporter": "python",
   "pygments_lexer": "ipython3",
   "version": "3.6.3"
  }
 },
 "nbformat": 4,
 "nbformat_minor": 2
}
