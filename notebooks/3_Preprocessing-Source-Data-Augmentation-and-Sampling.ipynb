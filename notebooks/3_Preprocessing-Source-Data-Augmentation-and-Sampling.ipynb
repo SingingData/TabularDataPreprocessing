{
 "cells": [
  {
   "cell_type": "markdown",
   "metadata": {},
   "source": [
    "# 3. Preprocessing - Source Data Augmentation and Sampling"
   ]
  },
  {
   "cell_type": "markdown",
   "metadata": {},
   "source": [
    "Last Updated: December 11, 2018"
   ]
  },
  {
   "cell_type": "code",
   "execution_count": 1,
   "metadata": {
    "collapsed": true
   },
   "outputs": [],
   "source": [
    "%matplotlib inline\n",
    "\n",
    "from IPython.core.interactiveshell import InteractiveShell\n",
    "InteractiveShell.ast_node_interactivity = \"all\"\n",
    "\n",
    "from __future__ import print_function\n",
    "import numpy as np\n",
    "import pandas as pd\n",
    "import matplotlib.pyplot as plt\n",
    "from IPython.display import SVG\n",
    "from sklearn import preprocessing\n",
    "import os\n",
    "from os.path import join, dirname\n",
    "from os.path import dirname, join\n",
    "from tqdm import tqdm_notebook\n",
    "import pandas as pd\n",
    "from pandas import pivot\n",
    "from pandas import tools\n",
    "import numpy as np\n",
    "import cv2\n",
    "import re\n",
    "import io\n",
    "import sys \n",
    "import pip\n",
    "import csv\n",
    "from sklearn.model_selection import train_test_split\n",
    "import glob\n",
    "import random\n",
    "import warnings\n",
    "from pandas import DataFrame   \n",
    "import pickle\n",
    "import cloudpickle\n",
    "import azureml\n",
    "import string\n",
    "from scipy import stats\n",
    "import pyparsing\n",
    "import tempfile  \n",
    "import logging\n",
    "import graphviz"
   ]
  },
  {
   "cell_type": "markdown",
   "metadata": {
    "collapsed": true
   },
   "source": [
    "### Working Directory Definition"
   ]
  },
  {
   "cell_type": "code",
   "execution_count": 2,
   "metadata": {},
   "outputs": [
    {
     "name": "stdout",
     "output_type": "stream",
     "text": [
      "D://MAFData\n"
     ]
    },
    {
     "data": {
      "text/plain": [
       "'D:\\\\MAFData'"
      ]
     },
     "execution_count": 2,
     "metadata": {},
     "output_type": "execute_result"
    }
   ],
   "source": [
    "os.chdir('D://MAFData')\n",
    "base_dir = 'D://MAFData'\n",
    "WorkingDir = os.path.join(base_dir, 'Workingdir')\n",
    "\n",
    "print(base_dir)\n",
    "os.getcwd()"
   ]
  },
  {
   "cell_type": "markdown",
   "metadata": {},
   "source": [
    "### Read in Cleaned Source Data"
   ]
  },
  {
   "cell_type": "code",
   "execution_count": 3,
   "metadata": {},
   "outputs": [
    {
     "data": {
      "text/html": [
       "<div>\n",
       "<style scoped>\n",
       "    .dataframe tbody tr th:only-of-type {\n",
       "        vertical-align: middle;\n",
       "    }\n",
       "\n",
       "    .dataframe tbody tr th {\n",
       "        vertical-align: top;\n",
       "    }\n",
       "\n",
       "    .dataframe thead th {\n",
       "        text-align: right;\n",
       "    }\n",
       "</style>\n",
       "<table border=\"1\" class=\"dataframe\">\n",
       "  <thead>\n",
       "    <tr style=\"text-align: right;\">\n",
       "      <th></th>\n",
       "      <th>Unnamed: 0</th>\n",
       "      <th>Account_Number</th>\n",
       "      <th>MISDATE</th>\n",
       "      <th>ATTRITION_FLAG</th>\n",
       "      <th>ACCOUNT_CREATION_DATE</th>\n",
       "      <th>ACTUAL_CURRENT_BALANCE</th>\n",
       "      <th>Credit_Limit</th>\n",
       "      <th>LAST_ACTIVITY_DATE</th>\n",
       "      <th>Last_Statement_Closing_Balance</th>\n",
       "      <th>Last_Statement_Date</th>\n",
       "      <th>...</th>\n",
       "      <th>Transaction_Count_Payment</th>\n",
       "      <th>Tranasaction_Count_Spend_ESS</th>\n",
       "      <th>Tranasaction_Count_Spend_NON_ESS</th>\n",
       "      <th>Tranasaction_Count_Spend_CASH</th>\n",
       "      <th>Transaction_Count_Foreclosure</th>\n",
       "      <th>Tranasaction_Count_BT</th>\n",
       "      <th>Tranasaction_Count_LOP</th>\n",
       "      <th>Tranasaction_Count_EPP</th>\n",
       "      <th>Tranasaction_Count_Violation_Fee</th>\n",
       "      <th>Timestep</th>\n",
       "    </tr>\n",
       "  </thead>\n",
       "  <tbody>\n",
       "    <tr>\n",
       "      <th>0</th>\n",
       "      <td>0</td>\n",
       "      <td>MAFF_ACCT_0000002125</td>\n",
       "      <td>2017-09-21</td>\n",
       "      <td>OPEN</td>\n",
       "      <td>2012-10-24</td>\n",
       "      <td>10483.11</td>\n",
       "      <td>18000</td>\n",
       "      <td>2017-09-21</td>\n",
       "      <td>17391</td>\n",
       "      <td>2017-09-10</td>\n",
       "      <td>...</td>\n",
       "      <td>0.0</td>\n",
       "      <td>1</td>\n",
       "      <td>0</td>\n",
       "      <td>0</td>\n",
       "      <td>0.0</td>\n",
       "      <td>0</td>\n",
       "      <td>0</td>\n",
       "      <td>0</td>\n",
       "      <td>0</td>\n",
       "      <td>1</td>\n",
       "    </tr>\n",
       "    <tr>\n",
       "      <th>1</th>\n",
       "      <td>1</td>\n",
       "      <td>MAFF_ACCT_0000002125</td>\n",
       "      <td>2017-09-20</td>\n",
       "      <td>OPEN</td>\n",
       "      <td>2012-10-24</td>\n",
       "      <td>9858.10</td>\n",
       "      <td>18000</td>\n",
       "      <td>2017-09-20</td>\n",
       "      <td>17391</td>\n",
       "      <td>2017-09-10</td>\n",
       "      <td>...</td>\n",
       "      <td>0.0</td>\n",
       "      <td>1</td>\n",
       "      <td>1</td>\n",
       "      <td>0</td>\n",
       "      <td>0.0</td>\n",
       "      <td>0</td>\n",
       "      <td>0</td>\n",
       "      <td>0</td>\n",
       "      <td>0</td>\n",
       "      <td>2</td>\n",
       "    </tr>\n",
       "  </tbody>\n",
       "</table>\n",
       "<p>2 rows × 52 columns</p>\n",
       "</div>"
      ],
      "text/plain": [
       "   Unnamed: 0        Account_Number    MISDATE ATTRITION_FLAG  \\\n",
       "0           0  MAFF_ACCT_0000002125 2017-09-21           OPEN   \n",
       "1           1  MAFF_ACCT_0000002125 2017-09-20           OPEN   \n",
       "\n",
       "  ACCOUNT_CREATION_DATE  ACTUAL_CURRENT_BALANCE  Credit_Limit  \\\n",
       "0            2012-10-24                10483.11         18000   \n",
       "1            2012-10-24                 9858.10         18000   \n",
       "\n",
       "  LAST_ACTIVITY_DATE  Last_Statement_Closing_Balance Last_Statement_Date  \\\n",
       "0         2017-09-21                           17391          2017-09-10   \n",
       "1         2017-09-20                           17391          2017-09-10   \n",
       "\n",
       "     ...     Transaction_Count_Payment  Tranasaction_Count_Spend_ESS  \\\n",
       "0    ...                           0.0                             1   \n",
       "1    ...                           0.0                             1   \n",
       "\n",
       "   Tranasaction_Count_Spend_NON_ESS Tranasaction_Count_Spend_CASH  \\\n",
       "0                                 0                             0   \n",
       "1                                 1                             0   \n",
       "\n",
       "   Transaction_Count_Foreclosure Tranasaction_Count_BT  \\\n",
       "0                            0.0                     0   \n",
       "1                            0.0                     0   \n",
       "\n",
       "   Tranasaction_Count_LOP  Tranasaction_Count_EPP  \\\n",
       "0                       0                       0   \n",
       "1                       0                       0   \n",
       "\n",
       "  Tranasaction_Count_Violation_Fee  Timestep  \n",
       "0                                0         1  \n",
       "1                                0         2  \n",
       "\n",
       "[2 rows x 52 columns]"
      ]
     },
     "execution_count": 3,
     "metadata": {},
     "output_type": "execute_result"
    }
   ],
   "source": [
    "dtypes = {'Account_Number': object,\n",
    "                            'MISDATE': str,\n",
    "                            'ATTRITION_FLAG':                            object,\n",
    "                            'ACTUAL_CURRENT_BALANCE':                     float,\n",
    "                              'ACCOUNT_CREATION_DATE':                   object,\n",
    "                            'Credit_Limit':                               int,\n",
    "                            'Last_Statement_Closing_Balance':             int,\n",
    "                            'Last_Statement_Date':                       str,\n",
    "                            'Last_Statement_Minimum_Due':                 int,\n",
    "                            'Monthly_Salary':                            int,\n",
    "                            'Months_On_Book':                             int,\n",
    "                            'UAE_Citizen':                                int,\n",
    "                            'Next_Statement_Date':                        object,\n",
    "                            'LAST_ACTIVITY_DATE':                        object,\n",
    "                            'No_Of_Due_Stmt':                            int,\n",
    "                            'Product':                                    int,\n",
    "                            'Predicted_Date':                            object,                            \n",
    "                            'Fee_Paying':                                int,\n",
    "                            'Non_Fee':                                   int,\n",
    "                            'Staff_Fee':                                 int,\n",
    "                            '1st_yr_Fre':                                int,\n",
    "                            'APR_Rate_Low':                              int,\n",
    "                            'APR_Rate_Med':                              int,\n",
    "                            'APR_Rate_High':                             int,\n",
    "                            'Prod_Cat_Voyager':                          int,\n",
    "                            'Prod_Cat_Cashback':                         int,\n",
    "                            'Perc_Credit_Limit_Used':                   float,\n",
    "                            'Days_on_Book':                               int,\n",
    "                            'Days_from_Last_activity':                  int,\n",
    "                                    'Incident_Category':                 str,\n",
    "                            'Incident_Type':                      str,\n",
    "                            'Incident_Cat_Sequence_Daily':        str,\n",
    "                            'Incident_Type_Sequence_Daily':        str,\n",
    "                            'Billing_Amount_Sum_Payment':       float, \n",
    "                            'Billing_Amount_Sum_Spend_ESS':     float,\n",
    "                            'Billing_Amount_Sum_Spend_NON_ESS': float, \n",
    "                            'Billing_Amount_Spend_CASH':        float,\n",
    "                            'Billing_Amount_Violation_Fee':     float, \n",
    "                            'Transaction_Count_Payment':        float,\n",
    "                            'Transaction_Count_Spend_ESS':     float, \n",
    "                            'Transaction_Count_Spend_NON_ESS': float,\n",
    "                            'Transaction_Count_Spend_CASH':    float, \n",
    "                            'Transaction_Count_Foreclosure':    float,\n",
    "                            'Transaction_Count_BT':            float, \n",
    "                            'Transaction_Count_LOP':           float,\n",
    "                            'Transaction_Count_EPP':           float, \n",
    "                            'Transaction_Count_Violation_Fee': float,\n",
    "                            'Timestep':                                   int}\n",
    "parse_dates = ['MISDATE','Last_Statement_Date','LAST_ACTIVITY_DATE', 'ACCOUNT_CREATION_DATE']\n",
    "df1 = pd.read_csv('Merged_cleaned2.csv',sep=',',encoding='utf-8', header = 0,  \n",
    "                  dtype = dtypes,parse_dates=parse_dates)\n",
    "df1.head(2)"
   ]
  },
  {
   "cell_type": "code",
   "execution_count": 4,
   "metadata": {},
   "outputs": [
    {
     "data": {
      "text/plain": [
       "(10544170, 51)"
      ]
     },
     "execution_count": 4,
     "metadata": {},
     "output_type": "execute_result"
    }
   ],
   "source": [
    "del df1['Unnamed: 0']\n",
    "df1.shape"
   ]
  },
  {
   "cell_type": "markdown",
   "metadata": {},
   "source": [
    "### Create Label Index"
   ]
  },
  {
   "cell_type": "code",
   "execution_count": 7,
   "metadata": {},
   "outputs": [
    {
     "data": {
      "text/plain": [
       "OPEN         74267\n",
       "VOLUNTARY     6842\n",
       "Name: ATTRITION_FLAG, dtype: int64"
      ]
     },
     "execution_count": 7,
     "metadata": {},
     "output_type": "execute_result"
    }
   ],
   "source": [
    "Class_Distribution_check = df1.sort_values(['Account_Number','MISDATE'], ascending=[True, False])\n",
    "Class_Distribution_check = Class_Distribution_check.reset_index(drop=True)\n",
    "Class_Distribution_check = Class_Distribution_check.groupby(['Account_Number']).head(1)\n",
    "Class_Distribution_check = Class_Distribution_check.reset_index(drop=True)\n",
    "Class_Distribution_check = pd.DataFrame(Class_Distribution_check)\n",
    "Class_Distribution_check = Class_Distribution_check.reset_index(drop=True)\n",
    "Class_Distribution_check['ATTRITION_FLAG'].value_counts()"
   ]
  },
  {
   "cell_type": "code",
   "execution_count": 8,
   "metadata": {},
   "outputs": [
    {
     "name": "stderr",
     "output_type": "stream",
     "text": [
      "C:\\Anaconda\\lib\\site-packages\\ipykernel\\__main__.py:2: SettingWithCopyWarning: \n",
      "A value is trying to be set on a copy of a slice from a DataFrame.\n",
      "Try using .loc[row_indexer,col_indexer] = value instead\n",
      "\n",
      "See the caveats in the documentation: http://pandas.pydata.org/pandas-docs/stable/indexing.html#indexing-view-versus-copy\n",
      "  from ipykernel import kernelapp as app\n"
     ]
    }
   ],
   "source": [
    "Attrits = Class_Distribution_check[(Class_Distribution_check['ATTRITION_FLAG'] == 'VOLUNTARY')]\n",
    "Attrits['date'] = pd.to_datetime(Attrits['MISDATE'], format='%Y-%m-%d')\n",
    "#Attrits['ATTRITION_FLAG'].groupby([Attrits['date'].dt.year, Attrits['date'].dt.week]).count().plot(kind=\"bar\", figsize=(25,15))"
   ]
  },
  {
   "cell_type": "code",
   "execution_count": 9,
   "metadata": {
    "collapsed": true
   },
   "outputs": [],
   "source": [
    "Attrits.to_csv('Attrits.csv',sep=',',encoding='utf-8')"
   ]
  },
  {
   "cell_type": "code",
   "execution_count": 11,
   "metadata": {},
   "outputs": [
    {
     "data": {
      "text/plain": [
       "OPEN         74267\n",
       "VOLUNTARY     6842\n",
       "Name: ATTRITION_FLAG, dtype: int64"
      ]
     },
     "execution_count": 11,
     "metadata": {},
     "output_type": "execute_result"
    },
    {
     "data": {
      "text/html": [
       "<div>\n",
       "<style scoped>\n",
       "    .dataframe tbody tr th:only-of-type {\n",
       "        vertical-align: middle;\n",
       "    }\n",
       "\n",
       "    .dataframe tbody tr th {\n",
       "        vertical-align: top;\n",
       "    }\n",
       "\n",
       "    .dataframe thead th {\n",
       "        text-align: right;\n",
       "    }\n",
       "</style>\n",
       "<table border=\"1\" class=\"dataframe\">\n",
       "  <thead>\n",
       "    <tr style=\"text-align: right;\">\n",
       "      <th></th>\n",
       "      <th>Account_Number</th>\n",
       "      <th>ATTRITION_FLAG</th>\n",
       "    </tr>\n",
       "  </thead>\n",
       "  <tbody>\n",
       "    <tr>\n",
       "      <th>0</th>\n",
       "      <td>MAFF_ACCT_0000002125</td>\n",
       "      <td>OPEN</td>\n",
       "    </tr>\n",
       "  </tbody>\n",
       "</table>\n",
       "</div>"
      ],
      "text/plain": [
       "         Account_Number ATTRITION_FLAG\n",
       "0  MAFF_ACCT_0000002125           OPEN"
      ]
     },
     "execution_count": 11,
     "metadata": {},
     "output_type": "execute_result"
    }
   ],
   "source": [
    "Labels = df1.sort_values(['Account_Number','MISDATE'], ascending=[True, False])\n",
    "Labels = Labels.groupby(['Account_Number']).head(1)\n",
    "\n",
    "Labels1 = pd.DataFrame(Labels.groupby(['Account_Number'])['ATTRITION_FLAG'].apply(' '.join))\n",
    "Labels1.loc[Labels1['ATTRITION_FLAG'].str.contains('VOLUNTARY'), 'ATTRITION_FLAG'] = 'VOLUNTARY'\n",
    "Labels1.loc[Labels1['ATTRITION_FLAG'].str.contains('OPEN'), 'ATTRITION_FLAG'] = 'OPEN'\n",
    "\n",
    "Labels = pd.DataFrame(Labels1)\n",
    "Labels = Labels.reset_index()\n",
    "Labels = Labels[['Account_Number','ATTRITION_FLAG']]\n",
    "Labels['ATTRITION_FLAG'].value_counts()\n",
    "Labels.head(1)"
   ]
  },
  {
   "cell_type": "markdown",
   "metadata": {},
   "source": [
    "### Write out Account Attrition Labels"
   ]
  },
  {
   "cell_type": "code",
   "execution_count": 12,
   "metadata": {
    "collapsed": true
   },
   "outputs": [],
   "source": [
    "Labels.to_csv('Account_Churn_Labels.csv',sep=',',encoding='utf-8')"
   ]
  },
  {
   "cell_type": "markdown",
   "metadata": {},
   "source": [
    "### Remove Predictive Period"
   ]
  },
  {
   "cell_type": "code",
   "execution_count": 13,
   "metadata": {},
   "outputs": [
    {
     "data": {
      "text/plain": [
       "(9408644, 50)"
      ]
     },
     "execution_count": 13,
     "metadata": {},
     "output_type": "execute_result"
    },
    {
     "data": {
      "text/html": [
       "<div>\n",
       "<style scoped>\n",
       "    .dataframe tbody tr th:only-of-type {\n",
       "        vertical-align: middle;\n",
       "    }\n",
       "\n",
       "    .dataframe tbody tr th {\n",
       "        vertical-align: top;\n",
       "    }\n",
       "\n",
       "    .dataframe thead th {\n",
       "        text-align: right;\n",
       "    }\n",
       "</style>\n",
       "<table border=\"1\" class=\"dataframe\">\n",
       "  <thead>\n",
       "    <tr style=\"text-align: right;\">\n",
       "      <th></th>\n",
       "      <th>Account_Number</th>\n",
       "      <th>MISDATE</th>\n",
       "      <th>ACCOUNT_CREATION_DATE</th>\n",
       "      <th>ACTUAL_CURRENT_BALANCE</th>\n",
       "      <th>Credit_Limit</th>\n",
       "      <th>LAST_ACTIVITY_DATE</th>\n",
       "      <th>Last_Statement_Closing_Balance</th>\n",
       "      <th>Last_Statement_Date</th>\n",
       "      <th>Last_Statement_Minimum_Due</th>\n",
       "      <th>Monthly_Salary</th>\n",
       "      <th>...</th>\n",
       "      <th>Transaction_Count_Payment</th>\n",
       "      <th>Tranasaction_Count_Spend_ESS</th>\n",
       "      <th>Tranasaction_Count_Spend_NON_ESS</th>\n",
       "      <th>Tranasaction_Count_Spend_CASH</th>\n",
       "      <th>Transaction_Count_Foreclosure</th>\n",
       "      <th>Tranasaction_Count_BT</th>\n",
       "      <th>Tranasaction_Count_LOP</th>\n",
       "      <th>Tranasaction_Count_EPP</th>\n",
       "      <th>Tranasaction_Count_Violation_Fee</th>\n",
       "      <th>Timestep</th>\n",
       "    </tr>\n",
       "  </thead>\n",
       "  <tbody>\n",
       "    <tr>\n",
       "      <th>14</th>\n",
       "      <td>MAFF_ACCT_0000002125</td>\n",
       "      <td>2017-09-07</td>\n",
       "      <td>2012-10-24</td>\n",
       "      <td>17245.45</td>\n",
       "      <td>18000</td>\n",
       "      <td>2017-09-07</td>\n",
       "      <td>4490</td>\n",
       "      <td>2017-08-10</td>\n",
       "      <td>224</td>\n",
       "      <td>9000</td>\n",
       "      <td>...</td>\n",
       "      <td>0.0</td>\n",
       "      <td>1</td>\n",
       "      <td>0</td>\n",
       "      <td>0</td>\n",
       "      <td>0.0</td>\n",
       "      <td>0</td>\n",
       "      <td>0</td>\n",
       "      <td>0</td>\n",
       "      <td>0</td>\n",
       "      <td>15</td>\n",
       "    </tr>\n",
       "  </tbody>\n",
       "</table>\n",
       "<p>1 rows × 50 columns</p>\n",
       "</div>"
      ],
      "text/plain": [
       "          Account_Number    MISDATE ACCOUNT_CREATION_DATE  \\\n",
       "14  MAFF_ACCT_0000002125 2017-09-07            2012-10-24   \n",
       "\n",
       "    ACTUAL_CURRENT_BALANCE  Credit_Limit LAST_ACTIVITY_DATE  \\\n",
       "14                17245.45         18000         2017-09-07   \n",
       "\n",
       "    Last_Statement_Closing_Balance Last_Statement_Date  \\\n",
       "14                            4490          2017-08-10   \n",
       "\n",
       "    Last_Statement_Minimum_Due  Monthly_Salary    ...     \\\n",
       "14                         224            9000    ...      \n",
       "\n",
       "    Transaction_Count_Payment Tranasaction_Count_Spend_ESS  \\\n",
       "14                        0.0                            1   \n",
       "\n",
       "    Tranasaction_Count_Spend_NON_ESS Tranasaction_Count_Spend_CASH  \\\n",
       "14                                 0                             0   \n",
       "\n",
       "    Transaction_Count_Foreclosure  Tranasaction_Count_BT  \\\n",
       "14                            0.0                      0   \n",
       "\n",
       "   Tranasaction_Count_LOP  Tranasaction_Count_EPP  \\\n",
       "14                      0                       0   \n",
       "\n",
       "    Tranasaction_Count_Violation_Fee  Timestep  \n",
       "14                                 0        15  \n",
       "\n",
       "[1 rows x 50 columns]"
      ]
     },
     "execution_count": 13,
     "metadata": {},
     "output_type": "execute_result"
    }
   ],
   "source": [
    "#in this case we have a 130 timestep dataset.  Removing latest 14 days and renumbering the timesteps.\n",
    "df1 = df1.sort_values(['Account_Number', 'MISDATE'], ascending=[True, False])\n",
    "df1 = df1.reset_index(drop=True)\n",
    "df1 = df1.groupby('Account_Number').tail(116)\n",
    "df1 = pd.DataFrame(df1)\n",
    "del df1['ATTRITION_FLAG']\n",
    "df1.shape\n",
    "df1.head(1)"
   ]
  },
  {
   "cell_type": "markdown",
   "metadata": {},
   "source": [
    "### Rewrite Timestep"
   ]
  },
  {
   "cell_type": "code",
   "execution_count": 14,
   "metadata": {},
   "outputs": [
    {
     "data": {
      "text/plain": [
       "(9408644, 50)"
      ]
     },
     "execution_count": 14,
     "metadata": {},
     "output_type": "execute_result"
    },
    {
     "data": {
      "text/html": [
       "<div>\n",
       "<style scoped>\n",
       "    .dataframe tbody tr th:only-of-type {\n",
       "        vertical-align: middle;\n",
       "    }\n",
       "\n",
       "    .dataframe tbody tr th {\n",
       "        vertical-align: top;\n",
       "    }\n",
       "\n",
       "    .dataframe thead th {\n",
       "        text-align: right;\n",
       "    }\n",
       "</style>\n",
       "<table border=\"1\" class=\"dataframe\">\n",
       "  <thead>\n",
       "    <tr style=\"text-align: right;\">\n",
       "      <th></th>\n",
       "      <th>Account_Number</th>\n",
       "      <th>MISDATE</th>\n",
       "      <th>ACCOUNT_CREATION_DATE</th>\n",
       "      <th>ACTUAL_CURRENT_BALANCE</th>\n",
       "      <th>Credit_Limit</th>\n",
       "      <th>LAST_ACTIVITY_DATE</th>\n",
       "      <th>Last_Statement_Closing_Balance</th>\n",
       "      <th>Last_Statement_Date</th>\n",
       "      <th>Last_Statement_Minimum_Due</th>\n",
       "      <th>Monthly_Salary</th>\n",
       "      <th>...</th>\n",
       "      <th>Transaction_Count_Payment</th>\n",
       "      <th>Tranasaction_Count_Spend_ESS</th>\n",
       "      <th>Tranasaction_Count_Spend_NON_ESS</th>\n",
       "      <th>Tranasaction_Count_Spend_CASH</th>\n",
       "      <th>Transaction_Count_Foreclosure</th>\n",
       "      <th>Tranasaction_Count_BT</th>\n",
       "      <th>Tranasaction_Count_LOP</th>\n",
       "      <th>Tranasaction_Count_EPP</th>\n",
       "      <th>Tranasaction_Count_Violation_Fee</th>\n",
       "      <th>Timestep</th>\n",
       "    </tr>\n",
       "  </thead>\n",
       "  <tbody>\n",
       "    <tr>\n",
       "      <th>0</th>\n",
       "      <td>MAFF_ACCT_0000002125</td>\n",
       "      <td>2017-09-07</td>\n",
       "      <td>2012-10-24</td>\n",
       "      <td>17245.45</td>\n",
       "      <td>18000</td>\n",
       "      <td>2017-09-07</td>\n",
       "      <td>4490</td>\n",
       "      <td>2017-08-10</td>\n",
       "      <td>224</td>\n",
       "      <td>9000</td>\n",
       "      <td>...</td>\n",
       "      <td>0.0</td>\n",
       "      <td>1</td>\n",
       "      <td>0</td>\n",
       "      <td>0</td>\n",
       "      <td>0.0</td>\n",
       "      <td>0</td>\n",
       "      <td>0</td>\n",
       "      <td>0</td>\n",
       "      <td>0</td>\n",
       "      <td>1</td>\n",
       "    </tr>\n",
       "  </tbody>\n",
       "</table>\n",
       "<p>1 rows × 50 columns</p>\n",
       "</div>"
      ],
      "text/plain": [
       "         Account_Number    MISDATE ACCOUNT_CREATION_DATE  \\\n",
       "0  MAFF_ACCT_0000002125 2017-09-07            2012-10-24   \n",
       "\n",
       "   ACTUAL_CURRENT_BALANCE  Credit_Limit LAST_ACTIVITY_DATE  \\\n",
       "0                17245.45         18000         2017-09-07   \n",
       "\n",
       "   Last_Statement_Closing_Balance Last_Statement_Date  \\\n",
       "0                            4490          2017-08-10   \n",
       "\n",
       "   Last_Statement_Minimum_Due  Monthly_Salary    ...     \\\n",
       "0                         224            9000    ...      \n",
       "\n",
       "   Transaction_Count_Payment Tranasaction_Count_Spend_ESS  \\\n",
       "0                        0.0                            1   \n",
       "\n",
       "   Tranasaction_Count_Spend_NON_ESS Tranasaction_Count_Spend_CASH  \\\n",
       "0                                 0                             0   \n",
       "\n",
       "   Transaction_Count_Foreclosure  Tranasaction_Count_BT  \\\n",
       "0                            0.0                      0   \n",
       "\n",
       "  Tranasaction_Count_LOP  Tranasaction_Count_EPP  \\\n",
       "0                      0                       0   \n",
       "\n",
       "   Tranasaction_Count_Violation_Fee  Timestep  \n",
       "0                                 0         1  \n",
       "\n",
       "[1 rows x 50 columns]"
      ]
     },
     "execution_count": 14,
     "metadata": {},
     "output_type": "execute_result"
    }
   ],
   "source": [
    "df1 = df1.sort_values(['Account_Number', 'MISDATE'], ascending=[True, False])\n",
    "df1 = df1.reset_index(drop=True)\n",
    "df1['Timestep'] = df1.groupby(['Account_Number']).cumcount()+1\n",
    "df1.shape\n",
    "df1.head(1)"
   ]
  },
  {
   "cell_type": "markdown",
   "metadata": {},
   "source": [
    "### Add Trend Variables"
   ]
  },
  {
   "cell_type": "code",
   "execution_count": 15,
   "metadata": {},
   "outputs": [
    {
     "data": {
      "text/plain": [
       "Index(['Account_Number', 'MISDATE', 'ACCOUNT_CREATION_DATE',\n",
       "       'ACTUAL_CURRENT_BALANCE', 'Credit_Limit', 'LAST_ACTIVITY_DATE',\n",
       "       'Last_Statement_Closing_Balance', 'Last_Statement_Date',\n",
       "       'Last_Statement_Minimum_Due', 'Monthly_Salary', 'Months_On_Book',\n",
       "       'Next_Statement_Date', 'Monthly_Salary.1', 'Next_Statement_Date.1',\n",
       "       'No_Of_Due_Stmt', 'Product', 'Product_Fee_Type', 'Days_On_Book',\n",
       "       'Days_From_Statement', 'Days_from_Last_Activity', 'Incident_Category',\n",
       "       'Incident_Type', 'Incident_Cat_Sequence_Daily',\n",
       "       'Incident_Type_Sequence_Daily', 'Incident_Num', 'APR_Rate_Low',\n",
       "       'APR_Rate_Med', 'APR_Rate_High', 'Prod_Cat_Voyager',\n",
       "       'Prod_Cat_Cashback', 'Nationality_Cat', 'Perc_Credit_Limit_Used',\n",
       "       'POINTS_REDEEMED', 'POINTS_BALANCE_CLOSING', 'POINTS_EARNED',\n",
       "       'Billing_Amount_Sum_Payment', 'Billing_Amount_Sum_Spend_ESS',\n",
       "       'Billing_Amount_Sum_Spend_NON_ESS', 'Billing_Amount_Spend_CASH',\n",
       "       'Billing_Amount_Violation_Fee', 'Transaction_Count_Payment',\n",
       "       'Tranasaction_Count_Spend_ESS', 'Tranasaction_Count_Spend_NON_ESS',\n",
       "       'Tranasaction_Count_Spend_CASH', 'Transaction_Count_Foreclosure',\n",
       "       'Tranasaction_Count_BT', 'Tranasaction_Count_LOP',\n",
       "       'Tranasaction_Count_EPP', 'Tranasaction_Count_Violation_Fee',\n",
       "       'Timestep'],\n",
       "      dtype='object')"
      ]
     },
     "execution_count": 15,
     "metadata": {},
     "output_type": "execute_result"
    }
   ],
   "source": [
    "#Adding after clipping predictive period to avoid information leakage.\n",
    "df1.columns"
   ]
  },
  {
   "cell_type": "markdown",
   "metadata": {},
   "source": [
    "### Create Rolling Balance Gradients Features"
   ]
  },
  {
   "cell_type": "code",
   "execution_count": 16,
   "metadata": {},
   "outputs": [
    {
     "data": {
      "text/html": [
       "<div>\n",
       "<style scoped>\n",
       "    .dataframe tbody tr th:only-of-type {\n",
       "        vertical-align: middle;\n",
       "    }\n",
       "\n",
       "    .dataframe tbody tr th {\n",
       "        vertical-align: top;\n",
       "    }\n",
       "\n",
       "    .dataframe thead th {\n",
       "        text-align: right;\n",
       "    }\n",
       "</style>\n",
       "<table border=\"1\" class=\"dataframe\">\n",
       "  <thead>\n",
       "    <tr style=\"text-align: right;\">\n",
       "      <th></th>\n",
       "      <th>Account_Number</th>\n",
       "      <th>MISDATE</th>\n",
       "      <th>ACCOUNT_CREATION_DATE</th>\n",
       "      <th>ACTUAL_CURRENT_BALANCE</th>\n",
       "      <th>Credit_Limit</th>\n",
       "      <th>LAST_ACTIVITY_DATE</th>\n",
       "      <th>Last_Statement_Closing_Balance</th>\n",
       "      <th>Last_Statement_Date</th>\n",
       "      <th>Last_Statement_Minimum_Due</th>\n",
       "      <th>Monthly_Salary</th>\n",
       "      <th>...</th>\n",
       "      <th>Tranasaction_Count_LOP</th>\n",
       "      <th>Tranasaction_Count_EPP</th>\n",
       "      <th>Tranasaction_Count_Violation_Fee</th>\n",
       "      <th>Timestep</th>\n",
       "      <th>Balance_Gradient_window_14</th>\n",
       "      <th>Balance_Gradient_window_28</th>\n",
       "      <th>Balance_Gradient_window_74</th>\n",
       "      <th>Perc_Used_Gradient_window_14</th>\n",
       "      <th>Perc_Used_Gradient_window_28</th>\n",
       "      <th>Perc_Used_Gradient_window_74</th>\n",
       "    </tr>\n",
       "  </thead>\n",
       "  <tbody>\n",
       "    <tr>\n",
       "      <th>9408642</th>\n",
       "      <td>MAFF_ACCT_0000266356</td>\n",
       "      <td>2017-01-14</td>\n",
       "      <td>2016-09-29</td>\n",
       "      <td>-962.0</td>\n",
       "      <td>30000</td>\n",
       "      <td>2017-01-02</td>\n",
       "      <td>-962</td>\n",
       "      <td>2017-01-05</td>\n",
       "      <td>0</td>\n",
       "      <td>700000</td>\n",
       "      <td>...</td>\n",
       "      <td>0</td>\n",
       "      <td>0</td>\n",
       "      <td>0</td>\n",
       "      <td>115</td>\n",
       "      <td>-657.64286</td>\n",
       "      <td>-328.82143</td>\n",
       "      <td>-135.00405</td>\n",
       "      <td>-0.02192</td>\n",
       "      <td>-0.01096</td>\n",
       "      <td>-0.0045</td>\n",
       "    </tr>\n",
       "    <tr>\n",
       "      <th>9408643</th>\n",
       "      <td>MAFF_ACCT_0000266356</td>\n",
       "      <td>2017-01-13</td>\n",
       "      <td>2016-09-29</td>\n",
       "      <td>-962.0</td>\n",
       "      <td>30000</td>\n",
       "      <td>2017-01-02</td>\n",
       "      <td>-962</td>\n",
       "      <td>2017-01-05</td>\n",
       "      <td>0</td>\n",
       "      <td>700000</td>\n",
       "      <td>...</td>\n",
       "      <td>0</td>\n",
       "      <td>0</td>\n",
       "      <td>0</td>\n",
       "      <td>116</td>\n",
       "      <td>-657.64286</td>\n",
       "      <td>-328.82143</td>\n",
       "      <td>-135.00405</td>\n",
       "      <td>-0.02192</td>\n",
       "      <td>-0.01096</td>\n",
       "      <td>-0.0045</td>\n",
       "    </tr>\n",
       "  </tbody>\n",
       "</table>\n",
       "<p>2 rows × 56 columns</p>\n",
       "</div>"
      ],
      "text/plain": [
       "               Account_Number    MISDATE ACCOUNT_CREATION_DATE  \\\n",
       "9408642  MAFF_ACCT_0000266356 2017-01-14            2016-09-29   \n",
       "9408643  MAFF_ACCT_0000266356 2017-01-13            2016-09-29   \n",
       "\n",
       "         ACTUAL_CURRENT_BALANCE  Credit_Limit LAST_ACTIVITY_DATE  \\\n",
       "9408642                  -962.0         30000         2017-01-02   \n",
       "9408643                  -962.0         30000         2017-01-02   \n",
       "\n",
       "         Last_Statement_Closing_Balance Last_Statement_Date  \\\n",
       "9408642                            -962          2017-01-05   \n",
       "9408643                            -962          2017-01-05   \n",
       "\n",
       "         Last_Statement_Minimum_Due  Monthly_Salary  \\\n",
       "9408642                           0          700000   \n",
       "9408643                           0          700000   \n",
       "\n",
       "                     ...               Tranasaction_Count_LOP  \\\n",
       "9408642              ...                                    0   \n",
       "9408643              ...                                    0   \n",
       "\n",
       "        Tranasaction_Count_EPP  Tranasaction_Count_Violation_Fee Timestep  \\\n",
       "9408642                      0                                 0      115   \n",
       "9408643                      0                                 0      116   \n",
       "\n",
       "         Balance_Gradient_window_14  Balance_Gradient_window_28  \\\n",
       "9408642                  -657.64286                  -328.82143   \n",
       "9408643                  -657.64286                  -328.82143   \n",
       "\n",
       "        Balance_Gradient_window_74  Perc_Used_Gradient_window_14  \\\n",
       "9408642                 -135.00405                      -0.02192   \n",
       "9408643                 -135.00405                      -0.02192   \n",
       "\n",
       "         Perc_Used_Gradient_window_28  Perc_Used_Gradient_window_74  \n",
       "9408642                      -0.01096                       -0.0045  \n",
       "9408643                      -0.01096                       -0.0045  \n",
       "\n",
       "[2 rows x 56 columns]"
      ]
     },
     "execution_count": 16,
     "metadata": {},
     "output_type": "execute_result"
    }
   ],
   "source": [
    "df1['Balance_Gradient_window_14'] = np.gradient(df1['ACTUAL_CURRENT_BALANCE'].rolling(center=False,window=14).mean()).astype('float')\n",
    "df1['Balance_Gradient_window_28'] = np.gradient(df1['ACTUAL_CURRENT_BALANCE'].rolling(center=False,window=28).mean()).astype('float')\n",
    "df1['Balance_Gradient_window_74'] = np.gradient(df1['ACTUAL_CURRENT_BALANCE'].rolling(center=False,window=74).mean()).astype('float')\n",
    "df1['Balance_Gradient_window_14']=df1['Balance_Gradient_window_14'].replace(-np.nan, 0).replace(np.nan, 0).round(5)\n",
    "df1['Balance_Gradient_window_28']=df1['Balance_Gradient_window_28'].replace(-np.nan, 0).replace(np.nan, 0).round(5)\n",
    "df1['Balance_Gradient_window_74']=df1['Balance_Gradient_window_74'].replace(-np.nan, 0).replace(np.nan, 0).round(5)\n",
    "df1['Perc_Used_Gradient_window_14'] = np.gradient(df1['Perc_Credit_Limit_Used'].rolling(center=False,window=14).mean()).astype('float')\n",
    "df1['Perc_Used_Gradient_window_28'] = np.gradient(df1['Perc_Credit_Limit_Used'].rolling(center=False,window=28).mean()).astype('float')\n",
    "df1['Perc_Used_Gradient_window_74'] = np.gradient(df1['Perc_Credit_Limit_Used'].rolling(center=False,window=74).mean()).astype('float')\n",
    "df1['Perc_Used_Gradient_window_14']=df1['Perc_Used_Gradient_window_14'].replace(-np.nan, 0).replace(np.nan, 0).round(5)\n",
    "df1['Perc_Used_Gradient_window_28']=df1['Perc_Used_Gradient_window_28'].replace(-np.nan, 0).replace(np.nan, 0).round(5)\n",
    "df1['Perc_Used_Gradient_window_74']=df1['Perc_Used_Gradient_window_74'].replace(-np.nan, 0).replace(np.nan, 0).round(5)\n",
    "df1.tail(2)"
   ]
  },
  {
   "cell_type": "code",
   "execution_count": 17,
   "metadata": {},
   "outputs": [
    {
     "data": {
      "text/plain": [
       "(9408644, 56)"
      ]
     },
     "execution_count": 17,
     "metadata": {},
     "output_type": "execute_result"
    }
   ],
   "source": [
    "df1.shape"
   ]
  },
  {
   "cell_type": "code",
   "execution_count": 18,
   "metadata": {},
   "outputs": [
    {
     "data": {
      "text/plain": [
       "Index(['Account_Number', 'MISDATE', 'ACCOUNT_CREATION_DATE',\n",
       "       'ACTUAL_CURRENT_BALANCE', 'Credit_Limit', 'LAST_ACTIVITY_DATE',\n",
       "       'Last_Statement_Closing_Balance', 'Last_Statement_Date',\n",
       "       'Last_Statement_Minimum_Due', 'Monthly_Salary', 'Months_On_Book',\n",
       "       'Next_Statement_Date', 'Monthly_Salary.1', 'Next_Statement_Date.1',\n",
       "       'No_Of_Due_Stmt', 'Product', 'Product_Fee_Type', 'Days_On_Book',\n",
       "       'Days_From_Statement', 'Days_from_Last_Activity', 'Incident_Category',\n",
       "       'Incident_Type', 'Incident_Cat_Sequence_Daily',\n",
       "       'Incident_Type_Sequence_Daily', 'Incident_Num', 'APR_Rate_Low',\n",
       "       'APR_Rate_Med', 'APR_Rate_High', 'Prod_Cat_Voyager',\n",
       "       'Prod_Cat_Cashback', 'Nationality_Cat', 'Perc_Credit_Limit_Used',\n",
       "       'POINTS_REDEEMED', 'POINTS_BALANCE_CLOSING', 'POINTS_EARNED',\n",
       "       'Billing_Amount_Sum_Payment', 'Billing_Amount_Sum_Spend_ESS',\n",
       "       'Billing_Amount_Sum_Spend_NON_ESS', 'Billing_Amount_Spend_CASH',\n",
       "       'Billing_Amount_Violation_Fee', 'Transaction_Count_Payment',\n",
       "       'Tranasaction_Count_Spend_ESS', 'Tranasaction_Count_Spend_NON_ESS',\n",
       "       'Tranasaction_Count_Spend_CASH', 'Transaction_Count_Foreclosure',\n",
       "       'Tranasaction_Count_BT', 'Tranasaction_Count_LOP',\n",
       "       'Tranasaction_Count_EPP', 'Tranasaction_Count_Violation_Fee',\n",
       "       'Timestep', 'Balance_Gradient_window_14', 'Balance_Gradient_window_28',\n",
       "       'Balance_Gradient_window_74', 'Perc_Used_Gradient_window_14',\n",
       "       'Perc_Used_Gradient_window_28', 'Perc_Used_Gradient_window_74'],\n",
       "      dtype='object')"
      ]
     },
     "execution_count": 18,
     "metadata": {},
     "output_type": "execute_result"
    }
   ],
   "source": [
    "df1 = df1.reset_index(drop=True)\n",
    "df1.columns"
   ]
  },
  {
   "cell_type": "markdown",
   "metadata": {},
   "source": [
    "### Save Local Copy of Entire Data File"
   ]
  },
  {
   "cell_type": "code",
   "execution_count": 20,
   "metadata": {
    "collapsed": true
   },
   "outputs": [],
   "source": [
    "#Save intermediate working file.\n",
    "df1 = pd.DataFrame(df1)\n",
    "df1.to_csv('Complete_Prepped_DataFrame.csv',sep=',',encoding='utf-8')"
   ]
  },
  {
   "cell_type": "markdown",
   "metadata": {},
   "source": [
    "## Seperate Text and Categorical Series with Augmentations and Save File"
   ]
  },
  {
   "cell_type": "code",
   "execution_count": 21,
   "metadata": {},
   "outputs": [
    {
     "data": {
      "text/plain": [
       "Index(['Account_Number', 'Days_On_Book', 'Days_From_Statement',\n",
       "       'Days_from_Last_Activity', 'Incident_Num', 'Incident_Category',\n",
       "       'Incident_Type', 'Incident_Cat_Sequence_Daily',\n",
       "       'Incident_Type_Sequence_Daily', 'Perc_Credit_Limit_Used', 'MISDATE'],\n",
       "      dtype='object')"
      ]
     },
     "execution_count": 21,
     "metadata": {},
     "output_type": "execute_result"
    }
   ],
   "source": [
    "df_Categorical = df1[['Account_Number', 'Days_On_Book', 'Days_From_Statement', 'Days_from_Last_Activity','Incident_Num','Incident_Category', 'Incident_Type', 'Incident_Cat_Sequence_Daily',\n",
    "       'Incident_Type_Sequence_Daily','Perc_Credit_Limit_Used','MISDATE' ]]\n",
    "df_Categorical.columns"
   ]
  },
  {
   "cell_type": "code",
   "execution_count": null,
   "metadata": {
    "collapsed": true
   },
   "outputs": [],
   "source": [
    "#Save intermediate working file.\n",
    "df_Categorical = pd.DataFrame(df_Categorical)\n",
    "df_Categorical.to_csv('Categorical_dataframe.csv',sep=',',encoding='utf-8')"
   ]
  },
  {
   "cell_type": "markdown",
   "metadata": {},
   "source": [
    "### Seperate Numerical Series and Save File"
   ]
  },
  {
   "cell_type": "code",
   "execution_count": null,
   "metadata": {
    "collapsed": true
   },
   "outputs": [],
   "source": [
    "df1['Billing_Amount_Sum_Payment']=df1['Billing_Amount_Sum_Payment'].replace(-np.nan, 0).replace(np.nan, 0)        \n",
    "#df1.isnull().sum()"
   ]
  },
  {
   "cell_type": "code",
   "execution_count": null,
   "metadata": {},
   "outputs": [],
   "source": [
    "df1.columns"
   ]
  },
  {
   "cell_type": "code",
   "execution_count": null,
   "metadata": {
    "collapsed": true
   },
   "outputs": [],
   "source": [
    "df_Numerical = df1[[\n",
    "    'Account_Number', 'MISDATE',  \n",
    "       'ACTUAL_CURRENT_BALANCE', 'Credit_Limit',\n",
    "       'Last_Statement_Closing_Balance', \n",
    "       'Last_Statement_Minimum_Due', 'Monthly_Salary', 'Months_On_Book',\n",
    "        'No_Of_Due_Stmt',\n",
    "       'Days_On_Book', 'Days_From_Statement', 'Days_from_Last_Activity',\n",
    "    \n",
    "    \n",
    "       'Incident_Num', 'APR_Rate_Low',\n",
    "       'APR_Rate_Med', 'APR_Rate_High', 'Prod_Cat_Voyager',\n",
    "       'Prod_Cat_Cashback', 'Nationality_Cat', 'Perc_Credit_Limit_Used',\n",
    "       'POINTS_REDEEMED', 'POINTS_BALANCE_CLOSING', 'POINTS_EARNED',\n",
    "       'Billing_Amount_Sum_Payment', 'Billing_Amount_Sum_Spend_ESS',\n",
    "       'Billing_Amount_Sum_Spend_NON_ESS', 'Billing_Amount_Spend_CASH',\n",
    "       'Billing_Amount_Violation_Fee', 'Transaction_Count_Payment',\n",
    "       'Transaction_Count_Spend_ESS', 'Transaction_Count_Spend_NON_ESS',\n",
    "       'Transaction_Count_Spend_CASH', 'Transaction_Count_Foreclosure',\n",
    "       'Transaction_Count_BT', 'Transaction_Count_LOP',\n",
    "       'Transaction_Count_EPP', 'Transaction_Count_Violation_Fee',\n",
    "       'Timestep', 'Balance_Gradient_window_14', 'Balance_Gradient_window_28',\n",
    "       'Balance_Gradient_window_74', 'Perc_Used_Gradient_window_14',\n",
    "       'Perc_Used_Gradient_window_28', 'Perc_Used_Gradient_window_74'\n",
    "]]\n",
    "\n",
    "\n"
   ]
  },
  {
   "cell_type": "code",
   "execution_count": null,
   "metadata": {},
   "outputs": [],
   "source": [
    "df_Numerical.shape\n",
    "df_Numerical.dtypes\n"
   ]
  },
  {
   "cell_type": "code",
   "execution_count": null,
   "metadata": {},
   "outputs": [],
   "source": [
    "df_Numerical = pd.DataFrame(df_Numerical)\n",
    "df_Numerical.head(4)"
   ]
  },
  {
   "cell_type": "code",
   "execution_count": null,
   "metadata": {
    "collapsed": true
   },
   "outputs": [],
   "source": [
    "df_Numerical.to_csv('Numerical_dataframe.csv',sep=',',encoding='utf-8')"
   ]
  },
  {
   "cell_type": "code",
   "execution_count": null,
   "metadata": {
    "collapsed": true
   },
   "outputs": [],
   "source": []
  },
  {
   "cell_type": "markdown",
   "metadata": {},
   "source": [
    "### End -  Prepped Data Frames Script"
   ]
  },
  {
   "cell_type": "code",
   "execution_count": null,
   "metadata": {
    "collapsed": true
   },
   "outputs": [],
   "source": []
  }
 ],
 "metadata": {
  "kernelspec": {
   "display_name": "Python [conda root]",
   "language": "python",
   "name": "conda-root-py"
  },
  "language_info": {
   "codemirror_mode": {
    "name": "ipython",
    "version": 3
   },
   "file_extension": ".py",
   "mimetype": "text/x-python",
   "name": "python",
   "nbconvert_exporter": "python",
   "pygments_lexer": "ipython3",
   "version": "3.6.3"
  }
 },
 "nbformat": 4,
 "nbformat_minor": 2
}
